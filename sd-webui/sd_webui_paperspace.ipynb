{
 "cells": [
  {
   "cell_type": "markdown",
   "metadata": {},
   "source": [
    "## Stable Diffusion WebUI\n",
    "**Homepage :** [SD WebUI Complete setup](https://github.com/ffxvs/sd-webui-complete-setup)  \n",
    "**Guide :** [Paperspace Guide](https://github.com/ffxvs/sd-webui-complete-setup/wiki/Paperspace-Guide)"
   ]
  },
  {
   "cell_type": "markdown",
   "metadata": {
    "id": "AcADZumt8rYd",
    "tags": []
   },
   "source": [
    "## 1. Requirements"
   ]
  },
  {
   "cell_type": "markdown",
   "metadata": {
    "tags": []
   },
   "source": [
    "### 1.1. Initialization\n",
    "**REQUIRED EVERY TIME YOU START THE MACHINE**"
   ]
  },
  {
   "cell_type": "code",
   "execution_count": null,
   "metadata": {
    "collapsed": false,
    "jupyter": {
     "outputs_hidden": false
    }
   },
   "outputs": [],
   "source": [
    "import os\n",
    "os.chdir('/')\n",
    "from internal.main import *\n",
    "\n",
    "initialization()"
   ]
  },
  {
   "cell_type": "markdown",
   "metadata": {},
   "source": [
    "### 1.2. API Key\n",
    "**Save your API Key in shared storage.**  \n",
    "Some models hosted by CivitAI require you to login to download.  \n",
    "Create an API key in [CivitAI user settings](https://civitai.com/user/account)"
   ]
  },
  {
   "cell_type": "code",
   "execution_count": null,
   "metadata": {},
   "outputs": [],
   "source": [
    "# Run this cell then paste your API Key to the textfield\n",
    "save_api_key()\n"
   ]
  },
  {
   "cell_type": "markdown",
   "metadata": {
    "collapsed": false,
    "jupyter": {
     "outputs_hidden": false
    }
   },
   "source": [
    "### 1.3. Temporary Storage Settings (Optional)\n",
    "\n",
    "Store files in the temporary storage. Settings will persist even if the machine is restarted."
   ]
  },
  {
   "cell_type": "code",
   "execution_count": null,
   "metadata": {
    "collapsed": false,
    "jupyter": {
     "outputs_hidden": false
    }
   },
   "outputs": [],
   "source": [
    "# When turning on/off the settings, all files in the associated directory will be deleted.\n",
    "# So you need to download them again.\n",
    "\n",
    "temp_storage_settings()"
   ]
  },
  {
   "cell_type": "markdown",
   "metadata": {
    "collapsed": false,
    "jupyter": {
     "outputs_hidden": false
    }
   },
   "source": [
    "## 2. WebUI Extensions \n",
    "If you find any broken extensions, please report them to me on GitHub."
   ]
  },
  {
   "cell_type": "markdown",
   "metadata": {
    "jp-MarkdownHeadingCollapsed": true
   },
   "source": [
    "#### • Built-in Extensions\n",
    "This is an information cell.  \n",
    "To install/update these extensions, run the `Extension List` cell below."
   ]
  },
  {
   "cell_type": "markdown",
   "metadata": {},
   "source": [
    "* [Aspect Ratio Helper](https://github.com/thomasasfk/sd-webui-aspect-ratio-helper)\n",
    "* [Canvas Zoom](https://github.com/richrobber2/canvas-zoom)\n",
    "* [Cleaner](https://github.com/novitalabs/sd-webui-cleaner)\n",
    "* [ControlNet](https://github.com/Mikubill/sd-webui-controlnet)\n",
    "* [Infinite Image Browsing](https://github.com/zanllp/sd-webui-infinite-image-browsing)\n",
    "* [img2img Hires Fix](https://github.com/Amadeus-AI/img2img-hires-fix)\n",
    "* [SD Delete Button](https://github.com/reforget-id/sd_delete_button)\n",
    "* [State](https://github.com/ilian6806/stable-diffusion-webui-state)\n",
    "* [Ultimate SD Upscale](https://github.com/Coyote-A/ultimate-upscale-for-automatic1111)"
   ]
  },
  {
   "cell_type": "markdown",
   "metadata": {
    "tags": [],
    "toc-hr-collapsed": true
   },
   "source": [
    "#### • Extension List"
   ]
  },
  {
   "cell_type": "code",
   "execution_count": null,
   "metadata": {
    "collapsed": false,
    "jupyter": {
     "outputs_hidden": false
    }
   },
   "outputs": [],
   "source": [
    "extensions_selection(builtin_exts_url, extensions_url)\n",
    "os.chdir(webui_path)\n"
   ]
  },
  {
   "cell_type": "markdown",
   "metadata": {
    "jp-MarkdownHeadingCollapsed": true,
    "tags": []
   },
   "source": [
    "#### • Install from URLs"
   ]
  },
  {
   "cell_type": "code",
   "execution_count": null,
   "metadata": {
    "tags": []
   },
   "outputs": [],
   "source": [
    "# UPDATE EXTENSIONS\n",
    "update_exts = False\n",
    "\n",
    "# Install extensions from URL\n",
    "other_exts = []\n",
    "\n",
    "\n",
    "#########################################################################################################\n",
    "\n",
    "install_other_exts(other_exts, update_exts)\n",
    "os.chdir(webui_path)\n",
    "completed_message()"
   ]
  },
  {
   "cell_type": "markdown",
   "metadata": {
    "id": "AWfpRnLwfxVf",
    "tags": []
   },
   "source": [
    "## 3. Launch WebUI\n",
    "**Before running this cell**, download models using `sd15_resource_lists.ipynb` or `sdxl_resource_lists.ipynb` or `flux_resource_lists.ipynb`.  \n",
    "Run this cell and wait until `Model loaded in *.*s ...` appears.  \n",
    "Then, click link `https://tensorboard-xxxxx.paperspacegradient.com` or ngrok link `https://xxxxx.ngrok-free.app` to open WebUI.  \n",
    "Always watch the output log to track image generation progress or errors. "
   ]
  },
  {
   "cell_type": "code",
   "execution_count": null,
   "metadata": {
    "cellView": "form",
    "id": "V2Qh24u058h-",
    "tags": []
   },
   "outputs": [],
   "source": [
    "# Dark theme\n",
    "webUI.dark_theme = True\n",
    "\n",
    "# Authentication (Recommended for security purposes)\n",
    "webUI.username = ''\n",
    "webUI.password = ''\n",
    "\n",
    "# Ngrok (Optional) \n",
    "# Some users reported that using ngrok can get you banned. So, this option will be disabled temporarily. \n",
    "# If you want to take the risk or have never had problems with ngrok before, you can remove the hashtags.\n",
    "# webUI.ngrok_token = ''\n",
    "# webUI.ngrok_domain = ''\n",
    "\n",
    "# CORS (Optional) \n",
    "# separate with commas\n",
    "webUI.cors = 'https://huchenlei.github.io'\n",
    "\n",
    "\n",
    "#########################################################################################################\n",
    "launch_webui(webUI)"
   ]
  }
 ],
 "metadata": {
  "kernelspec": {
   "display_name": "Python 3 (ipykernel)",
   "language": "python",
   "name": "python3"
  },
  "language_info": {
   "codemirror_mode": {
    "name": "ipython",
    "version": 3
   },
   "file_extension": ".py",
   "mimetype": "text/x-python",
   "name": "python",
   "nbconvert_exporter": "python",
   "pygments_lexer": "ipython3",
   "version": "3.10.11"
  },
  "notebook_version": "2024.09.18"
 },
 "nbformat": 4,
 "nbformat_minor": 4
}
