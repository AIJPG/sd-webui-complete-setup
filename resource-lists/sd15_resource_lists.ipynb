{
 "cells": [
  {
   "cell_type": "markdown",
   "metadata": {},
   "source": [
    "## SD v1.5 Resource Lists\n",
    "**Homepage :** [SD Webui Complete setup](https://github.com/ffxvs/sd-webui-complete-setup)  \n",
    "**Guide :** [Resource Lists Guide](https://github.com/ffxvs/sd-webui-complete-setup/wiki/Resource-Lists-Guide)"
   ]
  },
  {
   "cell_type": "markdown",
   "metadata": {
    "jp-MarkdownHeadingCollapsed": true,
    "tags": []
   },
   "source": [
    "### Check for Updates\n",
    "\n",
    "**Version : 2024.04.08**"
   ]
  },
  {
   "cell_type": "code",
   "execution_count": null,
   "metadata": {
    "tags": []
   },
   "outputs": [],
   "source": [
    "import ipywidgets as widgets\n",
    "from IPython.utils import capture \n",
    "import requests\n",
    "\n",
    "button = widgets.Button(description=\"Download now\", button_style='success')\n",
    "output = widgets.Output()\n",
    "\n",
    "def on_button_clicked(b, url, version):\n",
    "  with output:\n",
    "    print('Downloading...')\n",
    "    !wget -nv -O /notebooks/sd15_resource_lists_{version}.ipynb {url}\n",
    "    print(f'sd15_resource_lists_{version}.ipynb downloaded in the root directory')\n",
    "\n",
    "currentVersion = '2024.04.08'\n",
    "updateURL = 'https://raw.githubusercontent.com/ffxvs/sd-webui-complete-setup/main/updates.json'\n",
    "res = requests.get(updateURL)\n",
    "\n",
    "if res.status_code == 200:\n",
    "    for notebook in res.json()['resources']:\n",
    "        if notebook['id'] == 'sd15':\n",
    "            print('Current version : ' + currentVersion)\n",
    "            print('Latest version  : ' + notebook['version'])\n",
    "            if (notebook['version'] > currentVersion):\n",
    "                print('\\nThere is new version')\n",
    "                button.on_click(lambda b: on_button_clicked(b, notebook['url'], notebook['version']))\n",
    "                display(button, output)\n",
    "                print('\\nChangelog :')\n",
    "                print(notebook['changelog'])\n",
    "            else:\n",
    "                print('\\nThis is the latest version')            \n",
    "else:\n",
    "    print('Failed to check for updates') \n",
    "    print('Response code :', res.status_code)"
   ]
  },
  {
   "cell_type": "markdown",
   "metadata": {
    "id": "AcADZumt8rYd",
    "tags": []
   },
   "source": [
    "## 1. Requirements"
   ]
  },
  {
   "cell_type": "markdown",
   "metadata": {
    "jp-MarkdownHeadingCollapsed": true,
    "tags": []
   },
   "source": [
    "### • Variables and Functions\n",
    "**REQUIRED EVERY TIME YOU RUN THIS NOTEBOOK**"
   ]
  },
  {
   "cell_type": "code",
   "execution_count": null,
   "metadata": {
    "tags": []
   },
   "outputs": [],
   "source": [
    "# Civitai Token - Required to download models that require login\n",
    "civitaiToken = ''\n",
    "\n",
    "\n",
    "##################################### IMPORT #######################################\n",
    "\n",
    "import os, re, requests\n",
    "import ipywidgets as widgets\n",
    "from IPython.utils import capture\n",
    "from IPython.display import clear_output\n",
    "\n",
    "############################ ENVIRONMENT VARIABLES ################################\n",
    "\n",
    "os.environ['LD_PRELOAD'] = '/lib/x86_64-linux-gnu/libtcmalloc.so.4'\n",
    "os.environ['TF_CPP_MIN_LOG_LEVEL'] = '2'\n",
    "os.environ['PYTHONWARNINGS'] = 'ignore'\n",
    "os.environ['PIP_ROOT_USER_ACTION'] = 'ignore'\n",
    "os.environ['PIP_DISABLE_PIP_VERSION_CHECK'] = '1'\n",
    "\n",
    "########################### GLOBAL PATHS AND FUNCTION ###########################\n",
    "\n",
    "# Paths\n",
    "root = '/notebooks'\n",
    "a1111 = '/stable-diffusion-webui'\n",
    "forge = '/stable-diffusion-webui-forge'\n",
    "\n",
    "if os.path.exists(root + a1111):\n",
    "    webui = root + a1111\n",
    "elif os.path.exists(root + forge):\n",
    "    webui = root + forge\n",
    "else:\n",
    "    raise Exception('Stable Diffusion Webui directory is not found')\n",
    "\n",
    "controlNetModelsPath = webui + \"/models/ControlNet\"\n",
    "embeddingsPath = webui + \"/embeddings\"\n",
    "modelsPath = webui + \"/models/Stable-diffusion\"\n",
    "loraPath = webui + \"/models/Lora\"\n",
    "upscalerPath = webui + \"/models/ESRGAN\"\n",
    "vaePath = webui + \"/models/VAE\"\n",
    "\n",
    "# Resource URLs\n",
    "mainRepoURL = 'https://raw.githubusercontent.com/ffxvs/sd-webui-complete-setup/main'\n",
    "controlNetURL = mainRepoURL + '/res/sd15/sd15-controlnet.json'\n",
    "t2iAdapterURL = mainRepoURL + '/res/sd15/sd15-t2i-adapter.json'\n",
    "animeModelsURL = mainRepoURL + '/res/sd15/models/sd15-anime-models.json'\n",
    "generalModelsURL = mainRepoURL + '/res/sd15/models/sd15-general-models.json'\n",
    "realisticModelsURL = mainRepoURL + '/res/sd15/models/sd15-realistic-models.json'\n",
    "womanModelsURL = mainRepoURL + '/res/sd15/models/sd15-woman-models.json'\n",
    "builtinResourcesURL = mainRepoURL + '/res/sd15/sd15-builtin-resources.json'\n",
    "loraListURL = mainRepoURL + '/res/sd15/sd15-lora.json'\n",
    "embeddingListURL = mainRepoURL + '/res/sd15/sd15-embeddings.json'\n",
    "upscalerListURL = mainRepoURL + '/res/upscaler.json'\n",
    "vaeListURL = mainRepoURL + '/res/sd15/sd15-vae.json'\n",
    "\n",
    "boolean = [False, True]\n",
    "requestHeaders = {\n",
    "    \"Cache-Control\": \"no-cache, no-store, must-revalidate\",\n",
    "    \"Pragma\": \"no-cache\",\n",
    "    \"Expires\": \"0\"\n",
    "}\n",
    "\n",
    "# Complete message\n",
    "def completedMessage(): \n",
    "    completed = widgets.Button(description='Completed', button_style='success', icon='check')\n",
    "    print('\\n')\n",
    "    display(completed)\n",
    "\n",
    "# Resource\n",
    "def getResource(url):\n",
    "    res = requests.get(url, headers=requestHeaders)\n",
    "    if res.status_code == 200:\n",
    "        return res.json()\n",
    "    else:\n",
    "        return False\n",
    "\n",
    "# Aria2c\n",
    "def downloader(url, path, overwrite=False):\n",
    "    args = '--download-result=hide --console-log-level=error -c -x 16 -s 16 -k 1M '\n",
    "    if overwrite: args += '--allow-overwrite'\n",
    "    if url.startswith('https://civitai.com/api/download/') and civitaiToken:\n",
    "        if '?' in url:\n",
    "            url = f'{url}&token={civitaiToken}'\n",
    "        else:\n",
    "            url = f'{url}?token={civitaiToken}'\n",
    "    formattedURL = '\"' + url + '\"'\n",
    "    if bool(re.search(r'\\/[\\w\\.-]+\\.\\w+$', url)):\n",
    "        filename = url.split('/')[-1]\n",
    "        !aria2c {args} {formattedURL} -d {path} -o {filename}\n",
    "    else:\n",
    "        !aria2c {args} {formattedURL} -d {path}\n",
    "\n",
    "# Git Clone\n",
    "def silentClone(command, path, update=False, overwrite=False):\n",
    "    directory = command.split('/')[-1]\n",
    "    if os.path.exists(path + '/' + directory):\n",
    "        if update:\n",
    "            os.chdir(f'{path}/{directory}')\n",
    "            !git pull -q\n",
    "        elif overwrite:\n",
    "            !rm -r {path}/{directory}\n",
    "            !git clone -q --depth 10 {command} {path}/{directory}\n",
    "    else:\n",
    "        !git clone -q --depth 10 {command} {path}/{directory}\n",
    "\n",
    "# WGet\n",
    "def silentGet(command):\n",
    "    !wget -nv {command}\n",
    "\n",
    "# ControlNet\n",
    "def downloadControlNet(controlNet, url):\n",
    "    controlNetData = getResource(url)\n",
    "    for model in controlNet:\n",
    "        if controlNet[model]:\n",
    "            print('\\n' + model + '...')\n",
    "            for url in controlNetData[model]:\n",
    "                downloader(url, f'{controlNetModelsPath}/sd')\n",
    "                print('')\n",
    "\n",
    "# Model Mapper\n",
    "def modelMapper(name, version, url):\n",
    "    return {\n",
    "        'name': name,\n",
    "        'version': version,\n",
    "        'url': url\n",
    "    }\n",
    "\n",
    "# Selected Models\n",
    "def selectedModels(modelsURL):\n",
    "    modelList = []\n",
    "    for model in getResource(modelsURL)['models']:\n",
    "        isSelected = eval(model['id'])\n",
    "        if isSelected != 'Select version...':\n",
    "            for variant in model['variants']:\n",
    "                if variant['version'] == isSelected:\n",
    "                    modelList.append(modelMapper(\n",
    "                        model['name'],\n",
    "                        variant['version'],\n",
    "                        variant['url']\n",
    "                    ))\n",
    "    return modelList\n",
    "\n",
    "# Download models\n",
    "def downloadModels(modelsURL):\n",
    "    print('⏳ Downloading selected models...')\n",
    "    for model in selectedModels(modelsURL):\n",
    "        print(f\"\\n* {model['name']} | {model['version']}\")\n",
    "        downloader(model['url'], f'{modelsPath}/sd')\n",
    "\n",
    "# Built-in resources\n",
    "def builtinResources(resourceList, resourcePath):\n",
    "    for resource in resourceList:\n",
    "        print(f\"\\n{resource['name']}...\")\n",
    "        downloader(resource['url'], resourcePath)\n",
    "\n",
    "def downloadBuiltinResources():\n",
    "    resource = getResource(builtinResourcesURL)\n",
    "    print('⏳ Downloading built-in LoRA...')\n",
    "    builtinResources(resource['lora'], f'{loraPath}/sd')\n",
    "    print('\\n\\n⏳ Downloading built-in Embeddings...')\n",
    "    for embedding in resource['embeddings']:\n",
    "        print(embedding['name'] + '...')\n",
    "        silentClone(embedding['url'], f'{embeddingsPath}/sd', True)\n",
    "    print('\\n\\n⏳ Downloading built-in upscaler...')\n",
    "    builtinResources(resource['upscaler'], upscalerPath)\n",
    "    print('\\n\\n⏳ Downloading built-in VAE...')\n",
    "    builtinResources(resource['vae'], f'{vaePath}/sd')\n",
    "\n",
    "# Selected resources\n",
    "def selectedResources(resourceList, resourcePath):\n",
    "    for resource in resourceList:\n",
    "        if eval(resource['id']):\n",
    "            print(f\"\\n {resource['name']}...\")\n",
    "            for url in resource['url']:\n",
    "                downloader(url, resourcePath)\n",
    "                print('')\n",
    "\n",
    "def downloadSelectedResources():\n",
    "    print('\\n\\n⏳ Downloading selected LoRA...')\n",
    "    selectedResources(getResource(loraListURL)['lora'], f'{loraPath}/sd')\n",
    "    print('\\n\\n⏳ Downloading selected embeddings...')\n",
    "    for embedding in getResource(embeddingListURL)['embeddings']:\n",
    "        if eval(embedding['id']):\n",
    "            print(embedding['name'] + '...')\n",
    "            silentClone(embedding['url'], f'{embeddingsPath}/sd', True)\n",
    "    print('\\n\\n⏳ Downloading selected upscaler...')\n",
    "    selectedResources(getResource(upscalerListURL)['upscaler'], upscalerPath)\n",
    "    print('\\n\\n⏳ Downloading selected VAE...')\n",
    "    selectedResources(getResource(vaeListURL)['vae'], f'{vaePath}/sd')\n",
    "\n",
    "# Other resources\n",
    "def otherResources(resourceList, resourcePath):\n",
    "    for resource in resourceList:\n",
    "        print('\\n' + resource)\n",
    "        downloader(resource, resourcePath)\n",
    "\n",
    "def downloadOtherResources(lora, embeddings, upscaler, vae):\n",
    "    if lora:\n",
    "        print('\\n\\n⏳ Downloading LoRA...')\n",
    "        otherResources(lora, f'{loraPath}/sd')\n",
    "    if embeddings:\n",
    "        print('\\n\\n⏳ Downloading embeddings...')\n",
    "        otherResources(embeddings, f'{embeddingsPath}/sd')\n",
    "    if upscaler:\n",
    "        print('\\n\\n⏳ Downloading upscaler...')\n",
    "        otherResources(upscaler, upscalerPath)\n",
    "    if vae:\n",
    "        print('\\n\\n⏳ Downloading VAE...')\n",
    "        otherResources(vae, f'{vaePath}/sd')\n",
    "\n",
    "# Remove git from directory\n",
    "def removeGit(directory):\n",
    "    for (folder, subfolders, files) in os.walk(directory):\n",
    "        if subfolders:\n",
    "            for subfolder in subfolders:\n",
    "                if subfolder == '.git':\n",
    "                    pathFolder = os.path.join(folder, subfolder)\n",
    "                    !rm -r {pathFolder}\n",
    "\n",
    "        for file in files:\n",
    "            if file == '.gitattributes' or file == 'readme.md' or file == 'README.md':\n",
    "                pathFile = os.path.join(folder, file)\n",
    "                !rm {pathFile}\n",
    "\n",
    "completedMessage()"
   ]
  },
  {
   "cell_type": "markdown",
   "metadata": {},
   "source": [
    "## 2. ControlNet"
   ]
  },
  {
   "cell_type": "markdown",
   "metadata": {
    "jp-MarkdownHeadingCollapsed": true
   },
   "source": [
    "### • ControlNet Models"
   ]
  },
  {
   "cell_type": "code",
   "execution_count": null,
   "metadata": {},
   "outputs": [],
   "source": [
    "# ControlNet - https://github.com/lllyasviel/ControlNet-v1-1-nightly\n",
    "# Select models to download. Default models are : depth, ip-adapter, openpose, tile\n",
    "controlNet = {\n",
    "    'canny': boolean[0],\n",
    "    'depth': boolean[1],\n",
    "    'inpaint': boolean[0],\n",
    "    'ip2p': boolean[0],\n",
    "    'ipadapter': boolean[1],\n",
    "    'ipadapter_face': boolean[0],\n",
    "    'lineart': boolean[0],\n",
    "    'lineart_anime': boolean[0],\n",
    "    'mlsd': boolean[0],\n",
    "    'normal': boolean[0],\n",
    "    'openpose': boolean[1],\n",
    "    'recolor': boolean[0],\n",
    "    'scribble': boolean[0],\n",
    "    'seg': boolean[0],\n",
    "    'shuffle': boolean[0],\n",
    "    'softedge': boolean[0],\n",
    "    'tile': boolean[1]\n",
    "}\n",
    "\n",
    "# T2I-Adapter - https://github.com/TencentARC/T2I-Adapter/tree/SD\n",
    "# A lighter alternative to offical controlnet models. Select models to download. \n",
    "t2iAdapter = {  \n",
    "    'canny': boolean[0],\n",
    "    'color': boolean[0],\n",
    "    'depth': boolean[0],\n",
    "    'keypose': boolean[0],\n",
    "    'openpose': boolean[0],\n",
    "    'seg': boolean[0],\n",
    "    'sketch': boolean[0],\n",
    "    'style': boolean[0],\n",
    "    'zoedepth': boolean[0]\n",
    "}\n",
    "\n",
    "\n",
    "################################################################################################################\n",
    "\n",
    "print(\"\\n⏳ Download selected controlNet models...\")\n",
    "downloadControlNet(controlNet, controlNetURL)\n",
    "print(\"\\n⏳ Download selected T2I-Adapter...\")\n",
    "downloadControlNet(t2iAdapter, t2iAdapterURL)\n",
    "os.chdir(webui)\n",
    "completedMessage()"
   ]
  },
  {
   "cell_type": "markdown",
   "metadata": {
    "jp-MarkdownHeadingCollapsed": true
   },
   "source": [
    "### • Install from URLs"
   ]
  },
  {
   "cell_type": "code",
   "execution_count": null,
   "metadata": {},
   "outputs": [],
   "source": [
    "# Install controlNet models from URL \n",
    "otherControlNet = []\n",
    "\n",
    "\n",
    "########################################################################################\n",
    "\n",
    "if otherControlNet:\n",
    "    print('⏳ Downloading controlNet models...')\n",
    "    otherResources(otherControlNet, f'{controlNetModelsPath}/sd')\n",
    "\n",
    "os.chdir(webui)\n",
    "completedMessage()"
   ]
  },
  {
   "cell_type": "markdown",
   "metadata": {
    "id": "sS2bjZrRfRu2",
    "tags": []
   },
   "source": [
    "## 3. SD v1.5 Models\n",
    "**Choose models you want to download**  \n",
    "Some models hosted by Civitai require you to login to download.  \n",
    "Create an API key in [Civitai user settings](https://civitai.com/user/account) then paste it to `civiaiToken` inside Variables and Functions cell."
   ]
  },
  {
   "cell_type": "markdown",
   "metadata": {
    "jp-MarkdownHeadingCollapsed": true,
    "tags": []
   },
   "source": [
    "### • Anime / Cartoon / 3D"
   ]
  },
  {
   "cell_type": "code",
   "execution_count": null,
   "metadata": {},
   "outputs": [],
   "source": [
    "# Anything - https://civitai.com/models/9409\n",
    "anythingVersions = ['Select version...', 'Ink']\n",
    "anything = anythingVersions[0]\n",
    "\n",
    "# Babes - https://civitai.com/models/2220\n",
    "babesVersions = ['Select version...', 'v3.1']\n",
    "babes = babesVersions[0]\n",
    "\n",
    "# Cetus-Mix - https://civitai.com/models/6755\n",
    "cetusMixVersions = ['Select version...', 'WhaleFall2']\n",
    "cetusMix = cetusMixVersions[0]\n",
    "\n",
    "# Counterfeit - https://civitai.com/models/4468\n",
    "counterfeitVersions = ['Select version...', 'v3']\n",
    "counterfeit = counterfeitVersions[0]\n",
    "\n",
    "# MeinaMix - https://civitai.com/models/7240\n",
    "meinaMixVersions = ['Select version...', 'v11', 'v11-inpainting']\n",
    "meinaMix = meinaMixVersions[0]\n",
    "\n",
    "# ReV Animated - https://civitai.com/models/7371\n",
    "revAnimatedVersions = ['Select version...', 'v2_vae']\n",
    "revAnimated = revAnimatedVersions[0]\n",
    "\n",
    "# ToonYou - https://civitai.com/models/30240\n",
    "toonYouVersions = ['Select version...', 'beta 6']\n",
    "toonYou = toonYouVersions[0]\n",
    "\n",
    "\n",
    "########################################################################################\n",
    "\n",
    "downloadModels(animeModelsURL)\n",
    "completedMessage()"
   ]
  },
  {
   "cell_type": "markdown",
   "metadata": {
    "id": "ySk6xCuCJJpl",
    "jp-MarkdownHeadingCollapsed": true,
    "tags": []
   },
   "source": [
    "### • General Purpose"
   ]
  },
  {
   "cell_type": "code",
   "execution_count": null,
   "metadata": {
    "cellView": "form",
    "id": "LcRD2PyjJMuP"
   },
   "outputs": [],
   "source": [
    "# Deliberate - https://huggingface.co/XpucT/Deliberate\n",
    "deliberateVersions = ['Select version...', 'v5', 'v5-inpainting']\n",
    "deliberate = deliberateVersions[0]\n",
    "\n",
    "# DreamShaper - https://civitai.com/models/4384\n",
    "dreamShaperVersions = ['Select version...', 'v8', 'v8-inpainting']\n",
    "dreamShaper = dreamShaperVersions[0]\n",
    "\n",
    "# Experience - https://civitai.com/models/5952/experience\n",
    "experienceVersions = ['Select version...', 'v10', 'Realistic Exp v3']\n",
    "experience = experienceVersions[0]\n",
    "\n",
    "# NeverEnding Dream (NED) - https://civitai.com/models/10028\n",
    "nedVersions = ['Select version...', 'v1.22_vae', 'v1.22-inpainting']\n",
    "ned = nedVersions[0]\n",
    "\n",
    "# Protogen - https://civitai.com/user/darkstorm2150\n",
    "protogenVersions = ['Select version...', \n",
    "    'x2.2 (Anime)', \n",
    "    'x3.4 (Photorealism)', \n",
    "    'x5.3 (Photorealism)', \n",
    "    'x5.8 (Sci-fi + Anime)'\n",
    "]\n",
    "protogen = protogenVersions[0]\n",
    "\n",
    "\n",
    "########################################################################################\n",
    "\n",
    "downloadModels(generalModelsURL)\n",
    "completedMessage()"
   ]
  },
  {
   "cell_type": "markdown",
   "metadata": {
    "id": "q7N-mw17j7G4",
    "jp-MarkdownHeadingCollapsed": true,
    "tags": []
   },
   "source": [
    "### • Realistic"
   ]
  },
  {
   "cell_type": "code",
   "execution_count": null,
   "metadata": {
    "cellView": "form",
    "id": "5ktgkG1Qj9H6"
   },
   "outputs": [],
   "source": [
    "# Absolute Reality - https://civitai.com/models/81458\n",
    "absoluteRealityVersions = ['Select version...', 'v1.8.1', 'v1.8.1-inpainting']\n",
    "absoluteReality = absoluteRealityVersions[0]\n",
    "\n",
    "# Analog Madness - https://civitai.com/models/8030\n",
    "analogMadnessVersions = ['Select version...', 'v7', 'v7-inpainting']\n",
    "analogMadness = analogMadnessVersions[0]\n",
    "\n",
    "# CyberRealistic - https://civitai.com/models/15003\n",
    "cyberRealisticVersions = ['Select version...', 'v4.2', 'v4.2-inpainting']\n",
    "cyberRealistic = cyberRealisticVersions[0]\n",
    "\n",
    "# epiCPhotoGasm - https://civitai.com/models/132632\n",
    "epicPhotogasmVersions = ['Select version...', 'Ultimate Fidelity', 'AmateurRealLife', 'Z-inpainting']\n",
    "epicPhotogasm = epicPhotogasmVersions[0]\n",
    "\n",
    "# epiCRealism - https://civitai.com/models/25694\n",
    "epicRealismVersions = ['Select version...', 'Natural Sin', 'Pure Evo v5', 'Pure Evo v5-inpainting']\n",
    "epicRealism = epicRealismVersions[0]\n",
    "\n",
    "# Realistic Vision - https://civitai.com/models/4201\n",
    "realVisionVersions = ['Select version...', 'v6_b1_vae', 'v6_b1_vae-inpainting']\n",
    "realVision = realVisionVersions[0]\n",
    "\n",
    "# Reliberate - https://huggingface.co/XpucT/Reliberate\n",
    "reliberateVersions = ['Select version...', 'v3', 'v3-inpainting']\n",
    "reliberate = reliberateVersions[0]\n",
    "\n",
    "\n",
    "########################################################################################\n",
    "\n",
    "downloadModels(realisticModelsURL)\n",
    "completedMessage()"
   ]
  },
  {
   "cell_type": "markdown",
   "metadata": {
    "id": "YyShd1x_yPzI",
    "jp-MarkdownHeadingCollapsed": true,
    "tags": []
   },
   "source": [
    "### • Woman"
   ]
  },
  {
   "cell_type": "code",
   "execution_count": null,
   "metadata": {
    "cellView": "form",
    "id": "i_IIx3pWyRgK",
    "tags": []
   },
   "outputs": [],
   "source": [
    "# BRA (Beautiful Realistic Asians) - https://civitai.com/models/25494\n",
    "braVersions = ['Select version...', 'v7']\n",
    "bra = braVersions[0]\n",
    "\n",
    "# BracingEvoMix - https://huggingface.co/sazyou-roukaku/BracingEvoMix\n",
    "bemVersions = ['Select version...', 'v2']\n",
    "bem = bemVersions[0]\n",
    "\n",
    "# Chilled Remix - https://huggingface.co/sazyou-roukaku/chilled_remix\n",
    "chilledRemixVersions = ['Select version...', 'v2', 'Reversemix v2']\n",
    "chilledRemix = chilledRemixVersions[0]\n",
    "\n",
    "# Henmix Real - https://civitai.com/models/20282\n",
    "henmixRealVersions = ['Select version...', 'v4', 'v5c']\n",
    "henmixReal = henmixRealVersions[0]\n",
    "\n",
    "# majicMIX Realistic - https://civitai.com/models/43331\n",
    "majicMixRealVersions = ['Select version...', 'v7', 'v7-inpainting']\n",
    "majicMixReal = majicMixRealVersions[0]\n",
    "\n",
    "\n",
    "########################################################################################\n",
    "\n",
    "downloadModels(womanModelsURL)\n",
    "completedMessage()"
   ]
  },
  {
   "cell_type": "markdown",
   "metadata": {
    "id": "4DDVVCkQxp8U",
    "jp-MarkdownHeadingCollapsed": true,
    "tags": []
   },
   "source": [
    "### • Install from URLs"
   ]
  },
  {
   "cell_type": "code",
   "execution_count": null,
   "metadata": {
    "cellView": "form",
    "id": "4GhWKu_Jxrxl",
    "tags": []
   },
   "outputs": [],
   "source": [
    "# Install models from URL \n",
    "otherModels = []\n",
    "\n",
    "\n",
    "########################################################################################\n",
    "\n",
    "if otherModels:\n",
    "    print('⏳ Downloading models...')\n",
    "    otherResources(otherModels, f'{modelsPath}/sd')\n",
    "\n",
    "os.chdir(webui)\n",
    "completedMessage()"
   ]
  },
  {
   "cell_type": "markdown",
   "metadata": {
    "id": "qe4SFLnaff7T",
    "tags": []
   },
   "source": [
    "## 4. LoRA, Embedding, Upscaler and VAE"
   ]
  },
  {
   "cell_type": "markdown",
   "metadata": {
    "jp-MarkdownHeadingCollapsed": true
   },
   "source": [
    "### • Built-in Resources\n",
    "**This is just for information. No need to run this cell.**"
   ]
  },
  {
   "cell_type": "markdown",
   "metadata": {},
   "source": [
    "**Pre-installed LoRA :**\n",
    "* [Add More Details - Detail Enhancer/Tweaker](https://civitai.com/models/82098)\n",
    "* [Detail Tweaker](https://civitai.com/models/58390)\n",
    "* [Epi Noise Offset](https://civitai.com/models/13941/epinoiseoffset)\n",
    "* [LowRA](https://civitai.com/models/48139/lowra)\n",
    "\n",
    "**Pre-installed Embeddings :**  \n",
    "* [Embeddings Collection](https://huggingface.co/ffxvs/embeddings-collection)\n",
    "* [Negative Prompts Pack](https://huggingface.co/ffxvs/negative-prompts-pack) \n",
    "\n",
    "**Pre-installed Upscaler :**  \n",
    "* [UltraSharp](https://openmodeldb.info/models/4x-UltraSharp)\n",
    "\n",
    "**Pre-installed VAE :**  \n",
    "* [vae-ft-mse-840000](https://huggingface.co/stabilityai/sd-vae-ft-mse-original)"
   ]
  },
  {
   "cell_type": "markdown",
   "metadata": {
    "jp-MarkdownHeadingCollapsed": true,
    "tags": []
   },
   "source": [
    "### • Resource Lists"
   ]
  },
  {
   "cell_type": "code",
   "execution_count": null,
   "metadata": {
    "cellView": "form",
    "id": "TVaJGYKh80gz",
    "tags": []
   },
   "outputs": [],
   "source": [
    "####################################### LORA ##########################################\n",
    "\n",
    "# Depth of Field Slider - https://civitai.com/models/135380\n",
    "dopSlider = boolean[0]\n",
    "\n",
    "# Doll Likeness Series - https://huggingface.co/Kanbara/doll-likeness-series\n",
    "dollLikeness = boolean[0]\n",
    "\n",
    "# Hands SD v1.5 - https://civitai.com/models/200255?modelVersionId=228003\n",
    "handsLora = boolean[0]\n",
    "\n",
    "# Intricate Background & Background Blur - https://civitai.com/models/105732\n",
    "bgDetails = boolean[0]\n",
    "\n",
    "# LCM Lora SD v1.5 - https://huggingface.co/latent-consistency/lcm-lora-sdv1-5\n",
    "lcmLora = boolean[0]\n",
    "\n",
    "\n",
    "############################ EMBEDDINGS (TEXTUAL INVERSION) ############################\n",
    "\n",
    "# SCG Emotions Pack - https://civitai.com/models/8860\n",
    "scgEmotion = boolean[0]\n",
    "\n",
    "# SCG Embedding Toolkit - https://civitai.com/models/8551\n",
    "scgToolkit = boolean[0]\n",
    "\n",
    "# Zovya Age Slider - https://civitai.com/models/65214\n",
    "ageSlider = boolean[0]\n",
    "\n",
    "# Zovya Gender Slider - https://civitai.com/models/89709\n",
    "genderSlider = boolean[0]\n",
    "\n",
    "\n",
    "###################################### UPSCALER ########################################\n",
    "\n",
    "# BSRGAN - https://openmodeldb.info/models/4x-BSRGAN\n",
    "bsrgan = boolean[0]\n",
    "\n",
    "# LSDIRPlus - https://openmodeldb.info/models/4x-LSDIRplus\n",
    "lsdirPlus = boolean[0]\n",
    "\n",
    "# NMKD Superscale - https://openmodeldb.info/models/4x-NMKD-Superscale\n",
    "superscale = boolean[0]\n",
    "\n",
    "# Nomos8kSC - https://openmodeldb.info/models/4x-Nomos8kSC\n",
    "nomos8ksc = boolean[0]\n",
    "\n",
    "# Remacri - https://openmodeldb.info/models/4x-Remacri\n",
    "remacri = boolean[0]\n",
    "\n",
    "# UltraMix - https://upscale.wiki/w/index.php?title=Model_Database&oldid=1571\n",
    "ultraMix = boolean[0]\n",
    "\n",
    "# Valar - https://openmodeldb.info/models/4x-Valar\n",
    "valar = boolean[0]\n",
    "\n",
    "\n",
    "######################################## VAE ############################################\n",
    "\n",
    "# Blessed2 - https://civitai.com/models/118561?modelVersionId=142467\n",
    "blessed2 = boolean[0]\n",
    "\n",
    "# ClearVAE - https://civitai.com/models/22354\n",
    "clearVAE = boolean[0]\n",
    "\n",
    "# kl-f8-anime2 - https://civitai.com/models/23906\n",
    "kl_f8_anime2 = boolean[0]\n",
    "\n",
    "# NAI/NovelAI - https://huggingface.co/WarriorMama777/OrangeMixs\n",
    "novelAI = boolean[0]\n",
    "\n",
    "\n",
    "###################################################################################################\n",
    "\n",
    "os.chdir(webui)\n",
    "downloadBuiltinResources()\n",
    "downloadSelectedResources()\n",
    "os.chdir(webui)\n",
    "completedMessage()"
   ]
  },
  {
   "cell_type": "markdown",
   "metadata": {
    "jp-MarkdownHeadingCollapsed": true,
    "tags": []
   },
   "source": [
    "### • Install from URLs"
   ]
  },
  {
   "cell_type": "code",
   "execution_count": null,
   "metadata": {},
   "outputs": [],
   "source": [
    "# LoRA\n",
    "otherLora = []\n",
    "\n",
    "# Embeddings\n",
    "otherEmbeddings = []\n",
    "\n",
    "# Upscaler\n",
    "otherUpscaler = []\n",
    "\n",
    "# VAE\n",
    "otherVAE = []\n",
    "\n",
    "\n",
    "###################################################################################################\n",
    "\n",
    "downloadOtherResources(otherLora, otherEmbeddings, otherUpscaler, otherVAE)\n",
    "os.chdir(webui)\n",
    "completedMessage()"
   ]
  }
 ],
 "metadata": {
  "accelerator": "GPU",
  "colab": {
   "collapsed_sections": [
    "aPLwNZbN-dIe",
    "AcADZumt8rYd",
    "hJK6ToaX8g5r",
    "GFukPFHAwN2c",
    "ukRiExJwhEtp",
    "ySk6xCuCJJpl",
    "q7N-mw17j7G4",
    "BKZT_667lw7B",
    "YyShd1x_yPzI",
    "4DDVVCkQxp8U",
    "LbQdQ5_bhUUB",
    "qe4SFLnaff7T",
    "GFFEm-UIfrFe"
   ],
   "private_outputs": true,
   "provenance": []
  },
  "gpuClass": "standard",
  "kernelspec": {
   "display_name": "Python 3 (ipykernel)",
   "language": "python",
   "name": "python3"
  },
  "language_info": {
   "codemirror_mode": {
    "name": "ipython",
    "version": 3
   },
   "file_extension": ".py",
   "mimetype": "text/x-python",
   "name": "python",
   "nbconvert_exporter": "python",
   "pygments_lexer": "ipython3",
   "version": "3.12.1"
  },
  "toc-autonumbering": false,
  "toc-showcode": false,
  "toc-showmarkdowntxt": false,
  "toc-showtags": false,
  "widgets": {
   "application/vnd.jupyter.widget-state+json": {
    "state": {},
    "version_major": 2,
    "version_minor": 0
   }
  }
 },
 "nbformat": 4,
 "nbformat_minor": 4
}
