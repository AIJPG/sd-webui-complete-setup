{
 "cells": [
  {
   "cell_type": "markdown",
   "metadata": {
    "editable": true,
    "jp-MarkdownHeadingCollapsed": true,
    "slideshow": {
     "slide_type": ""
    },
    "tags": []
   },
   "source": [
    "## SD v1.5 Resource Lists\n",
    "**Homepage :** [SD Webui Complete setup](https://github.com/ffxvs/sd-webui-complete-setup)  \n",
    "**Guide :** [Resource Lists Guide](https://github.com/ffxvs/sd-webui-complete-setup/wiki/Resource-Lists-Guide)"
   ]
  },
  {
   "cell_type": "markdown",
   "metadata": {
    "id": "AcADZumt8rYd",
    "tags": []
   },
   "source": [
    "## 1. Requirements"
   ]
  },
  {
   "cell_type": "markdown",
   "metadata": {
    "collapsed": false,
    "jp-MarkdownHeadingCollapsed": true,
    "jupyter": {
     "outputs_hidden": false
    }
   },
   "source": [
    "### • Initialization\n",
    "**REQUIRED EVERY TIME YOU START THE MACHINE**"
   ]
  },
  {
   "cell_type": "code",
   "execution_count": null,
   "metadata": {},
   "outputs": [],
   "source": [
    "# Civitai Token - Required to download models that require login\n",
    "civitai_token = ''\n",
    "\n",
    "\n",
    "################################################################################################################\n",
    "\n",
    "import sys, os\n",
    "sys.path.append(os.path.abspath('/internal'))\n",
    "from ..internal.main import *\n",
    "\n",
    "apply_envs1()"
   ]
  },
  {
   "cell_type": "markdown",
   "metadata": {},
   "source": [
    "## 2. ControlNet"
   ]
  },
  {
   "cell_type": "markdown",
   "metadata": {
    "jp-MarkdownHeadingCollapsed": true
   },
   "source": [
    "### • ControlNet Models"
   ]
  },
  {
   "cell_type": "code",
   "execution_count": null,
   "metadata": {},
   "outputs": [],
   "source": [
    "# ControlNet - https://github.com/lllyasviel/ControlNet-v1-1-nightly\n",
    "# Select models to download. Default models are : depth, ip-adapter, openpose, tile\n",
    "controlnet = {\n",
    "    'canny': boolean[0],\n",
    "    'depth': boolean[1],\n",
    "    'inpaint': boolean[0],\n",
    "    'ip2p': boolean[0],\n",
    "    'ipadapter': boolean[1],\n",
    "    'ipadapter_face': boolean[0],\n",
    "    'lineart': boolean[0],\n",
    "    'lineart_anime': boolean[0],\n",
    "    'mlsd': boolean[0],\n",
    "    'normal': boolean[0],\n",
    "    'openpose': boolean[1],\n",
    "    'recolor': boolean[0],\n",
    "    'scribble': boolean[0],\n",
    "    'seg': boolean[0],\n",
    "    'shuffle': boolean[0],\n",
    "    'softedge': boolean[0],\n",
    "    'tile': boolean[1]\n",
    "}\n",
    "\n",
    "# T2I-Adapter - https://github.com/TencentARC/T2I-Adapter/tree/SD\n",
    "# A lighter alternative to offical controlnet models. Select models to download. \n",
    "t2iAdapter = {  \n",
    "    'canny': boolean[0],\n",
    "    'color': boolean[0],\n",
    "    'depth': boolean[0],\n",
    "    'keypose': boolean[0],\n",
    "    'openpose': boolean[0],\n",
    "    'seg': boolean[0],\n",
    "    'sketch': boolean[0],\n",
    "    'style': boolean[0],\n",
    "    'zoedepth': boolean[0]\n",
    "}\n",
    "\n",
    "\n",
    "################################################################################################################\n",
    "\n",
    "print(\"\\n⏳ Download selected controlNet models...\")\n",
    "download_controlnet(controlnet, sd15_controlnet_url, sd)\n",
    "print(\"\\n⏳ Download selected T2I-Adapter...\")\n",
    "download_controlnet(t2iAdapter, sd15_t2i_adapter_url, sd)\n",
    "os.chdir(webui)\n",
    "completed_message()"
   ]
  },
  {
   "cell_type": "markdown",
   "metadata": {
    "jp-MarkdownHeadingCollapsed": true
   },
   "source": [
    "### • Install from URLs"
   ]
  },
  {
   "cell_type": "code",
   "execution_count": null,
   "metadata": {},
   "outputs": [],
   "source": [
    "# Install controlNet models from URL \n",
    "other_controlnet = []\n",
    "\n",
    "\n",
    "########################################################################################\n",
    "\n",
    "if other_controlnet:\n",
    "    print('⏳ Downloading controlNet models...')\n",
    "    other_resources(other_controlnet, f'{controlnet_models_path}/sd', civitai_token)\n",
    "\n",
    "os.chdir(webui)\n",
    "completed_message()"
   ]
  },
  {
   "cell_type": "markdown",
   "metadata": {
    "id": "sS2bjZrRfRu2",
    "tags": []
   },
   "source": [
    "## 3. SD v1.5 Models\n",
    "**Choose models you want to download**  \n",
    "Some models hosted by Civitai require you to login to download.  \n",
    "Create an API key in [Civitai user settings](https://civitai.com/user/account) then paste it to `civiai_token` inside Initialization cell."
   ]
  },
  {
   "cell_type": "markdown",
   "metadata": {
    "jp-MarkdownHeadingCollapsed": true,
    "tags": []
   },
   "source": [
    "### • Anime / Cartoon / 3D"
   ]
  },
  {
   "cell_type": "code",
   "execution_count": null,
   "metadata": {},
   "outputs": [],
   "source": [
    "# Anything - https://civitai.com/models/9409\n",
    "anythingVersions = ['Select version...', 'Ink']\n",
    "anything = anythingVersions[0]\n",
    "\n",
    "# Babes - https://civitai.com/models/2220\n",
    "babesVersions = ['Select version...', 'v3.1']\n",
    "babes = babesVersions[0]\n",
    "\n",
    "# Cetus-Mix - https://civitai.com/models/6755\n",
    "cetusMixVersions = ['Select version...', 'WhaleFall2']\n",
    "cetusMix = cetusMixVersions[0]\n",
    "\n",
    "# Counterfeit - https://civitai.com/models/4468\n",
    "counterfeitVersions = ['Select version...', 'v3']\n",
    "counterfeit = counterfeitVersions[0]\n",
    "\n",
    "# MeinaMix - https://civitai.com/models/7240\n",
    "meinaMixVersions = ['Select version...', 'v11', 'v11-inpainting']\n",
    "meinaMix = meinaMixVersions[0]\n",
    "\n",
    "# ReV Animated - https://civitai.com/models/7371\n",
    "revAnimatedVersions = ['Select version...', 'v2']\n",
    "revAnimated = revAnimatedVersions[0]\n",
    "\n",
    "# ToonYou - https://civitai.com/models/30240\n",
    "toonYouVersions = ['Select version...', 'beta 6']\n",
    "toonYou = toonYouVersions[0]\n",
    "\n",
    "\n",
    "########################################################################################\n",
    "\n",
    "download_models(sd15_anime_models_url, sd, civitai_token)\n",
    "completed_message()"
   ]
  },
  {
   "cell_type": "markdown",
   "metadata": {
    "id": "ySk6xCuCJJpl",
    "jp-MarkdownHeadingCollapsed": true,
    "tags": []
   },
   "source": [
    "### • General Purpose"
   ]
  },
  {
   "cell_type": "code",
   "execution_count": null,
   "metadata": {
    "cellView": "form",
    "id": "LcRD2PyjJMuP"
   },
   "outputs": [],
   "source": [
    "# Deliberate - https://huggingface.co/XpucT/Deliberate\n",
    "deliberateVersions = ['Select version...', 'v5', 'v5-inpainting']\n",
    "deliberate = deliberateVersions[0]\n",
    "\n",
    "# DreamShaper - https://civitai.com/models/4384\n",
    "dreamShaperVersions = ['Select version...', 'v8', 'v8-inpainting']\n",
    "dreamShaper = dreamShaperVersions[0]\n",
    "\n",
    "# Experience - https://civitai.com/models/5952/experience\n",
    "experienceVersions = ['Select version...', 'v10', 'Realistic Exp v3']\n",
    "experience = experienceVersions[0]\n",
    "\n",
    "# NeverEnding Dream (NED) - https://civitai.com/models/10028\n",
    "nedVersions = ['Select version...', 'v1.22_vae', 'v1.22-inpainting']\n",
    "ned = nedVersions[0]\n",
    "\n",
    "# Protogen - https://civitai.com/user/darkstorm2150\n",
    "protogenVersions = ['Select version...', \n",
    "    'x2.2 (Anime)', \n",
    "    'x3.4 (Photorealism)', \n",
    "    'x5.3 (Photorealism)', \n",
    "    'x5.8 (Sci-fi + Anime)'\n",
    "]\n",
    "protogen = protogenVersions[0]\n",
    "\n",
    "\n",
    "########################################################################################\n",
    "\n",
    "download_models(sd15_general_models_url, sd, civitai_token)\n",
    "completed_message()"
   ]
  },
  {
   "cell_type": "markdown",
   "metadata": {
    "id": "q7N-mw17j7G4",
    "jp-MarkdownHeadingCollapsed": true,
    "tags": []
   },
   "source": [
    "### • Realistic"
   ]
  },
  {
   "cell_type": "code",
   "execution_count": null,
   "metadata": {
    "cellView": "form",
    "id": "5ktgkG1Qj9H6"
   },
   "outputs": [],
   "source": [
    "# Absolute Reality - https://civitai.com/models/81458\n",
    "absoluteRealityVersions = ['Select version...', 'v1.8.1', 'v1.8.1-inpainting']\n",
    "absoluteReality = absoluteRealityVersions[0]\n",
    "\n",
    "# Analog Madness - https://civitai.com/models/8030\n",
    "analogMadnessVersions = ['Select version...', 'v7', 'v7-inpainting']\n",
    "analogMadness = analogMadnessVersions[0]\n",
    "\n",
    "# CyberRealistic - https://civitai.com/models/15003\n",
    "cyberRealisticVersions = ['Select version...', 'v4.2', 'v4.2-inpainting']\n",
    "cyberRealistic = cyberRealisticVersions[0]\n",
    "\n",
    "# epiCPhotoGasm - https://civitai.com/models/132632\n",
    "epicPhotogasmVersions = ['Select version...', 'Ultimate Fidelity', 'AmateurRealLife', 'Z-inpainting']\n",
    "epicPhotogasm = epicPhotogasmVersions[0]\n",
    "\n",
    "# epiCRealism - https://civitai.com/models/25694\n",
    "epicRealismVersions = ['Select version...', 'Natural Sin', 'Pure Evo v5', 'Pure Evo v5-inpainting']\n",
    "epicRealism = epicRealismVersions[0]\n",
    "\n",
    "# Realistic Vision - https://civitai.com/models/4201\n",
    "realVisionVersions = ['Select version...', 'v6_b1_vae', 'v6_b1_vae-inpainting', 'Hyper v5.1_vae', 'Hyper v5.1_vae-inpainting']\n",
    "realVision = realVisionVersions[0]\n",
    "\n",
    "# Reliberate - https://huggingface.co/XpucT/Reliberate\n",
    "reliberateVersions = ['Select version...', 'v3', 'v3-inpainting']\n",
    "reliberate = reliberateVersions[0]\n",
    "\n",
    "\n",
    "########################################################################################\n",
    "\n",
    "download_models(sd15_realistic_models_url, sd, civitai_token)\n",
    "completed_message()"
   ]
  },
  {
   "cell_type": "markdown",
   "metadata": {
    "id": "YyShd1x_yPzI",
    "jp-MarkdownHeadingCollapsed": true,
    "tags": []
   },
   "source": [
    "### • Woman"
   ]
  },
  {
   "cell_type": "code",
   "execution_count": null,
   "metadata": {
    "cellView": "form",
    "id": "i_IIx3pWyRgK",
    "tags": []
   },
   "outputs": [],
   "source": [
    "# BRA (Beautiful Realistic Asians) - https://civitai.com/models/25494\n",
    "braVersions = ['Select version...', 'v7']\n",
    "bra = braVersions[0]\n",
    "\n",
    "# BracingEvoMix - https://huggingface.co/sazyou-roukaku/BracingEvoMix\n",
    "bemVersions = ['Select version...', 'v2']\n",
    "bem = bemVersions[0]\n",
    "\n",
    "# Chilled Remix - https://huggingface.co/sazyou-roukaku/chilled_remix\n",
    "chilledRemixVersions = ['Select version...', 'v2', 'Reversemix v2']\n",
    "chilledRemix = chilledRemixVersions[0]\n",
    "\n",
    "# Henmix Real - https://civitai.com/models/20282\n",
    "henmixRealVersions = ['Select version...', 'v6b', 'v6a', 'v4']\n",
    "henmixReal = henmixRealVersions[0]\n",
    "\n",
    "# majicMIX Realistic - https://civitai.com/models/43331\n",
    "majicMixRealVersions = ['Select version...', 'v7', 'v7-inpainting']\n",
    "majicMixReal = majicMixRealVersions[0]\n",
    "\n",
    "\n",
    "########################################################################################\n",
    "\n",
    "download_models(sd15_woman_models_url, sd, civitai_token)\n",
    "completed_message()"
   ]
  },
  {
   "cell_type": "markdown",
   "metadata": {
    "id": "4DDVVCkQxp8U",
    "jp-MarkdownHeadingCollapsed": true,
    "tags": []
   },
   "source": [
    "### • Install from URLs"
   ]
  },
  {
   "cell_type": "code",
   "execution_count": null,
   "metadata": {
    "cellView": "form",
    "id": "4GhWKu_Jxrxl",
    "tags": []
   },
   "outputs": [],
   "source": [
    "# Install models from URL \n",
    "other_models = []\n",
    "\n",
    "\n",
    "########################################################################################\n",
    "\n",
    "if other_models:\n",
    "    print('⏳ Downloading models...')\n",
    "    other_resources(other_models, f'{models_path}/sd', civitai_token)\n",
    "\n",
    "os.chdir(webui)\n",
    "completed_message()"
   ]
  },
  {
   "cell_type": "markdown",
   "metadata": {
    "id": "qe4SFLnaff7T",
    "tags": []
   },
   "source": [
    "## 4. LoRA, Embedding, Upscaler and VAE"
   ]
  },
  {
   "cell_type": "markdown",
   "metadata": {
    "jp-MarkdownHeadingCollapsed": true
   },
   "source": [
    "### • Built-in Resources\n",
    "**This is just for information. No need to run this cell.**"
   ]
  },
  {
   "cell_type": "markdown",
   "metadata": {},
   "source": [
    "**Pre-installed LoRA :**\n",
    "* [Add More Details - Detail Enhancer/Tweaker](https://civitai.com/models/82098)\n",
    "* [Detail Tweaker](https://civitai.com/models/58390)\n",
    "* [Epi Noise Offset](https://civitai.com/models/13941/epinoiseoffset)\n",
    "* [LowRA](https://civitai.com/models/48139/lowra)\n",
    "\n",
    "**Pre-installed Embeddings :**  \n",
    "* [Embeddings Collection](https://huggingface.co/ffxvs/embeddings-collection)\n",
    "* [Negative Prompts Pack](https://huggingface.co/ffxvs/negative-prompts-pack) \n",
    "\n",
    "**Pre-installed Upscaler :**  \n",
    "* [UltraSharp](https://openmodeldb.info/models/4x-UltraSharp)\n",
    "\n",
    "**Pre-installed VAE :**  \n",
    "* [vae-ft-mse-840000](https://huggingface.co/stabilityai/sd-vae-ft-mse-original)"
   ]
  },
  {
   "cell_type": "markdown",
   "metadata": {
    "jp-MarkdownHeadingCollapsed": true,
    "tags": []
   },
   "source": [
    "### • Resource Lists"
   ]
  },
  {
   "cell_type": "code",
   "execution_count": null,
   "metadata": {
    "cellView": "form",
    "id": "TVaJGYKh80gz",
    "tags": []
   },
   "outputs": [],
   "source": [
    "####################################### LORA ##########################################\n",
    "\n",
    "# Depth of Field Slider - https://civitai.com/models/135380\n",
    "dopSlider = boolean[0]\n",
    "\n",
    "# Doll Likeness Series - https://huggingface.co/Kanbara/doll-likeness-series\n",
    "dollLikeness = boolean[0]\n",
    "\n",
    "# Hands SD v1.5 - https://civitai.com/models/200255?modelVersionId=228003\n",
    "handsLora = boolean[0]\n",
    "\n",
    "# Intricate Background & Background Blur - https://civitai.com/models/105732\n",
    "bgDetails = boolean[0]\n",
    "\n",
    "# LCM Lora SD v1.5 - https://huggingface.co/latent-consistency/lcm-lora-sdv1-5\n",
    "lcmLora = boolean[0]\n",
    "\n",
    "\n",
    "############################ EMBEDDINGS (TEXTUAL INVERSION) ############################\n",
    "\n",
    "# SCG Emotions Pack - https://civitai.com/models/8860\n",
    "scgEmotion = boolean[0]\n",
    "\n",
    "# SCG Embedding Toolkit - https://civitai.com/models/8551\n",
    "scgToolkit = boolean[0]\n",
    "\n",
    "# Zovya Age Slider - https://civitai.com/models/65214\n",
    "ageSlider = boolean[0]\n",
    "\n",
    "# Zovya Gender Slider - https://civitai.com/models/89709\n",
    "genderSlider = boolean[0]\n",
    "\n",
    "\n",
    "###################################### UPSCALER ########################################\n",
    "\n",
    "# BSRGAN - https://openmodeldb.info/models/4x-BSRGAN\n",
    "bsrgan = boolean[0]\n",
    "\n",
    "# LSDIRPlus - https://openmodeldb.info/models/4x-LSDIRplus\n",
    "lsdirPlus = boolean[0]\n",
    "\n",
    "# NMKD Superscale - https://openmodeldb.info/models/4x-NMKD-Superscale\n",
    "superscale = boolean[0]\n",
    "\n",
    "# Nomos8kSC - https://openmodeldb.info/models/4x-Nomos8kSC\n",
    "nomos8ksc = boolean[0]\n",
    "\n",
    "# Remacri - https://openmodeldb.info/models/4x-Remacri\n",
    "remacri = boolean[0]\n",
    "\n",
    "# UltraMix - https://upscale.wiki/w/index.php?title=Model_Database&oldid=1571\n",
    "ultraMix = boolean[0]\n",
    "\n",
    "# Valar - https://openmodeldb.info/models/4x-Valar\n",
    "valar = boolean[0]\n",
    "\n",
    "\n",
    "######################################## VAE ############################################\n",
    "\n",
    "# Blessed2 - https://civitai.com/models/118561?modelVersionId=142467\n",
    "blessed2 = boolean[0]\n",
    "\n",
    "# ClearVAE - https://civitai.com/models/22354\n",
    "clearVAE = boolean[0]\n",
    "\n",
    "# kl-f8-anime2 - https://civitai.com/models/23906\n",
    "kl_f8_anime2 = boolean[0]\n",
    "\n",
    "# NAI/NovelAI - https://huggingface.co/WarriorMama777/OrangeMixs\n",
    "novelAI = boolean[0]\n",
    "\n",
    "\n",
    "###################################################################################################\n",
    "\n",
    "os.chdir(webui)\n",
    "download_builtin_resources(sd15_builtin_resources_url, sd)\n",
    "download_lora(sd15_lora_list_url, sd)\n",
    "download_embeddings(sd15_embedding_list_url, sd)\n",
    "download_upscaler()\n",
    "download_vae(sd15_vae_list_url, sd)\n",
    "os.chdir(webui)\n",
    "completed_message()"
   ]
  },
  {
   "cell_type": "markdown",
   "metadata": {
    "jp-MarkdownHeadingCollapsed": true,
    "tags": []
   },
   "source": [
    "### • Install from URLs"
   ]
  },
  {
   "cell_type": "code",
   "execution_count": null,
   "metadata": {},
   "outputs": [],
   "source": [
    "# LoRA\n",
    "other_lora = []\n",
    "\n",
    "# Embeddings\n",
    "other_embeddings = []\n",
    "\n",
    "# Upscaler\n",
    "other_upscaler = []\n",
    "\n",
    "# VAE\n",
    "other_vae = []\n",
    "\n",
    "\n",
    "###################################################################################################\n",
    "\n",
    "download_other_resources(sd, other_lora, other_embeddings, other_upscaler, other_vae, civitai_token)\n",
    "os.chdir(webui)\n",
    "completed_message()"
   ]
  }
 ],
 "metadata": {
  "kernelspec": {
   "display_name": "Python 3 (ipykernel)",
   "language": "python",
   "name": "python3"
  },
  "language_info": {
   "codemirror_mode": {
    "name": "ipython",
    "version": 3
   },
   "file_extension": ".py",
   "mimetype": "text/x-python",
   "name": "python",
   "nbconvert_exporter": "python",
   "pygments_lexer": "ipython3",
   "version": "3.12.1"
  },
  "notebook_version": "2024.08.26",
  "toc-autonumbering": false,
  "toc-showcode": false,
  "toc-showmarkdowntxt": false,
  "toc-showtags": false,
  "widgets": {
   "application/vnd.jupyter.widget-state+json": {
    "state": {},
    "version_major": 2,
    "version_minor": 0
   }
  }
 },
 "nbformat": 4,
 "nbformat_minor": 4
}
