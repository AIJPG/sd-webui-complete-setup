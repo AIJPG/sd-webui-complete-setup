{
 "cells": [
  {
   "cell_type": "markdown",
   "metadata": {
    "editable": true,
    "slideshow": {
     "slide_type": ""
    },
    "tags": []
   },
   "source": [
    "## SD v1.5 Resource Lists\n",
    "\n",
    "**Homepage :** [SD Webui Complete Setup](https://github.com/AIJPG/sd-webui-complete-setup)  \n",
    "**Guide :** [Resource Lists Guide](https://github.com/AIJPG/sd-webui-complete-setup/wiki/Resource-Lists-Guide)"
   ]
  },
  {
   "cell_type": "markdown",
   "metadata": {
    "id": "AcADZumt8rYd",
    "tags": []
   },
   "source": [
    "## 1. Requirements"
   ]
  },
  {
   "cell_type": "markdown",
   "metadata": {
    "collapsed": false,
    "jupyter": {
     "outputs_hidden": false
    }
   },
   "source": [
    "### • Initialization\n",
    "**REQUIRED EVERY TIME YOU START THE MACHINE**"
   ]
  },
  {
   "cell_type": "code",
   "execution_count": null,
   "metadata": {},
   "outputs": [],
   "source": [
    "import os\n",
    "os.chdir('/')\n",
    "from internal.main import *\n",
    "os.environ['BASE_MODEL'] = base.SD15\n",
    "\n",
    "apply_envs1()\n",
    "completed_message()"
   ]
  },
  {
   "cell_type": "markdown",
   "metadata": {},
   "source": [
    "## 2. ControlNet"
   ]
  },
  {
   "cell_type": "markdown",
   "metadata": {
    "jp-MarkdownHeadingCollapsed": true
   },
   "source": [
    "### • ControlNet Models"
   ]
  },
  {
   "cell_type": "code",
   "execution_count": null,
   "metadata": {},
   "outputs": [],
   "source": [
    "# ControlNet - https://github.com/lllyasviel/ControlNet-v1-1-nightly\n",
    "# Select models to download. Default models are : depth, ip-adapter, openpose, tile\n",
    "controlnet = {\n",
    "    'canny': boolean[0],\n",
    "    'depth': boolean[1],\n",
    "    'inpaint': boolean[0],\n",
    "    'ip2p': boolean[0],\n",
    "    'ipadapter': boolean[1],\n",
    "    'ipadapter_face': boolean[0],\n",
    "    'lineart': boolean[0],\n",
    "    'lineart_anime': boolean[0],\n",
    "    'mlsd': boolean[0],\n",
    "    'normal': boolean[0],\n",
    "    'openpose': boolean[1],\n",
    "    'recolor': boolean[0],\n",
    "    'scribble': boolean[0],\n",
    "    'seg': boolean[0],\n",
    "    'shuffle': boolean[0],\n",
    "    'softedge': boolean[0],\n",
    "    'tile': boolean[1]\n",
    "}\n",
    "\n",
    "# T2I-Adapter - https://github.com/TencentARC/T2I-Adapter/tree/SD\n",
    "# A lighter alternative to offical controlnet models. Select models to download. \n",
    "t2i_adapter = {  \n",
    "    'canny': boolean[0],\n",
    "    'color': boolean[0],\n",
    "    'depth': boolean[0],\n",
    "    'keypose': boolean[0],\n",
    "    'openpose': boolean[0],\n",
    "    'seg': boolean[0],\n",
    "    'sketch': boolean[0],\n",
    "    'style': boolean[0],\n",
    "    'zoedepth': boolean[0]\n",
    "}\n",
    "\n",
    "\n",
    "#########################################################################################################\n",
    "\n",
    "print(\"\\n⏳ Download selected controlNet models...\")\n",
    "download_controlnet(controlnet, sd15_controlnet_url)\n",
    "print(\"\\n⏳ Download selected T2I-Adapter...\")\n",
    "download_controlnet(t2i_adapter, sd15_t2i_adapter_url)\n",
    "os.chdir(webui_path)\n",
    "completed_message()"
   ]
  },
  {
   "cell_type": "markdown",
   "metadata": {
    "jp-MarkdownHeadingCollapsed": true
   },
   "source": [
    "### • Install from URLs"
   ]
  },
  {
   "cell_type": "code",
   "execution_count": null,
   "metadata": {},
   "outputs": [],
   "source": [
    "# Install controlNet models from URL \n",
    "other_controlnet = []\n",
    "\n",
    "\n",
    "#########################################################################################################\n",
    "\n",
    "if other_controlnet:\n",
    "    print('⏳ Downloading controlNet models...')\n",
    "    download_other_res(other_controlnet, f'{controlnet_models_path}/sd')\n",
    "\n",
    "os.chdir(webui_path)\n",
    "completed_message()"
   ]
  },
  {
   "cell_type": "markdown",
   "metadata": {
    "id": "sS2bjZrRfRu2",
    "tags": []
   },
   "source": [
    "## 3. SD v1.5 Models\n",
    "**Run the cell and select the model version you want to download**  "
   ]
  },
  {
   "cell_type": "markdown",
   "metadata": {
    "jp-MarkdownHeadingCollapsed": true,
    "tags": []
   },
   "source": [
    "### • Anime / Cartoon / 3D"
   ]
  },
  {
   "cell_type": "code",
   "execution_count": null,
   "metadata": {},
   "outputs": [],
   "source": [
    "models_selection(sd15_anime_models_url)\n",
    "os.chdir(webui_path)\n"
   ]
  },
  {
   "cell_type": "markdown",
   "metadata": {
    "id": "ySk6xCuCJJpl",
    "jp-MarkdownHeadingCollapsed": true,
    "tags": []
   },
   "source": [
    "### • General Purpose"
   ]
  },
  {
   "cell_type": "code",
   "execution_count": null,
   "metadata": {
    "cellView": "form",
    "id": "LcRD2PyjJMuP"
   },
   "outputs": [],
   "source": [
    "models_selection(sd15_general_models_url)\n",
    "os.chdir(webui_path)\n"
   ]
  },
  {
   "cell_type": "markdown",
   "metadata": {
    "id": "q7N-mw17j7G4",
    "jp-MarkdownHeadingCollapsed": true,
    "tags": []
   },
   "source": [
    "### • Realistic"
   ]
  },
  {
   "cell_type": "code",
   "execution_count": null,
   "metadata": {
    "cellView": "form",
    "id": "5ktgkG1Qj9H6"
   },
   "outputs": [],
   "source": [
    "models_selection(sd15_realistic_models_url)\n",
    "os.chdir(webui_path)\n"
   ]
  },
  {
   "cell_type": "markdown",
   "metadata": {
    "id": "YyShd1x_yPzI",
    "jp-MarkdownHeadingCollapsed": true,
    "tags": []
   },
   "source": [
    "### • Woman"
   ]
  },
  {
   "cell_type": "code",
   "execution_count": null,
   "metadata": {
    "cellView": "form",
    "id": "i_IIx3pWyRgK",
    "tags": []
   },
   "outputs": [],
   "source": [
    "models_selection(sd15_woman_models_url)\n",
    "os.chdir(webui_path)\n"
   ]
  },
  {
   "cell_type": "markdown",
   "metadata": {
    "id": "4DDVVCkQxp8U",
    "jp-MarkdownHeadingCollapsed": true,
    "tags": []
   },
   "source": [
    "### • Install from URLs"
   ]
  },
  {
   "cell_type": "code",
   "execution_count": null,
   "metadata": {
    "cellView": "form",
    "id": "4GhWKu_Jxrxl",
    "tags": []
   },
   "outputs": [],
   "source": [
    "# Install models from URL \n",
    "other_models = []\n",
    "\n",
    "\n",
    "#########################################################################################################\n",
    "\n",
    "if other_models:\n",
    "    print('⏳ Downloading models...')\n",
    "    download_other_res(other_models, f'{models_path}/sd')\n",
    "\n",
    "os.chdir(webui_path)\n",
    "completed_message()"
   ]
  },
  {
   "cell_type": "markdown",
   "metadata": {
    "id": "qe4SFLnaff7T",
    "tags": []
   },
   "source": [
    "## 4. LoRA, Embedding, Upscaler and VAE"
   ]
  },
  {
   "cell_type": "markdown",
   "metadata": {
    "jp-MarkdownHeadingCollapsed": true
   },
   "source": [
    "### • Built-in Resources  \n",
    "This is an information cell.  \n",
    "To download these resources, run the `Resource Lists` cell below."
   ]
  },
  {
   "cell_type": "markdown",
   "metadata": {},
   "source": [
    "**Built-in LoRA :**\n",
    "* [Add More Details - Detail Enhancer/Tweaker](https://civitai.com/models/82098)\n",
    "* [Detail Tweaker](https://civitai.com/models/58390)\n",
    "* [Epi Noise Offset](https://civitai.com/models/13941/epinoiseoffset)\n",
    "\n",
    "**Built-in Embeddings :**  \n",
    "* [Embeddings Collection](https://huggingface.co/AIJPG/embeddings-collection)\n",
    "* [Negative Prompts Pack](https://huggingface.co/AIJPG/negative-prompts-pack) \n",
    "\n",
    "**Built-in Upscaler :**  \n",
    "* [UltraSharp](https://openmodeldb.info/models/4x-UltraSharp)\n",
    "\n",
    "**Built-in VAE :**  \n",
    "* [vae-ft-mse-840000](https://huggingface.co/stabilityai/sd-vae-ft-mse-original)"
   ]
  },
  {
   "cell_type": "markdown",
   "metadata": {
    "tags": []
   },
   "source": [
    "### • Resource Lists"
   ]
  },
  {
   "cell_type": "code",
   "execution_count": null,
   "metadata": {
    "cellView": "form",
    "id": "TVaJGYKh80gz",
    "tags": []
   },
   "outputs": [],
   "source": [
    "# Run this cell to display the resource lists\n",
    "\n",
    "resources_selection(sd15_builtin_resources_url, sd15_resources_url)\n",
    "os.chdir(webui_path)"
   ]
  },
  {
   "cell_type": "markdown",
   "metadata": {
    "jp-MarkdownHeadingCollapsed": true,
    "tags": []
   },
   "source": [
    "### • Install from URLs"
   ]
  },
  {
   "cell_type": "code",
   "execution_count": null,
   "metadata": {},
   "outputs": [],
   "source": [
    "# LoRA\n",
    "other.lora = []\n",
    "\n",
    "# Embeddings\n",
    "other.embedding = []\n",
    "\n",
    "# ESRGAN-based Upscaler\n",
    "other.esrgan = []\n",
    "\n",
    "# DAT-based Upscaler\n",
    "other.dat = []\n",
    "\n",
    "# VAE\n",
    "other.vae = []\n",
    "\n",
    "\n",
    "#########################################################################################################\n",
    "\n",
    "other_resources(other)\n",
    "os.chdir(webui_path)\n",
    "completed_message()"
   ]
  }
 ],
 "metadata": {
  "kernelspec": {
   "display_name": "Python 3 (ipykernel)",
   "language": "python",
   "name": "python3"
  },
  "language_info": {
   "codemirror_mode": {
    "name": "ipython",
    "version": 3
   },
   "file_extension": ".py",
   "mimetype": "text/x-python",
   "name": "python",
   "nbconvert_exporter": "python",
   "pygments_lexer": "ipython3",
   "version": "3.10.11"
  },
  "notebook_version": "2024.10.15"
 },
 "nbformat": 4,
 "nbformat_minor": 4
}
