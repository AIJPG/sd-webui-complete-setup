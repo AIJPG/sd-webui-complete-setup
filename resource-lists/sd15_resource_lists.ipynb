{
 "cells": [
  {
   "cell_type": "markdown",
   "metadata": {
    "editable": true,
    "jp-MarkdownHeadingCollapsed": true,
    "slideshow": {
     "slide_type": ""
    },
    "tags": []
   },
   "source": [
    "## SD v1.5 Resource Lists\n",
    "**Homepage :** [SD Webui Complete setup](https://github.com/ffxvs/sd-webui-complete-setup)  \n",
    "**Guide :** [Resource Lists Guide](https://github.com/ffxvs/sd-webui-complete-setup/wiki/Resource-Lists-Guide)"
   ]
  },
  {
   "cell_type": "markdown",
   "metadata": {
    "id": "AcADZumt8rYd",
    "tags": []
   },
   "source": [
    "## 1. Requirements"
   ]
  },
  {
   "cell_type": "markdown",
   "metadata": {
    "collapsed": false,
    "jupyter": {
     "outputs_hidden": false
    }
   },
   "source": [
    "### • Initialization\n",
    "**REQUIRED EVERY TIME YOU START THE MACHINE**"
   ]
  },
  {
   "cell_type": "code",
   "execution_count": null,
   "metadata": {},
   "outputs": [],
   "source": [
    "# Civitai Token - Required to download models that require login\n",
    "civitai_token = ''\n",
    "\n",
    "\n",
    "################################################################################################################\n",
    "\n",
    "import os\n",
    "os.chdir('/')\n",
    "from internal.main import *\n",
    "apply_envs1()\n",
    "completed_message()"
   ]
  },
  {
   "cell_type": "markdown",
   "metadata": {},
   "source": [
    "## 2. ControlNet"
   ]
  },
  {
   "cell_type": "markdown",
   "metadata": {
    "jp-MarkdownHeadingCollapsed": true
   },
   "source": [
    "### • ControlNet Models"
   ]
  },
  {
   "cell_type": "code",
   "execution_count": null,
   "metadata": {},
   "outputs": [],
   "source": [
    "# ControlNet - https://github.com/lllyasviel/ControlNet-v1-1-nightly\n",
    "# Select models to download. Default models are : depth, ip-adapter, openpose, tile\n",
    "controlnet = {\n",
    "    'canny': boolean[0],\n",
    "    'depth': boolean[1],\n",
    "    'inpaint': boolean[0],\n",
    "    'ip2p': boolean[0],\n",
    "    'ipadapter': boolean[1],\n",
    "    'ipadapter_face': boolean[0],\n",
    "    'lineart': boolean[0],\n",
    "    'lineart_anime': boolean[0],\n",
    "    'mlsd': boolean[0],\n",
    "    'normal': boolean[0],\n",
    "    'openpose': boolean[1],\n",
    "    'recolor': boolean[0],\n",
    "    'scribble': boolean[0],\n",
    "    'seg': boolean[0],\n",
    "    'shuffle': boolean[0],\n",
    "    'softedge': boolean[0],\n",
    "    'tile': boolean[1]\n",
    "}\n",
    "\n",
    "# T2I-Adapter - https://github.com/TencentARC/T2I-Adapter/tree/SD\n",
    "# A lighter alternative to offical controlnet models. Select models to download. \n",
    "t2i_adapter = {  \n",
    "    'canny': boolean[0],\n",
    "    'color': boolean[0],\n",
    "    'depth': boolean[0],\n",
    "    'keypose': boolean[0],\n",
    "    'openpose': boolean[0],\n",
    "    'seg': boolean[0],\n",
    "    'sketch': boolean[0],\n",
    "    'style': boolean[0],\n",
    "    'zoedepth': boolean[0]\n",
    "}\n",
    "\n",
    "\n",
    "################################################################################################################\n",
    "\n",
    "print(\"\\n⏳ Download selected controlNet models...\")\n",
    "download_controlnet(controlnet, sd15_controlnet_url, sd)\n",
    "print(\"\\n⏳ Download selected T2I-Adapter...\")\n",
    "download_controlnet(t2i_adapter, sd15_t2i_adapter_url, sd)\n",
    "os.chdir(webui)\n",
    "completed_message()"
   ]
  },
  {
   "cell_type": "markdown",
   "metadata": {
    "jp-MarkdownHeadingCollapsed": true
   },
   "source": [
    "### • Install from URLs"
   ]
  },
  {
   "cell_type": "code",
   "execution_count": null,
   "metadata": {},
   "outputs": [],
   "source": [
    "# Install controlNet models from URL \n",
    "other_controlnet = []\n",
    "\n",
    "\n",
    "########################################################################################\n",
    "\n",
    "if other_controlnet:\n",
    "    print('⏳ Downloading controlNet models...')\n",
    "    other_resources(other_controlnet, f'{controlnet_models_path}/sd', civitai_token)\n",
    "\n",
    "os.chdir(webui)\n",
    "completed_message()"
   ]
  },
  {
   "cell_type": "markdown",
   "metadata": {
    "id": "sS2bjZrRfRu2",
    "tags": []
   },
   "source": [
    "## 3. SD v1.5 Models\n",
    "**Choose models you want to download**  \n",
    "Some models hosted by Civitai require you to login to download.  \n",
    "Create an API key in [Civitai user settings](https://civitai.com/user/account) then paste it to `civiai_token` inside Initialization cell."
   ]
  },
  {
   "cell_type": "markdown",
   "metadata": {
    "jp-MarkdownHeadingCollapsed": true,
    "tags": []
   },
   "source": [
    "### • Anime / Cartoon / 3D"
   ]
  },
  {
   "cell_type": "code",
   "execution_count": null,
   "metadata": {},
   "outputs": [],
   "source": [
    "models_selection(sd15_anime_models_url, sd, civitai_token)"
   ]
  },
  {
   "cell_type": "markdown",
   "metadata": {
    "id": "ySk6xCuCJJpl",
    "jp-MarkdownHeadingCollapsed": true,
    "tags": []
   },
   "source": [
    "### • General Purpose"
   ]
  },
  {
   "cell_type": "code",
   "execution_count": null,
   "metadata": {
    "cellView": "form",
    "id": "LcRD2PyjJMuP"
   },
   "outputs": [],
   "source": [
    "models_selection(sd15_general_models_url, sd, civitai_token)"
   ]
  },
  {
   "cell_type": "markdown",
   "metadata": {
    "id": "q7N-mw17j7G4",
    "jp-MarkdownHeadingCollapsed": true,
    "tags": []
   },
   "source": [
    "### • Realistic"
   ]
  },
  {
   "cell_type": "code",
   "execution_count": null,
   "metadata": {
    "cellView": "form",
    "id": "5ktgkG1Qj9H6"
   },
   "outputs": [],
   "source": [
    "models_selection(sd15_realistic_models_url, sd, civitai_token)"
   ]
  },
  {
   "cell_type": "markdown",
   "metadata": {
    "id": "YyShd1x_yPzI",
    "jp-MarkdownHeadingCollapsed": true,
    "tags": []
   },
   "source": [
    "### • Woman"
   ]
  },
  {
   "cell_type": "code",
   "execution_count": null,
   "metadata": {
    "cellView": "form",
    "id": "i_IIx3pWyRgK",
    "tags": []
   },
   "outputs": [],
   "source": [
    "models_selection(sd15_woman_models_url, sd, civitai_token)"
   ]
  },
  {
   "cell_type": "markdown",
   "metadata": {
    "id": "4DDVVCkQxp8U",
    "jp-MarkdownHeadingCollapsed": true,
    "tags": []
   },
   "source": [
    "### • Install from URLs"
   ]
  },
  {
   "cell_type": "code",
   "execution_count": null,
   "metadata": {
    "cellView": "form",
    "id": "4GhWKu_Jxrxl",
    "tags": []
   },
   "outputs": [],
   "source": [
    "# Install models from URL \n",
    "other_models = []\n",
    "\n",
    "\n",
    "########################################################################################\n",
    "\n",
    "if other_models:\n",
    "    print('⏳ Downloading models...')\n",
    "    other_resources(other_models, f'{models_path}/sd', civitai_token)\n",
    "\n",
    "os.chdir(webui)\n",
    "completed_message()"
   ]
  },
  {
   "cell_type": "markdown",
   "metadata": {
    "id": "qe4SFLnaff7T",
    "tags": []
   },
   "source": [
    "## 4. LoRA, Embedding, Upscaler and VAE"
   ]
  },
  {
   "cell_type": "markdown",
   "metadata": {
    "jp-MarkdownHeadingCollapsed": true
   },
   "source": [
    "### • Built-in Resources\n",
    "**This is just for information. No need to run this cell.**"
   ]
  },
  {
   "cell_type": "markdown",
   "metadata": {},
   "source": [
    "**Pre-installed LoRA :**\n",
    "* [Add More Details - Detail Enhancer/Tweaker](https://civitai.com/models/82098)\n",
    "* [Detail Tweaker](https://civitai.com/models/58390)\n",
    "* [Epi Noise Offset](https://civitai.com/models/13941/epinoiseoffset)\n",
    "* [LowRA](https://civitai.com/models/48139/lowra)\n",
    "\n",
    "**Pre-installed Embeddings :**  \n",
    "* [Embeddings Collection](https://huggingface.co/ffxvs/embeddings-collection)\n",
    "* [Negative Prompts Pack](https://huggingface.co/ffxvs/negative-prompts-pack) \n",
    "\n",
    "**Pre-installed Upscaler :**  \n",
    "* [UltraSharp](https://openmodeldb.info/models/4x-UltraSharp)\n",
    "\n",
    "**Pre-installed VAE :**  \n",
    "* [vae-ft-mse-840000](https://huggingface.co/stabilityai/sd-vae-ft-mse-original)"
   ]
  },
  {
   "cell_type": "markdown",
   "metadata": {
    "jp-MarkdownHeadingCollapsed": true,
    "tags": []
   },
   "source": [
    "### • Resource Lists"
   ]
  },
  {
   "cell_type": "code",
   "execution_count": null,
   "metadata": {
    "cellView": "form",
    "id": "TVaJGYKh80gz",
    "tags": []
   },
   "outputs": [],
   "source": [
    "####################################### LORA ##########################################\n",
    "\n",
    "# Depth of Field Slider - https://civitai.com/models/135380\n",
    "dopSlider = boolean[0]\n",
    "\n",
    "# Doll Likeness Series - https://huggingface.co/Kanbara/doll-likeness-series\n",
    "dollLikeness = boolean[0]\n",
    "\n",
    "# Hands SD v1.5 - https://civitai.com/models/200255?modelVersionId=228003\n",
    "handsLora = boolean[0]\n",
    "\n",
    "# Intricate Background & Background Blur - https://civitai.com/models/105732\n",
    "bgDetails = boolean[0]\n",
    "\n",
    "# LCM Lora SD v1.5 - https://huggingface.co/latent-consistency/lcm-lora-sdv1-5\n",
    "lcmLora = boolean[0]\n",
    "\n",
    "\n",
    "############################ EMBEDDINGS (TEXTUAL INVERSION) ############################\n",
    "\n",
    "# SCG Emotions Pack - https://civitai.com/models/8860\n",
    "scgEmotion = boolean[0]\n",
    "\n",
    "# SCG Embedding Toolkit - https://civitai.com/models/8551\n",
    "scgToolkit = boolean[0]\n",
    "\n",
    "# Zovya Age Slider - https://civitai.com/models/65214\n",
    "ageSlider = boolean[0]\n",
    "\n",
    "# Zovya Gender Slider - https://civitai.com/models/89709\n",
    "genderSlider = boolean[0]\n",
    "\n",
    "\n",
    "###################################### UPSCALER ########################################\n",
    "\n",
    "# BSRGAN - https://openmodeldb.info/models/4x-BSRGAN\n",
    "bsrgan = boolean[0]\n",
    "\n",
    "# LSDIRPlus - https://openmodeldb.info/models/4x-LSDIRplus\n",
    "lsdirPlus = boolean[0]\n",
    "\n",
    "# NMKD Superscale - https://openmodeldb.info/models/4x-NMKD-Superscale\n",
    "superscale = boolean[0]\n",
    "\n",
    "# Nomos8kSC - https://openmodeldb.info/models/4x-Nomos8kSC\n",
    "nomos8ksc = boolean[0]\n",
    "\n",
    "# Remacri - https://openmodeldb.info/models/4x-Remacri\n",
    "remacri = boolean[0]\n",
    "\n",
    "# UltraMix - https://upscale.wiki/w/index.php?title=Model_Database&oldid=1571\n",
    "ultraMix = boolean[0]\n",
    "\n",
    "# Valar - https://openmodeldb.info/models/4x-Valar\n",
    "valar = boolean[0]\n",
    "\n",
    "\n",
    "######################################## VAE ############################################\n",
    "\n",
    "# Blessed2 - https://civitai.com/models/118561?modelVersionId=142467\n",
    "blessed2 = boolean[0]\n",
    "\n",
    "# ClearVAE - https://civitai.com/models/22354\n",
    "clearVAE = boolean[0]\n",
    "\n",
    "# kl-f8-anime2 - https://civitai.com/models/23906\n",
    "kl_f8_anime2 = boolean[0]\n",
    "\n",
    "# NAI/NovelAI - https://huggingface.co/WarriorMama777/OrangeMixs\n",
    "novelAI = boolean[0]\n",
    "\n",
    "\n",
    "###################################################################################################\n",
    "\n",
    "os.chdir(webui)\n",
    "download_builtin_resources(sd15_builtin_resources_url, sd)\n",
    "download_lora(sd15_lora_list_url, sd)\n",
    "download_embeddings(sd15_embedding_list_url, sd)\n",
    "download_upscaler()\n",
    "download_vae(sd15_vae_list_url, sd)\n",
    "os.chdir(webui)\n",
    "completed_message()"
   ]
  },
  {
   "cell_type": "markdown",
   "metadata": {
    "jp-MarkdownHeadingCollapsed": true,
    "tags": []
   },
   "source": [
    "### • Install from URLs"
   ]
  },
  {
   "cell_type": "code",
   "execution_count": null,
   "metadata": {},
   "outputs": [],
   "source": [
    "# LoRA\n",
    "other_lora = []\n",
    "\n",
    "# Embeddings\n",
    "other_embeddings = []\n",
    "\n",
    "# Upscaler\n",
    "other_upscaler = []\n",
    "\n",
    "# VAE\n",
    "other_vae = []\n",
    "\n",
    "\n",
    "###################################################################################################\n",
    "\n",
    "download_other_resources(sd, other_lora, other_embeddings, other_upscaler, other_vae, civitai_token)\n",
    "os.chdir(webui)\n",
    "completed_message()"
   ]
  }
 ],
 "metadata": {
  "kernelspec": {
   "display_name": "Python 3 (ipykernel)",
   "language": "python",
   "name": "python3"
  },
  "language_info": {
   "codemirror_mode": {
    "name": "ipython",
    "version": 3
   },
   "file_extension": ".py",
   "mimetype": "text/x-python",
   "name": "python",
   "nbconvert_exporter": "python",
   "pygments_lexer": "ipython3",
   "version": "3.12.1"
  },
  "notebook_version": "2024.08.26",
  "toc-autonumbering": false,
  "toc-showcode": false,
  "toc-showmarkdowntxt": false,
  "toc-showtags": false,
  "widgets": {
   "application/vnd.jupyter.widget-state+json": {
    "state": {},
    "version_major": 2,
    "version_minor": 0
   }
  }
 },
 "nbformat": 4,
 "nbformat_minor": 4
}
