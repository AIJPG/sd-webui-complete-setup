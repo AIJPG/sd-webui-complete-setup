{
 "cells": [
  {
   "cell_type": "markdown",
   "metadata": {},
   "source": [
    "## SDXL Resource Lists\n",
    "**Homepage :** [SD Webui Complete setup](https://github.com/ffxvs/sd-webui-complete-setup)  \n",
    "**Guide :** [Resource Lists Guide](https://github.com/ffxvs/sd-webui-complete-setup/wiki/Resource-Lists-Guide)"
   ]
  },
  {
   "cell_type": "markdown",
   "metadata": {
    "jp-MarkdownHeadingCollapsed": true,
    "tags": []
   },
   "source": [
    "### Check for Updates\n",
    "\n",
    "**Version : 2024.04.07**"
   ]
  },
  {
   "cell_type": "code",
   "execution_count": null,
   "metadata": {
    "tags": []
   },
   "outputs": [],
   "source": [
    "import ipywidgets as widgets\n",
    "from IPython.utils import capture \n",
    "import requests\n",
    "\n",
    "button = widgets.Button(description=\"Download now\", button_style='success')\n",
    "output = widgets.Output()\n",
    "\n",
    "def on_button_clicked(b, url, version):\n",
    "  with output:\n",
    "    print('Downloading...')\n",
    "    !wget -nv -O /notebooks/sdxl_resource_lists_{version}.ipynb {url}\n",
    "    print(f'sdxl_resource_lists_{version}.ipynb downloaded in the root directory')\n",
    "\n",
    "currentVersion = '2024.04.07'\n",
    "updateURL = 'https://raw.githubusercontent.com/ffxvs/sd-webui-complete-setup/main/updates.json'\n",
    "res = requests.get(updateURL)\n",
    "\n",
    "if res.status_code == 200:\n",
    "    for notebook in res.json()['resources']:\n",
    "        if notebook['id'] == 'sdxl':\n",
    "            print('Current version : ' + currentVersion)\n",
    "            print('Latest version  : ' + notebook['version'])\n",
    "            if (notebook['version'] > currentVersion):\n",
    "                print('\\nThere is new version')\n",
    "                button.on_click(lambda b: on_button_clicked(b, notebook['url'], notebook['version']))\n",
    "                display(button, output)\n",
    "                print('\\nChangelog :')\n",
    "                print(notebook['changelog'])\n",
    "            else:\n",
    "                print('\\nThis is the latest version')            \n",
    "else:\n",
    "    print('Failed to check for updates') \n",
    "    print('Response code :', res.status_code)"
   ]
  },
  {
   "cell_type": "markdown",
   "metadata": {
    "id": "AcADZumt8rYd",
    "tags": []
   },
   "source": [
    "## 1. Requirements"
   ]
  },
  {
   "cell_type": "markdown",
   "metadata": {
    "jp-MarkdownHeadingCollapsed": true,
    "tags": []
   },
   "source": [
    "### • Variables and Functions\n",
    "**REQUIRED EVERY TIME YOU RUN THIS NOTEBOOK**"
   ]
  },
  {
   "cell_type": "code",
   "execution_count": null,
   "metadata": {
    "tags": []
   },
   "outputs": [],
   "source": [
    "# Civitai Token - Required to download models that require login\n",
    "civitaiToken = ''\n",
    "\n",
    "\n",
    "##################################### IMPORT #######################################\n",
    "\n",
    "import os, re, requests\n",
    "import ipywidgets as widgets\n",
    "from IPython.utils import capture\n",
    "from IPython.display import clear_output\n",
    "\n",
    "############################ ENVIRONMENT VARIABLES ################################\n",
    "\n",
    "os.environ['LD_PRELOAD'] = '/lib/x86_64-linux-gnu/libtcmalloc.so.4'\n",
    "os.environ['TF_CPP_MIN_LOG_LEVEL'] = '2'\n",
    "os.environ['PYTHONWARNINGS'] = 'ignore'\n",
    "os.environ['PIP_ROOT_USER_ACTION'] = 'ignore'\n",
    "os.environ['PIP_DISABLE_PIP_VERSION_CHECK'] = '1'\n",
    "\n",
    "########################### GLOBAL PATHS AND FUNCTION ###########################\n",
    "\n",
    "# Paths\n",
    "root = '/notebooks'\n",
    "a1111 = '/stable-diffusion-webui'\n",
    "forge = '/stable-diffusion-webui-forge'\n",
    "\n",
    "if os.path.exists(root + a1111):\n",
    "    webui = root + a1111\n",
    "elif os.path.exists(root + forge):\n",
    "    webui = root + forge\n",
    "else:\n",
    "    raise Exception('Stable Diffusion Webui directory is not found')\n",
    "\n",
    "controlNetModelsPath = webui + \"/models/ControlNet\"\n",
    "embeddingsPath = webui + \"/embeddings\"\n",
    "modelsPath = webui + \"/models/Stable-diffusion\"\n",
    "loraPath = webui + \"/models/Lora\"\n",
    "upscalerPath = webui + \"/models/ESRGAN\"\n",
    "vaePath = webui + \"/models/VAE\"\n",
    "\n",
    "# Resource URLs\n",
    "mainRepoURL = 'https://raw.githubusercontent.com/ffxvs/sd-webui-complete-setup/main'\n",
    "controlNetURL = mainRepoURL + '/res/sdxl/sdxl-controlnet.json'\n",
    "animeModelsURL = mainRepoURL + '/res/sdxl/models/sdxl-anime-models.json'\n",
    "generalModelsURL = mainRepoURL + '/res/sdxl/models/sdxl-general-models.json'\n",
    "realisticModelsURL = mainRepoURL + '/res/sdxl/models/sdxl-realistic-models.json'\n",
    "womanModelsURL = mainRepoURL + '/res/sdxl/models/sdxl-woman-models.json'\n",
    "builtinResourcesURL = mainRepoURL + '/res/sdxl/sdxl-builtin-resources.json'\n",
    "loraListURL = mainRepoURL + '/res/sdxl/sdxl-lora.json'\n",
    "upscalerListURL = mainRepoURL + '/res/upscaler.json'\n",
    "\n",
    "boolean = [False, True]\n",
    "requestHeaders = {\n",
    "    \"Cache-Control\": \"no-cache, no-store, must-revalidate\",\n",
    "    \"Pragma\": \"no-cache\",\n",
    "    \"Expires\": \"0\"\n",
    "}\n",
    "\n",
    "# Complete message\n",
    "def completedMessage(): \n",
    "    completed = widgets.Button(description='Completed', button_style='success', icon='check')\n",
    "    print('\\n')\n",
    "    display(completed)\n",
    "\n",
    "# Resource\n",
    "def getResource(url):\n",
    "    res = requests.get(url, headers=requestHeaders)\n",
    "    if res.status_code == 200:\n",
    "        return res.json()\n",
    "    else:\n",
    "        return False\n",
    "\n",
    "# Aria2c\n",
    "def downloader(url, path, overwrite=False):\n",
    "    args = '--download-result=hide --console-log-level=error -c -x 16 -s 16 -k 1M '\n",
    "    if overwrite: args += '--allow-overwrite'\n",
    "    if url.startswith('https://civitai.com/api/download/') and civitaiToken:\n",
    "        if '?' in url:\n",
    "            url = f'{url}&token={civitaiToken}'\n",
    "        else:\n",
    "            url = f'{url}?token={civitaiToken}'\n",
    "    formattedURL = '\"' + url + '\"'\n",
    "    if bool(re.search(r'\\/[\\w\\.-]+\\.\\w+$', url)):\n",
    "        filename = url.split('/')[-1]\n",
    "        !aria2c {args} {formattedURL} -d {path} -o {filename}\n",
    "    else:\n",
    "        !aria2c {args} {formattedURL} -d {path}\n",
    "\n",
    "# Git Clone\n",
    "def silentClone(command, path, update=False, overwrite=False):\n",
    "    directory = command.split('/')[-1]\n",
    "    if os.path.exists(path + '/' + directory):\n",
    "        if update:\n",
    "            os.chdir(f'{path}/{directory}')\n",
    "            !git pull -q\n",
    "        elif overwrite:\n",
    "            !rm -r {path}/{directory}\n",
    "            !git clone -q --depth 10 {command} {path}/{directory}\n",
    "    else:\n",
    "        !git clone -q --depth 10 {command} {path}/{directory}\n",
    "\n",
    "# WGet\n",
    "def silentGet(command):\n",
    "    !wget -nv {command}\n",
    "\n",
    "# ControlNet\n",
    "def downloadControlNet(controlNet, url):\n",
    "    controlNetData = getResource(url)\n",
    "    for model in controlNet:\n",
    "        if controlNet[model]:\n",
    "            print('\\n' + model + '...')\n",
    "            for url in controlNetData[model]:\n",
    "                downloader(url, f'{controlNetModelsPath}/sdxl')\n",
    "                print('')\n",
    "\n",
    "# Model Mapper\n",
    "def modelMapper(name, version, url):\n",
    "    return {\n",
    "        'name': name,\n",
    "        'version': version,\n",
    "        'url': url\n",
    "    }\n",
    "\n",
    "# Selected Models\n",
    "def selectedModels(modelsURL):\n",
    "    modelList = []\n",
    "    for model in getResource(modelsURL)['models']:\n",
    "        isSelected = eval(model['id'])\n",
    "        if isSelected != 'Select version...':\n",
    "            for variant in model['variants']:\n",
    "                if variant['version'] == isSelected:\n",
    "                    modelList.append(modelMapper(\n",
    "                        model['name'],\n",
    "                        variant['version'],\n",
    "                        variant['url']\n",
    "                    ))\n",
    "    return modelList\n",
    "\n",
    "# Download models\n",
    "def downloadModels(modelsURL):\n",
    "    print('⏳ Downloading selected models...')\n",
    "    for model in selectedModels(modelsURL):\n",
    "        print(f\"\\n* {model['name']} | {model['version']}\")\n",
    "        downloader(model['url'], f'{modelsPath}/sdxl')\n",
    "\n",
    "# Built-in resources\n",
    "def builtinResources(resourceList, resourcePath):\n",
    "    for resource in resourceList:\n",
    "        print(f\"\\n{resource['name']}...\")\n",
    "        downloader(resource['url'], resourcePath)\n",
    "\n",
    "def downloadBuiltinResources():\n",
    "    resource = getResource(builtinResourcesURL)\n",
    "    print('⏳ Downloading built-in LoRA...')\n",
    "    builtinResources(resource['lora'], f'{loraPath}/sdxl')\n",
    "    print('\\n\\n⏳ Downloading built-in Embeddings...')\n",
    "    for embedding in resource['embeddings']:\n",
    "        print(embedding['name'] + '...')\n",
    "        silentClone(embedding['url'], f'{embeddingsPath}/sdxl', True)\n",
    "    print('\\n\\n⏳ Downloading built-in upscaler...')\n",
    "    builtinResources(resource['upscaler'], upscalerPath)\n",
    "    print('\\n\\n⏳ Downloading built-in VAE...')\n",
    "    builtinResources(resource['vae'], f'{vaePath}/sdxl')\n",
    "\n",
    "# Selected resources\n",
    "def selectedResources(resourceList, resourcePath):\n",
    "    for resource in resourceList:\n",
    "        if eval(resource['id']):\n",
    "            print(f\"\\n {resource['name']}...\")\n",
    "            for url in resource['url']:\n",
    "                downloader(url, resourcePath)\n",
    "                print('')\n",
    "\n",
    "def downloadSelectedResources():\n",
    "    print('\\n\\n⏳ Downloading selected LoRA...')\n",
    "    selectedResources(getResource(loraListURL)['lora'], f'{loraPath}/sdxl')\n",
    "    print('\\n\\n⏳ Downloading selected upscaler...')\n",
    "    selectedResources(getResource(upscalerListURL)['upscaler'], upscalerPath)\n",
    "\n",
    "# Other resources\n",
    "def otherResources(resourceList, resourcePath):\n",
    "    for resource in resourceList:\n",
    "        print('\\n' + resource)\n",
    "        downloader(resource, resourcePath)\n",
    "\n",
    "def downloadOtherResources(lora, embeddings, upscaler, vae):\n",
    "    if lora:\n",
    "        print('\\n\\n⏳ Downloading LoRA...')\n",
    "        otherResources(lora, f'{loraPath}/sdxl')\n",
    "    if embeddings:\n",
    "        print('\\n\\n⏳ Downloading embeddings...')\n",
    "        otherResources(embeddings, f'{embeddingsPath}/sdxl')\n",
    "    if upscaler:\n",
    "        print('\\n\\n⏳ Downloading upscaler...')\n",
    "        otherResources(upscaler, upscalerPath)\n",
    "    if vae:\n",
    "        print('\\n\\n⏳ Downloading VAE...')\n",
    "        otherResources(vae, f'{vaePath}/sdxl')\n",
    "\n",
    "# Remove git from directory\n",
    "def removeGit(directory):\n",
    "    for (folder, subfolders, files) in os.walk(directory):\n",
    "        if subfolders:\n",
    "            for subfolder in subfolders:\n",
    "                if subfolder == '.git':\n",
    "                    pathFolder = os.path.join(folder, subfolder)\n",
    "                    !rm -r {pathFolder}\n",
    "\n",
    "        for file in files:\n",
    "            if file == '.gitattributes' or file == 'readme.md' or file == 'README.md':\n",
    "                pathFile = os.path.join(folder, file)\n",
    "                !rm {pathFile}\n",
    "\n",
    "completedMessage()"
   ]
  },
  {
   "cell_type": "markdown",
   "metadata": {},
   "source": [
    "## 2. ControlNet"
   ]
  },
  {
   "cell_type": "markdown",
   "metadata": {
    "jp-MarkdownHeadingCollapsed": true
   },
   "source": [
    "### • ControlNet Models"
   ]
  },
  {
   "cell_type": "code",
   "execution_count": null,
   "metadata": {},
   "outputs": [],
   "source": [
    "# ControlNet - https://github.com/Mikubill/sd-webui-controlnet/discussions/2039\n",
    "# Select models to download. Default models are : depth, ip-adapter, openpose\n",
    "\n",
    "controlNetXL = {  \n",
    "    'blur': boolean[0],\n",
    "    'blur_anime': boolean[0],\n",
    "    'canny': boolean[0],\n",
    "    'canny_anime': boolean[0],\n",
    "    'depth': boolean[1],\n",
    "    'depth_anime': boolean[0],\n",
    "    'ipadapter': boolean[1],\n",
    "    'ipadapter_vit_h': boolean[0],\n",
    "    'ipadapter_plus': boolean[0],\n",
    "    'ipadapter_plus_face': boolean[0],\n",
    "    'lineart': boolean[0],\n",
    "    'openpose': boolean[1],\n",
    "    'openpose_anime': boolean[0],\n",
    "    'recolor': boolean[0],\n",
    "    'scribble_anime': boolean[0],\n",
    "    'sketch': boolean[0],\n",
    "    'softedge': boolean[0],\n",
    "}\n",
    "\n",
    "\n",
    "################################################################################################################\n",
    "\n",
    "print(\"\\n⏳ Download selected controlNet models...\")\n",
    "downloadControlNet(controlNetXL, controlNetURL)\n",
    "os.chdir(webui)\n",
    "completedMessage()"
   ]
  },
  {
   "cell_type": "markdown",
   "metadata": {
    "jp-MarkdownHeadingCollapsed": true
   },
   "source": [
    "### • Install from URLs"
   ]
  },
  {
   "cell_type": "code",
   "execution_count": null,
   "metadata": {},
   "outputs": [],
   "source": [
    "# Install controlNet models from URL \n",
    "otherControlNetXL = []\n",
    "\n",
    "\n",
    "########################################################################################\n",
    "\n",
    "if otherControlNetXL:\n",
    "    print('⏳ Downloading controlNet models...')\n",
    "    otherResources(otherControlNetXL, f'{controlNetModelsPath}/sdxl')\n",
    "\n",
    "os.chdir(webui)\n",
    "completedMessage()"
   ]
  },
  {
   "cell_type": "markdown",
   "metadata": {
    "id": "sS2bjZrRfRu2",
    "tags": []
   },
   "source": [
    "## 3. SDXL Models\n",
    "**Choose models you want to download**  \n",
    "Some models hosted by Civitai require you to login to download.  \n",
    "Create an API key in [Civitai user settings](https://civitai.com/user/account) then paste it to `civiaiToken` inside Variables and Functions cell."
   ]
  },
  {
   "cell_type": "markdown",
   "metadata": {
    "jp-MarkdownHeadingCollapsed": true,
    "tags": []
   },
   "source": [
    "### • Anime / Cartoon / 3D"
   ]
  },
  {
   "cell_type": "code",
   "execution_count": null,
   "metadata": {},
   "outputs": [],
   "source": [
    "# Anything XL - https://civitai.com/models/9409?modelVersionId=384264\n",
    "anythingVersions = ['Select version...', 'XL']\n",
    "anything = anythingVersions[0]\n",
    "\n",
    "# Animagine XL - https://civitai.com/models/260267\n",
    "animagineVersions = ['Select version...', 'v3.1']\n",
    "animagine = animagineVersions[0]\n",
    "\n",
    "# Blue Pencil XL - https://civitai.com/models/119012\n",
    "bluePencilVersions = ['Select version...', 'v6', 'Lightning v5']\n",
    "bluePencil = bluePencilVersions[0]\n",
    "\n",
    "# CounterfeitXL - https://civitai.com/models/118406\n",
    "counterfeitVersions = ['Select version...', 'v2.5']\n",
    "counterfeit = counterfeitVersions[0]\n",
    "\n",
    "# DynaVision XL - https://civitai.com/models/122606\n",
    "dynaVisionVersions = ['Select version...', 'v0.6.1.0_vae']\n",
    "dynaVision = dynaVisionVersions[0]\n",
    "\n",
    "# SDXL Niji - https://civitai.com/models/120765\n",
    "sdxlNijiVersions = ['Select version...', 'SE']\n",
    "sdxlNiji = sdxlNijiVersions[0]\n",
    "\n",
    "# SDXL Unstable Diffusers - https://civitai.com/models/84040\n",
    "unstableDiffVersions = ['Select version...', 'NihilMania', 'v11', 'v11+RunDiffusion', 'Turbo v10']\n",
    "unstableDiff = unstableDiffVersions[0]\n",
    "\n",
    "\n",
    "########################################################################################\n",
    "\n",
    "downloadModels(animeModelsURL)\n",
    "completedMessage()"
   ]
  },
  {
   "cell_type": "markdown",
   "metadata": {
    "id": "ySk6xCuCJJpl",
    "jp-MarkdownHeadingCollapsed": true,
    "tags": []
   },
   "source": [
    "### • General Purpose"
   ]
  },
  {
   "cell_type": "code",
   "execution_count": null,
   "metadata": {
    "cellView": "form",
    "id": "LcRD2PyjJMuP"
   },
   "outputs": [],
   "source": [
    "# Copax TimeLessXL - https://civitai.com/models/118111\n",
    "copaxTimelessVersions = ['Select version...', 'v10', 'Turbo v1']\n",
    "copaxTimeless = copaxTimelessVersions[0]\n",
    "\n",
    "# DreamShaper XL - https://civitai.com/models/112902\n",
    "dreamShaperVersions = ['Select version...', 'Lightning v1', 'Turbo DPM++ SDE v2.1']\n",
    "dreamShaper = dreamShaperVersions[0]\n",
    "\n",
    "# Juggernaut XL - https://civitai.com/models/133005\n",
    "juggernautVersions = ['Select version...', 'v9', 'Lightning v9']\n",
    "juggernaut = juggernautVersions[0]\n",
    "\n",
    "# ProtoVision XL - https://civitai.com/models/125703\n",
    "protoVisionVersions = ['Select version...', 'v6.6.0_vae']\n",
    "protoVision = protoVisionVersions[0]\n",
    "\n",
    "# SD XL - https://civitai.com/models/101055\n",
    "sdxlVersions = ['Select version...', 'v1_vae', 'v1_vae-refiner', 'Turbo v1']\n",
    "sdxl = sdxlVersions[0]\n",
    "\n",
    "\n",
    "########################################################################################\n",
    "\n",
    "downloadModels(generalModelsURL)\n",
    "completedMessage()"
   ]
  },
  {
   "cell_type": "markdown",
   "metadata": {
    "id": "q7N-mw17j7G4",
    "jp-MarkdownHeadingCollapsed": true,
    "tags": []
   },
   "source": [
    "### • Realistic"
   ]
  },
  {
   "cell_type": "code",
   "execution_count": null,
   "metadata": {
    "cellView": "form",
    "id": "5ktgkG1Qj9H6"
   },
   "outputs": [],
   "source": [
    "# NewRealityXL - https://civitai.com/models/161068\n",
    "newRealityVersions = ['Select version...','v3', 'v2.1']\n",
    "newReality = newRealityVersions[0]\n",
    "\n",
    "# NightVision XL - https://civitai.com/models/128607\n",
    "nightVisionVersions = ['Select version...', 'v0.8.1.1', 'v0.7.9.1_vae']\n",
    "nightVision = nightVisionVersions[0]\n",
    "\n",
    "# Realism Engine SDXL - https://civitai.com/models/152525\n",
    "realismEngineVersion = ['Select version...', 'v3_vae']\n",
    "realismEngine = realismEngineVersion[0]\n",
    "\n",
    "# Realities Edge XL - https://civitai.com/models/129666\n",
    "realEdgeVersions = ['Select version...', 'v7', 'Lightning v7', 'Turbo v7']\n",
    "realEdge = realEdgeVersions[0]\n",
    "\n",
    "# RealVisXL - https://civitai.com/models/139562\n",
    "realVisVersions = ['Select version...', 'v4_vae', ' Lightning v4_vae', 'Turbo v3_vae', 'v3_vae-inpainting']\n",
    "realVis = realVisVersions[0]\n",
    "\n",
    "\n",
    "########################################################################################\n",
    "\n",
    "downloadModels(realisticModelsURL)\n",
    "completedMessage()"
   ]
  },
  {
   "cell_type": "markdown",
   "metadata": {
    "id": "YyShd1x_yPzI",
    "jp-MarkdownHeadingCollapsed": true,
    "tags": []
   },
   "source": [
    "### • Woman"
   ]
  },
  {
   "cell_type": "code",
   "execution_count": null,
   "metadata": {
    "cellView": "form",
    "id": "i_IIx3pWyRgK",
    "tags": []
   },
   "outputs": [],
   "source": [
    "# ArienMixXL Asian portrait - https://civitai.com/models/118913\n",
    "arienmixVersions = ['Select version...', 'v4']\n",
    "arienmix = arienmixVersions[0]\n",
    "\n",
    "# LEOSAM's HelloWorld SDXL - https://civitai.com/models/43977\n",
    "helloWorldVersions = ['Select version...', 'v5', 'Lightning Euler a v5', 'Turbo+LCM v2']\n",
    "helloWorld = helloWorldVersions[0]\n",
    "\n",
    "# SDVN6 RealXL - https://civitai.com/models/118114\n",
    "sdvnRealVersions = ['Select version...', 'Detailface']\n",
    "sdvnReal = sdvnRealVersions[0]\n",
    "\n",
    "# XXMix 9realistic SDXL - https://civitai.com/models/124421\n",
    "xxmix9realVersions = ['Select version...', 'v1']\n",
    "xxmix9real = xxmix9realVersions[0]\n",
    "\n",
    "\n",
    "########################################################################################\n",
    "\n",
    "downloadModels(womanModelsURL)\n",
    "completedMessage()"
   ]
  },
  {
   "cell_type": "markdown",
   "metadata": {
    "id": "4DDVVCkQxp8U",
    "jp-MarkdownHeadingCollapsed": true,
    "tags": []
   },
   "source": [
    "### • Install from URLs"
   ]
  },
  {
   "cell_type": "code",
   "execution_count": null,
   "metadata": {
    "cellView": "form",
    "id": "4GhWKu_Jxrxl",
    "tags": []
   },
   "outputs": [],
   "source": [
    "# Install models from URL \n",
    "otherModels = []\n",
    "\n",
    "\n",
    "########################################################################################\n",
    "\n",
    "if otherModels:\n",
    "    print('⏳ Downloading models...')\n",
    "    otherResources(otherModels, f'{modelsPath}/sdxl')\n",
    "        \n",
    "os.chdir(webui)\n",
    "completedMessage()"
   ]
  },
  {
   "cell_type": "markdown",
   "metadata": {
    "id": "qe4SFLnaff7T",
    "tags": []
   },
   "source": [
    "## 4. LoRA, Embedding, Upscaler and VAE"
   ]
  },
  {
   "cell_type": "markdown",
   "metadata": {
    "jp-MarkdownHeadingCollapsed": true
   },
   "source": [
    "### • Built-in Resources\n",
    "**This is just for information. No need to run this cell.**"
   ]
  },
  {
   "cell_type": "markdown",
   "metadata": {},
   "source": [
    "**Pre-installed LoRA :**\n",
    "* [Detail Tweaker XL](https://civitai.com/models/122359)\n",
    "\n",
    "**Pre-installed Embeddings :**\n",
    "* [Negative Prompts Pack XL](https://huggingface.co/ffxvs/negative-prompts-pack-xl)\n",
    "* [Embeddings Collection XL](https://huggingface.co/ffxvs/embeddings-collection-xl)\n",
    "\n",
    "**Pre-installed Upscaler :**  \n",
    "* [UltraSharp](https://openmodeldb.info/models/4x-UltraSharp)\n",
    "\n",
    "**Pre-installed VAE :**\n",
    "* [sdxl-vae-fp16-fix](https://huggingface.co/madebyollin/sdxl-vae-fp16-fix)"
   ]
  },
  {
   "cell_type": "markdown",
   "metadata": {
    "jp-MarkdownHeadingCollapsed": true,
    "tags": []
   },
   "source": [
    "### • Resource Lists"
   ]
  },
  {
   "cell_type": "code",
   "execution_count": null,
   "metadata": {
    "cellView": "form",
    "id": "TVaJGYKh80gz",
    "tags": []
   },
   "outputs": [],
   "source": [
    "####################################### LORA ##########################################\n",
    "\n",
    "# Blur SDXL - https://civitai.com/models/124855\n",
    "blurXL = boolean[0]\n",
    "\n",
    "# DetailedEyes XL - https://civitai.com/models/120723\n",
    "detailEyes = boolean[0]\n",
    "\n",
    "# LCM Lora SDXL - https://huggingface.co/latent-consistency/lcm-lora-sdxl\n",
    "lcmXL = boolean[0]\n",
    "\n",
    "# LCM&TurboMix - https://civitai.com/models/216190\n",
    "lcmTurbo = boolean[0]\n",
    "\n",
    "# Hands XL - https://civitai.com/models/200255\n",
    "handsXL = boolean[0]\n",
    "\n",
    "# SOAP (Shot On A Phone) - https://civitai.com/models/131818\n",
    "soap = boolean[0]\n",
    "\n",
    "# XL More Art Full - https://civitai.com/models/124347\n",
    "moreArt = boolean[0]\n",
    "\n",
    "\n",
    "###################################### UPSCALER ########################################\n",
    "\n",
    "# BSRGAN - https://openmodeldb.info/models/4x-BSRGAN\n",
    "bsrgan = boolean[0]\n",
    "\n",
    "# LSDIRPlus - https://openmodeldb.info/models/4x-LSDIRplus\n",
    "lsdirPlus = boolean[0]\n",
    "\n",
    "# NMKD Superscale - https://openmodeldb.info/models/4x-NMKD-Superscale\n",
    "superscale = boolean[0]\n",
    "\n",
    "# Nomos8kSC - https://openmodeldb.info/models/4x-Nomos8kSC\n",
    "nomos8ksc = boolean[0]\n",
    "\n",
    "# Remacri - https://openmodeldb.info/models/4x-Remacri\n",
    "remacri = boolean[0]\n",
    "\n",
    "# UltraMix - https://upscale.wiki/w/index.php?title=Model_Database&oldid=1571\n",
    "ultraMix = boolean[0]\n",
    "\n",
    "# Valar - https://openmodeldb.info/models/4x-Valar\n",
    "valar = boolean[0]\n",
    "\n",
    "\n",
    "###################################################################################################\n",
    "\n",
    "os.chdir(webui)\n",
    "downloadBuiltinResources()\n",
    "downloadSelectedResources()\n",
    "os.chdir(webui)\n",
    "completedMessage()"
   ]
  },
  {
   "cell_type": "markdown",
   "metadata": {
    "jp-MarkdownHeadingCollapsed": true,
    "tags": []
   },
   "source": [
    "### • Install from URLs"
   ]
  },
  {
   "cell_type": "code",
   "execution_count": null,
   "metadata": {},
   "outputs": [],
   "source": [
    "# LoRA\n",
    "otherLora = []\n",
    "\n",
    "# Embeddings\n",
    "otherEmbeddings = []\n",
    "\n",
    "# Upscaler\n",
    "otherUpscaler = []\n",
    "\n",
    "# VAE\n",
    "otherVAE = []\n",
    "\n",
    "\n",
    "###################################################################################################\n",
    "\n",
    "downloadOtherResources(otherLora, otherEmbeddings, otherUpscaler, otherVAE)\n",
    "os.chdir(webui)\n",
    "completedMessage()"
   ]
  }
 ],
 "metadata": {
  "accelerator": "GPU",
  "colab": {
   "collapsed_sections": [
    "aPLwNZbN-dIe",
    "AcADZumt8rYd",
    "hJK6ToaX8g5r",
    "GFukPFHAwN2c",
    "ukRiExJwhEtp",
    "ySk6xCuCJJpl",
    "q7N-mw17j7G4",
    "BKZT_667lw7B",
    "YyShd1x_yPzI",
    "4DDVVCkQxp8U",
    "LbQdQ5_bhUUB",
    "qe4SFLnaff7T",
    "GFFEm-UIfrFe"
   ],
   "private_outputs": true,
   "provenance": []
  },
  "gpuClass": "standard",
  "kernelspec": {
   "display_name": "Python 3 (ipykernel)",
   "language": "python",
   "name": "python3"
  },
  "language_info": {
   "codemirror_mode": {
    "name": "ipython",
    "version": 3
   },
   "file_extension": ".py",
   "mimetype": "text/x-python",
   "name": "python",
   "nbconvert_exporter": "python",
   "pygments_lexer": "ipython3",
   "version": "3.12.1"
  },
  "toc-autonumbering": false,
  "toc-showcode": false,
  "toc-showmarkdowntxt": false,
  "toc-showtags": false,
  "widgets": {
   "application/vnd.jupyter.widget-state+json": {
    "state": {},
    "version_major": 2,
    "version_minor": 0
   }
  }
 },
 "nbformat": 4,
 "nbformat_minor": 4
}
