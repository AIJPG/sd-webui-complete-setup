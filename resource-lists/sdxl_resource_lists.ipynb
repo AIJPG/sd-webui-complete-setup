{
 "cells": [
  {
   "cell_type": "markdown",
   "metadata": {},
   "source": [
    "## SDXL Resource Lists\n",
    "\n",
    "**Homepage :** [SD Webui Complete setup](https://github.com/ffxvs/sd-webui-complete-setup)  \n",
    "**Guide :** [Resource Lists Guide](https://github.com/ffxvs/sd-webui-complete-setup/wiki/Resource-Lists-Guide)"
   ]
  },
  {
   "cell_type": "markdown",
   "metadata": {
    "id": "AcADZumt8rYd",
    "tags": []
   },
   "source": [
    "## 1. Requirements"
   ]
  },
  {
   "cell_type": "markdown",
   "metadata": {
    "tags": []
   },
   "source": [
    "### • Initialization\n",
    "**REQUIRED EVERY TIME YOU START THE MACHINE**"
   ]
  },
  {
   "cell_type": "code",
   "execution_count": null,
   "metadata": {
    "collapsed": false,
    "jupyter": {
     "outputs_hidden": false
    }
   },
   "outputs": [],
   "source": [
    "# Civitai Token - Required to download models that require login\n",
    "civitai_token = ''\n",
    "\n",
    "\n",
    "################################################################################################################\n",
    "\n",
    "import os\n",
    "os.chdir('/')\n",
    "from internal.main import *\n",
    "\n",
    "apply_envs1()\n",
    "completed_message()"
   ]
  },
  {
   "cell_type": "markdown",
   "metadata": {},
   "source": [
    "## 2. ControlNet"
   ]
  },
  {
   "cell_type": "markdown",
   "metadata": {
    "jp-MarkdownHeadingCollapsed": true
   },
   "source": [
    "### • ControlNet Models"
   ]
  },
  {
   "cell_type": "code",
   "execution_count": null,
   "metadata": {},
   "outputs": [],
   "source": [
    "# ControlNet - https://github.com/Mikubill/sd-webui-controlnet/discussions/2039\n",
    "# Select models to download. Default models are : depth, ip-adapter, openpose\n",
    "\n",
    "controlnet = {  \n",
    "    'blur': boolean[0],\n",
    "    'blur_anime': boolean[0],\n",
    "    'canny': boolean[0],\n",
    "    'canny_anime': boolean[0],\n",
    "    'depth': boolean[1],\n",
    "    'depth_anime': boolean[0],\n",
    "    'ipadapter': boolean[1],\n",
    "    'ipadapter_vit_h': boolean[0],\n",
    "    'ipadapter_plus': boolean[0],\n",
    "    'ipadapter_plus_face': boolean[0],\n",
    "    'lineart': boolean[0],\n",
    "    'openpose': boolean[1],\n",
    "    'openpose_anime': boolean[0],\n",
    "    'recolor': boolean[0],\n",
    "    'scribble_anime': boolean[0],\n",
    "    'sketch': boolean[0],\n",
    "    'softedge': boolean[0],\n",
    "}\n",
    "\n",
    "\n",
    "################################################################################################################\n",
    "\n",
    "print(\"\\n⏳ Download selected controlNet models...\")\n",
    "download_controlnet(controlnet, sdxl_controlnet_url, sdxl)\n",
    "os.chdir(webui)\n",
    "completed_message()"
   ]
  },
  {
   "cell_type": "markdown",
   "metadata": {
    "jp-MarkdownHeadingCollapsed": true
   },
   "source": [
    "### • Install from URLs"
   ]
  },
  {
   "cell_type": "code",
   "execution_count": null,
   "metadata": {},
   "outputs": [],
   "source": [
    "# Install controlNet models from URL \n",
    "other_controlnet = []\n",
    "\n",
    "\n",
    "########################################################################################\n",
    "\n",
    "if other_controlnet:\n",
    "    print('⏳ Downloading controlNet models...')\n",
    "    other_resources(other_controlnet, f'{controlnet_models_path}/sdxl', civitai_token)\n",
    "\n",
    "os.chdir(webui)\n",
    "completed_message()"
   ]
  },
  {
   "cell_type": "markdown",
   "metadata": {
    "id": "sS2bjZrRfRu2",
    "tags": []
   },
   "source": [
    "## 3. SDXL Models\n",
    "**Choose models you want to download**  \n",
    "Some models hosted by Civitai require you to login to download.  \n",
    "Create an API key in [Civitai user settings](https://civitai.com/user/account) then paste it to `civiai_Token` inside Initialization cell."
   ]
  },
  {
   "cell_type": "markdown",
   "metadata": {
    "tags": []
   },
   "source": [
    "### • Anime / Cartoon / 3D"
   ]
  },
  {
   "cell_type": "code",
   "execution_count": null,
   "metadata": {},
   "outputs": [],
   "source": [
    "# Run this cell to display the model list\n",
    "display(widgets.HTML('<h3>Anime / Cartoon / 3D Models</h3>'))\n",
    "models_selection(sdxl_anime_models_url, sd, civitai_token)\n",
    "os.chdir(webui)"
   ]
  },
  {
   "cell_type": "markdown",
   "metadata": {
    "id": "ySk6xCuCJJpl",
    "tags": []
   },
   "source": [
    "### • General Purpose"
   ]
  },
  {
   "cell_type": "code",
   "execution_count": null,
   "metadata": {
    "cellView": "form",
    "id": "LcRD2PyjJMuP"
   },
   "outputs": [],
   "source": [
    "# Run this cell to display the model list\n",
    "display(widgets.HTML('<h2>General Purpose Models</h2>'))\n",
    "models_selection(sdxl_general_models_url, sd, civitai_token)\n",
    "os.chdir(webui)"
   ]
  },
  {
   "cell_type": "markdown",
   "metadata": {
    "id": "q7N-mw17j7G4",
    "tags": []
   },
   "source": [
    "### • Realistic"
   ]
  },
  {
   "cell_type": "code",
   "execution_count": null,
   "metadata": {
    "cellView": "form",
    "id": "5ktgkG1Qj9H6"
   },
   "outputs": [],
   "source": [
    "# Run this cell to display the model list\n",
    "display(widgets.HTML('<h2>Realistic Models</h2>'))\n",
    "models_selection(sdxl_realistic_models_url, sd, civitai_token)\n",
    "os.chdir(webui)"
   ]
  },
  {
   "cell_type": "markdown",
   "metadata": {
    "id": "YyShd1x_yPzI",
    "tags": []
   },
   "source": [
    "### • Woman"
   ]
  },
  {
   "cell_type": "code",
   "execution_count": null,
   "metadata": {
    "cellView": "form",
    "id": "i_IIx3pWyRgK",
    "tags": []
   },
   "outputs": [],
   "source": [
    "# Run this cell to display the model list\n",
    "display(widgets.HTML('<h2>Woman Models</h2>'))\n",
    "models_selection(sdxl_woman_models_url, sd, civitai_token)\n",
    "os.chdir(webui)"
   ]
  },
  {
   "cell_type": "markdown",
   "metadata": {
    "id": "4DDVVCkQxp8U",
    "jp-MarkdownHeadingCollapsed": true,
    "tags": []
   },
   "source": [
    "### • Install from URLs"
   ]
  },
  {
   "cell_type": "code",
   "execution_count": null,
   "metadata": {
    "cellView": "form",
    "id": "4GhWKu_Jxrxl",
    "tags": []
   },
   "outputs": [],
   "source": [
    "# Install models from URL \n",
    "other_models = []\n",
    "\n",
    "\n",
    "########################################################################################\n",
    "\n",
    "if other_models:\n",
    "    print('⏳ Downloading models...')\n",
    "    other_resources(other_models, f'{models_path}/sdxl', civitai_token)\n",
    "\n",
    "os.chdir(webui)\n",
    "completed_message()"
   ]
  },
  {
   "cell_type": "markdown",
   "metadata": {
    "id": "qe4SFLnaff7T",
    "tags": []
   },
   "source": [
    "## 4. LoRA, Embedding, Upscaler and VAE"
   ]
  },
  {
   "cell_type": "markdown",
   "metadata": {
    "jp-MarkdownHeadingCollapsed": true
   },
   "source": [
    "### • Built-in Resources\n",
    "**This is just for information. No need to run this cell.**"
   ]
  },
  {
   "cell_type": "markdown",
   "metadata": {},
   "source": [
    "**Pre-installed LoRA :**\n",
    "* [Detail Tweaker XL](https://civitai.com/models/122359)\n",
    "\n",
    "**Pre-installed Embeddings :**\n",
    "* [Negative Prompts Pack XL](https://huggingface.co/ffxvs/negative-prompts-pack-xl)\n",
    "* [Embeddings Collection XL](https://huggingface.co/ffxvs/embeddings-collection-xl)\n",
    "\n",
    "**Pre-installed Upscaler :**  \n",
    "* [UltraSharp](https://openmodeldb.info/models/4x-UltraSharp)\n",
    "\n",
    "**Pre-installed VAE :**\n",
    "* [sdxl-vae-fp16-fix](https://huggingface.co/madebyollin/sdxl-vae-fp16-fix)"
   ]
  },
  {
   "cell_type": "markdown",
   "metadata": {
    "jp-MarkdownHeadingCollapsed": true,
    "tags": []
   },
   "source": [
    "### • Resource Lists"
   ]
  },
  {
   "cell_type": "code",
   "execution_count": null,
   "metadata": {
    "cellView": "form",
    "id": "TVaJGYKh80gz",
    "tags": []
   },
   "outputs": [],
   "source": [
    "####################################### LORA ##########################################\n",
    "\n",
    "# Blur SDXL - https://civitai.com/models/124855\n",
    "blurXL = boolean[0]\n",
    "\n",
    "# DetailedEyes XL - https://civitai.com/models/120723\n",
    "detailEyes = boolean[0]\n",
    "\n",
    "# LCM Lora SDXL - https://huggingface.co/latent-consistency/lcm-lora-sdxl\n",
    "lcmXL = boolean[0]\n",
    "\n",
    "# LCM&TurboMix - https://civitai.com/models/216190\n",
    "lcmTurbo = boolean[0]\n",
    "\n",
    "# Hands XL - https://civitai.com/models/200255\n",
    "handsXL = boolean[0]\n",
    "\n",
    "# SOAP (Shot On A Phone) - https://civitai.com/models/131818\n",
    "soap = boolean[0]\n",
    "\n",
    "# XL More Art Full - https://civitai.com/models/124347\n",
    "moreArt = boolean[0]\n",
    "\n",
    "\n",
    "###################################### UPSCALER ########################################\n",
    "\n",
    "# BSRGAN - https://openmodeldb.info/models/4x-BSRGAN\n",
    "bsrgan = boolean[0]\n",
    "\n",
    "# LSDIRPlus - https://openmodeldb.info/models/4x-LSDIRplus\n",
    "lsdirPlus = boolean[0]\n",
    "\n",
    "# NMKD Superscale - https://openmodeldb.info/models/4x-NMKD-Superscale\n",
    "superscale = boolean[0]\n",
    "\n",
    "# Nomos8kSC - https://openmodeldb.info/models/4x-Nomos8kSC\n",
    "nomos8ksc = boolean[0]\n",
    "\n",
    "# Remacri - https://openmodeldb.info/models/4x-Remacri\n",
    "remacri = boolean[0]\n",
    "\n",
    "# UltraMix - https://upscale.wiki/w/index.php?title=Model_Database&oldid=1571\n",
    "ultraMix = boolean[0]\n",
    "\n",
    "# Valar - https://openmodeldb.info/models/4x-Valar\n",
    "valar = boolean[0]\n",
    "\n",
    "\n",
    "###################################################################################################\n",
    "\n",
    "os.chdir(webui)\n",
    "download_builtin_resources(sdxl_builtin_resources_url, sdxl)\n",
    "download_lora(sdxl_lora_list_url, sdxl)\n",
    "download_upscaler()\n",
    "os.chdir(webui)\n",
    "completed_message()"
   ]
  },
  {
   "cell_type": "markdown",
   "metadata": {
    "jp-MarkdownHeadingCollapsed": true,
    "tags": []
   },
   "source": [
    "### • Install from URLs"
   ]
  },
  {
   "cell_type": "code",
   "execution_count": null,
   "metadata": {},
   "outputs": [],
   "source": [
    "# LoRA\n",
    "other_lora = []\n",
    "\n",
    "# Embeddings\n",
    "other_embeddings = []\n",
    "\n",
    "# Upscaler\n",
    "other_upscaler = []\n",
    "\n",
    "# VAE\n",
    "other_vae = []\n",
    "\n",
    "\n",
    "###################################################################################################\n",
    "\n",
    "download_other_resources(sdxl, other_lora, other_embeddings, other_upscaler, other_vae, civitai_token)\n",
    "os.chdir(webui)\n",
    "completed_message()"
   ]
  }
 ],
 "metadata": {
  "kernelspec": {
   "display_name": "Python 3 (ipykernel)",
   "language": "python",
   "name": "python3"
  },
  "language_info": {
   "codemirror_mode": {
    "name": "ipython",
    "version": 3
   },
   "file_extension": ".py",
   "mimetype": "text/x-python",
   "name": "python",
   "nbconvert_exporter": "python",
   "pygments_lexer": "ipython3",
   "version": "3.12.1"
  },
  "notebook_version": "2024.08.26",
  "toc-autonumbering": false,
  "toc-showcode": false,
  "toc-showmarkdowntxt": false,
  "toc-showtags": false,
  "widgets": {
   "application/vnd.jupyter.widget-state+json": {
    "state": {},
    "version_major": 2,
    "version_minor": 0
   }
  }
 },
 "nbformat": 4,
 "nbformat_minor": 4
}
