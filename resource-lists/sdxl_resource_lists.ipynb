{
 "cells": [
  {
   "cell_type": "markdown",
   "metadata": {},
   "source": [
    "## SDXL Resource Lists\n",
    "\n",
    "**Homepage :** [SD Webui Complete setup](https://github.com/ffxvs/sd-webui-complete-setup)  \n",
    "**Guide :** [Resource Lists Guide](https://github.com/ffxvs/sd-webui-complete-setup/wiki/Resource-Lists-Guide)"
   ]
  },
  {
   "cell_type": "markdown",
   "metadata": {
    "id": "AcADZumt8rYd",
    "tags": []
   },
   "source": [
    "## 1. Requirements"
   ]
  },
  {
   "cell_type": "markdown",
   "metadata": {
    "jp-MarkdownHeadingCollapsed": true,
    "tags": []
   },
   "source": [
    "### • Initialization\n",
    "**REQUIRED EVERY TIME YOU START THE MACHINE**"
   ]
  },
  {
   "cell_type": "code",
   "execution_count": null,
   "metadata": {
    "collapsed": false,
    "jupyter": {
     "outputs_hidden": false
    }
   },
   "outputs": [],
   "source": [
    "# Civitai Token - Required to download models that require login\n",
    "civitai_token = ''\n",
    "\n",
    "\n",
    "################################################################################################################\n",
    "\n",
    "import sys, os\n",
    "sys.path.append(os.path.abspath('/internal'))\n",
    "from ..internal.main import *\n",
    "\n",
    "apply_envs1()"
   ]
  },
  {
   "cell_type": "markdown",
   "metadata": {},
   "source": [
    "## 2. ControlNet"
   ]
  },
  {
   "cell_type": "markdown",
   "metadata": {
    "jp-MarkdownHeadingCollapsed": true
   },
   "source": [
    "### • ControlNet Models"
   ]
  },
  {
   "cell_type": "code",
   "execution_count": null,
   "metadata": {},
   "outputs": [],
   "source": [
    "# ControlNet - https://github.com/Mikubill/sd-webui-controlnet/discussions/2039\n",
    "# Select models to download. Default models are : depth, ip-adapter, openpose\n",
    "\n",
    "controlnet = {  \n",
    "    'blur': boolean[0],\n",
    "    'blur_anime': boolean[0],\n",
    "    'canny': boolean[0],\n",
    "    'canny_anime': boolean[0],\n",
    "    'depth': boolean[1],\n",
    "    'depth_anime': boolean[0],\n",
    "    'ipadapter': boolean[1],\n",
    "    'ipadapter_vit_h': boolean[0],\n",
    "    'ipadapter_plus': boolean[0],\n",
    "    'ipadapter_plus_face': boolean[0],\n",
    "    'lineart': boolean[0],\n",
    "    'openpose': boolean[1],\n",
    "    'openpose_anime': boolean[0],\n",
    "    'recolor': boolean[0],\n",
    "    'scribble_anime': boolean[0],\n",
    "    'sketch': boolean[0],\n",
    "    'softedge': boolean[0],\n",
    "}\n",
    "\n",
    "\n",
    "################################################################################################################\n",
    "\n",
    "print(\"\\n⏳ Download selected controlNet models...\")\n",
    "download_controlnet(controlnet, sdxl_controlnet_url, sdxl)\n",
    "os.chdir(webui)\n",
    "completed_message()"
   ]
  },
  {
   "cell_type": "markdown",
   "metadata": {
    "jp-MarkdownHeadingCollapsed": true
   },
   "source": [
    "### • Install from URLs"
   ]
  },
  {
   "cell_type": "code",
   "execution_count": null,
   "metadata": {},
   "outputs": [],
   "source": [
    "# Install controlNet models from URL \n",
    "other_controlnet = []\n",
    "\n",
    "\n",
    "########################################################################################\n",
    "\n",
    "if other_controlnet:\n",
    "    print('⏳ Downloading controlNet models...')\n",
    "    other_resources(other_controlnet, f'{controlnet_models_path}/sdxl', civitai_token)\n",
    "\n",
    "os.chdir(webui)\n",
    "completed_message()"
   ]
  },
  {
   "cell_type": "markdown",
   "metadata": {
    "id": "sS2bjZrRfRu2",
    "tags": []
   },
   "source": [
    "## 3. SDXL Models\n",
    "**Choose models you want to download**  \n",
    "Some models hosted by Civitai require you to login to download.  \n",
    "Create an API key in [Civitai user settings](https://civitai.com/user/account) then paste it to `civiai_Token` inside Initialization cell."
   ]
  },
  {
   "cell_type": "markdown",
   "metadata": {
    "jp-MarkdownHeadingCollapsed": true,
    "tags": []
   },
   "source": [
    "### • Anime / Cartoon / 3D"
   ]
  },
  {
   "cell_type": "code",
   "execution_count": null,
   "metadata": {},
   "outputs": [],
   "source": [
    "# Anything XL - https://civitai.com/models/9409?modelVersionId=384264\n",
    "anythingVersions = ['Select version...', 'XL']\n",
    "anything = anythingVersions[0]\n",
    "\n",
    "# Animagine XL - https://civitai.com/models/260267\n",
    "animagineVersions = ['Select version...', 'v3.1']\n",
    "animagine = animagineVersions[0]\n",
    "\n",
    "# Blue Pencil XL - https://civitai.com/models/119012\n",
    "bluePencilVersions = ['Select version...', 'v6', 'Lightning v5']\n",
    "bluePencil = bluePencilVersions[0]\n",
    "\n",
    "# CounterfeitXL - https://civitai.com/models/118406\n",
    "counterfeitVersions = ['Select version...', 'v2.5']\n",
    "counterfeit = counterfeitVersions[0]\n",
    "\n",
    "# DynaVision XL - https://civitai.com/models/122606\n",
    "dynaVisionVersions = ['Select version...', 'v0.6.1.0_vae']\n",
    "dynaVision = dynaVisionVersions[0]\n",
    "\n",
    "# Pony Diffusion XL - https://civitai.com/models/257749\n",
    "ponyDiffusionVersions = ['Select version...', 'v6', 'Turbo DPO v6']\n",
    "ponyDiffusion = ponyDiffusionVersions[0]\n",
    "\n",
    "# SDXL Niji - https://civitai.com/models/120765\n",
    "sdxlNijiVersions = ['Select version...', 'SE']\n",
    "sdxlNiji = sdxlNijiVersions[0]\n",
    "\n",
    "# SDXL Unstable Diffusers - https://civitai.com/models/84040\n",
    "unstableDiffVersions = ['Select version...', 'NihilMania', 'v11', 'v11+RunDiffusion', 'Turbo v10']\n",
    "unstableDiff = unstableDiffVersions[0]\n",
    "\n",
    "\n",
    "########################################################################################\n",
    "\n",
    "download_models(sdxl_anime_models_url, sdxl, civitai_token)\n",
    "completed_message()"
   ]
  },
  {
   "cell_type": "markdown",
   "metadata": {
    "id": "ySk6xCuCJJpl",
    "jp-MarkdownHeadingCollapsed": true,
    "tags": []
   },
   "source": [
    "### • General Purpose"
   ]
  },
  {
   "cell_type": "code",
   "execution_count": null,
   "metadata": {
    "cellView": "form",
    "id": "LcRD2PyjJMuP"
   },
   "outputs": [],
   "source": [
    "# Copax TimeLessXL - https://civitai.com/models/118111\n",
    "copaxTimelessVersions = ['Select version...', 'v12', 'Lightning v11', 'Turbo v2']\n",
    "copaxTimeless = copaxTimelessVersions[0]\n",
    "\n",
    "# DreamShaper XL - https://civitai.com/models/112902\n",
    "dreamShaperVersions = ['Select version...', 'Lightning v1', 'Turbo DPM++ SDE v2.1']\n",
    "dreamShaper = dreamShaperVersions[0]\n",
    "\n",
    "# Juggernaut XL - https://civitai.com/models/133005\n",
    "juggernautVersions = ['Select version...', 'X', 'Hyper X', 'Lightning v9']\n",
    "juggernaut = juggernautVersions[0]\n",
    "\n",
    "# ProtoVision XL - https://civitai.com/models/125703\n",
    "protoVisionVersions = ['Select version...', 'v6.6.0_vae']\n",
    "protoVision = protoVisionVersions[0]\n",
    "\n",
    "# SD XL - https://civitai.com/models/101055\n",
    "sdxlVersions = ['Select version...', 'v1_vae', 'v1_vae-refiner', 'Turbo v1']\n",
    "sdxl = sdxlVersions[0]\n",
    "\n",
    "# ZavyChromaXL - https://civitai.com/models/119229\n",
    "zavyChromaVersions = ['Select version...', 'v7']\n",
    "zavyChroma = zavyChromaVersions[0]\n",
    "\n",
    "########################################################################################\n",
    "\n",
    "download_models(sdxl_general_models_url, sdxl, civitai_token)\n",
    "completed_message()"
   ]
  },
  {
   "cell_type": "markdown",
   "metadata": {
    "id": "q7N-mw17j7G4",
    "jp-MarkdownHeadingCollapsed": true,
    "tags": []
   },
   "source": [
    "### • Realistic"
   ]
  },
  {
   "cell_type": "code",
   "execution_count": null,
   "metadata": {
    "cellView": "form",
    "id": "5ktgkG1Qj9H6"
   },
   "outputs": [],
   "source": [
    "# NewRealityXL - https://civitai.com/models/161068\n",
    "newRealityVersions = ['Select version...','v4', 'Lightning v1']\n",
    "newReality = newRealityVersions[0]\n",
    "\n",
    "# NightVision XL - https://civitai.com/models/128607\n",
    "nightVisionVersions = ['Select version...', 'v0.8.1.1', 'v0.7.9.1_vae']\n",
    "nightVision = nightVisionVersions[0]\n",
    "\n",
    "# Realism Engine SDXL - https://civitai.com/models/152525\n",
    "realismEngineVersion = ['Select version...', 'v3_vae']\n",
    "realismEngine = realismEngineVersion[0]\n",
    "\n",
    "# Realities Edge XL - https://civitai.com/models/129666\n",
    "realEdgeVersions = ['Select version...', 'v7', 'Lightning v7', 'Turbo v7']\n",
    "realEdge = realEdgeVersions[0]\n",
    "\n",
    "# RealVisXL - https://civitai.com/models/139562\n",
    "realVisVersions = ['Select version...', 'v4_vae', ' Lightning v4_vae', 'Turbo v3_vae', 'v3_vae-inpainting']\n",
    "realVis = realVisVersions[0]\n",
    "\n",
    "\n",
    "########################################################################################\n",
    "\n",
    "download_models(sdxl_realistic_models_url, sdxl, civitai_token)\n",
    "completed_message()"
   ]
  },
  {
   "cell_type": "markdown",
   "metadata": {
    "id": "YyShd1x_yPzI",
    "jp-MarkdownHeadingCollapsed": true,
    "tags": []
   },
   "source": [
    "### • Woman"
   ]
  },
  {
   "cell_type": "code",
   "execution_count": null,
   "metadata": {
    "cellView": "form",
    "id": "i_IIx3pWyRgK",
    "tags": []
   },
   "outputs": [],
   "source": [
    "# ArienMixXL Asian portrait - https://civitai.com/models/118913\n",
    "arienmixVersions = ['Select version...', 'v4.5']\n",
    "arienmix = arienmixVersions[0]\n",
    "\n",
    "# LEOSAM's HelloWorld SDXL - https://civitai.com/models/43977\n",
    "helloWorldVersions = ['Select version...', 'v6', 'Lightning Euler a v5', 'Turbo+LCM v2']\n",
    "helloWorld = helloWorldVersions[0]\n",
    "\n",
    "# SDVN6 RealXL - https://civitai.com/models/118114\n",
    "sdvnRealVersions = ['Select version...', 'Detailface']\n",
    "sdvnReal = sdvnRealVersions[0]\n",
    "\n",
    "# XXMix 9realistic SDXL - https://civitai.com/models/124421\n",
    "xxmix9realVersions = ['Select version...', 'v1']\n",
    "xxmix9real = xxmix9realVersions[0]\n",
    "\n",
    "\n",
    "########################################################################################\n",
    "\n",
    "download_models(sdxl_woman_models_url, sdxl, civitai_token)\n",
    "completed_message()"
   ]
  },
  {
   "cell_type": "markdown",
   "metadata": {
    "id": "4DDVVCkQxp8U",
    "jp-MarkdownHeadingCollapsed": true,
    "tags": []
   },
   "source": [
    "### • Install from URLs"
   ]
  },
  {
   "cell_type": "code",
   "execution_count": null,
   "metadata": {
    "cellView": "form",
    "id": "4GhWKu_Jxrxl",
    "tags": []
   },
   "outputs": [],
   "source": [
    "# Install models from URL \n",
    "other_models = []\n",
    "\n",
    "\n",
    "########################################################################################\n",
    "\n",
    "if other_models:\n",
    "    print('⏳ Downloading models...')\n",
    "    other_resources(other_models, f'{models_path}/sdxl', civitai_token)\n",
    "\n",
    "os.chdir(webui)\n",
    "completed_message()"
   ]
  },
  {
   "cell_type": "markdown",
   "metadata": {
    "id": "qe4SFLnaff7T",
    "tags": []
   },
   "source": [
    "## 4. LoRA, Embedding, Upscaler and VAE"
   ]
  },
  {
   "cell_type": "markdown",
   "metadata": {
    "jp-MarkdownHeadingCollapsed": true
   },
   "source": [
    "### • Built-in Resources\n",
    "**This is just for information. No need to run this cell.**"
   ]
  },
  {
   "cell_type": "markdown",
   "metadata": {},
   "source": [
    "**Pre-installed LoRA :**\n",
    "* [Detail Tweaker XL](https://civitai.com/models/122359)\n",
    "\n",
    "**Pre-installed Embeddings :**\n",
    "* [Negative Prompts Pack XL](https://huggingface.co/ffxvs/negative-prompts-pack-xl)\n",
    "* [Embeddings Collection XL](https://huggingface.co/ffxvs/embeddings-collection-xl)\n",
    "\n",
    "**Pre-installed Upscaler :**  \n",
    "* [UltraSharp](https://openmodeldb.info/models/4x-UltraSharp)\n",
    "\n",
    "**Pre-installed VAE :**\n",
    "* [sdxl-vae-fp16-fix](https://huggingface.co/madebyollin/sdxl-vae-fp16-fix)"
   ]
  },
  {
   "cell_type": "markdown",
   "metadata": {
    "jp-MarkdownHeadingCollapsed": true,
    "tags": []
   },
   "source": [
    "### • Resource Lists"
   ]
  },
  {
   "cell_type": "code",
   "execution_count": null,
   "metadata": {
    "cellView": "form",
    "id": "TVaJGYKh80gz",
    "tags": []
   },
   "outputs": [],
   "source": [
    "####################################### LORA ##########################################\n",
    "\n",
    "# Blur SDXL - https://civitai.com/models/124855\n",
    "blurXL = boolean[0]\n",
    "\n",
    "# DetailedEyes XL - https://civitai.com/models/120723\n",
    "detailEyes = boolean[0]\n",
    "\n",
    "# LCM Lora SDXL - https://huggingface.co/latent-consistency/lcm-lora-sdxl\n",
    "lcmXL = boolean[0]\n",
    "\n",
    "# LCM&TurboMix - https://civitai.com/models/216190\n",
    "lcmTurbo = boolean[0]\n",
    "\n",
    "# Hands XL - https://civitai.com/models/200255\n",
    "handsXL = boolean[0]\n",
    "\n",
    "# SOAP (Shot On A Phone) - https://civitai.com/models/131818\n",
    "soap = boolean[0]\n",
    "\n",
    "# XL More Art Full - https://civitai.com/models/124347\n",
    "moreArt = boolean[0]\n",
    "\n",
    "\n",
    "###################################### UPSCALER ########################################\n",
    "\n",
    "# BSRGAN - https://openmodeldb.info/models/4x-BSRGAN\n",
    "bsrgan = boolean[0]\n",
    "\n",
    "# LSDIRPlus - https://openmodeldb.info/models/4x-LSDIRplus\n",
    "lsdirPlus = boolean[0]\n",
    "\n",
    "# NMKD Superscale - https://openmodeldb.info/models/4x-NMKD-Superscale\n",
    "superscale = boolean[0]\n",
    "\n",
    "# Nomos8kSC - https://openmodeldb.info/models/4x-Nomos8kSC\n",
    "nomos8ksc = boolean[0]\n",
    "\n",
    "# Remacri - https://openmodeldb.info/models/4x-Remacri\n",
    "remacri = boolean[0]\n",
    "\n",
    "# UltraMix - https://upscale.wiki/w/index.php?title=Model_Database&oldid=1571\n",
    "ultraMix = boolean[0]\n",
    "\n",
    "# Valar - https://openmodeldb.info/models/4x-Valar\n",
    "valar = boolean[0]\n",
    "\n",
    "\n",
    "###################################################################################################\n",
    "\n",
    "os.chdir(webui)\n",
    "download_builtin_resources(sdxl_builtin_resources_url, sdxl)\n",
    "download_lora(sdxl_lora_list_url, sdxl)\n",
    "download_upscaler()\n",
    "os.chdir(webui)\n",
    "completed_message()"
   ]
  },
  {
   "cell_type": "markdown",
   "metadata": {
    "jp-MarkdownHeadingCollapsed": true,
    "tags": []
   },
   "source": [
    "### • Install from URLs"
   ]
  },
  {
   "cell_type": "code",
   "execution_count": null,
   "metadata": {},
   "outputs": [],
   "source": [
    "# LoRA\n",
    "other_lora = []\n",
    "\n",
    "# Embeddings\n",
    "other_embeddings = []\n",
    "\n",
    "# Upscaler\n",
    "other_upscaler = []\n",
    "\n",
    "# VAE\n",
    "other_vae = []\n",
    "\n",
    "\n",
    "###################################################################################################\n",
    "\n",
    "download_other_resources(sdxl, other_lora, other_embeddings, other_upscaler, other_vae, civitai_token)\n",
    "os.chdir(webui)\n",
    "completed_message()"
   ]
  }
 ],
 "metadata": {
  "kernelspec": {
   "display_name": "Python 3 (ipykernel)",
   "language": "python",
   "name": "python3"
  },
  "language_info": {
   "codemirror_mode": {
    "name": "ipython",
    "version": 3
   },
   "file_extension": ".py",
   "mimetype": "text/x-python",
   "name": "python",
   "nbconvert_exporter": "python",
   "pygments_lexer": "ipython3",
   "version": "3.12.1"
  },
  "notebook_version": "2024.08.26",
  "toc-autonumbering": false,
  "toc-showcode": false,
  "toc-showmarkdowntxt": false,
  "toc-showtags": false,
  "widgets": {
   "application/vnd.jupyter.widget-state+json": {
    "state": {},
    "version_major": 2,
    "version_minor": 0
   }
  }
 },
 "nbformat": 4,
 "nbformat_minor": 4
}
