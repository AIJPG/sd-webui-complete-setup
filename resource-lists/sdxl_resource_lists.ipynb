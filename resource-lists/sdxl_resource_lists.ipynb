{
 "cells": [
  {
   "cell_type": "markdown",
   "metadata": {},
   "source": [
    "## SDXL Resource Lists\n",
    "\n",
    "**Homepage :** [SD Webui Complete setup](https://github.com/ffxvs/sd-webui-complete-setup)  \n",
    "**Guide :** [Resource Lists Guide](https://github.com/ffxvs/sd-webui-complete-setup/wiki/Resource-Lists-Guide)"
   ]
  },
  {
   "cell_type": "markdown",
   "metadata": {
    "id": "AcADZumt8rYd",
    "tags": []
   },
   "source": [
    "## 1. Requirements"
   ]
  },
  {
   "cell_type": "markdown",
   "metadata": {
    "tags": []
   },
   "source": [
    "### • Initialization\n",
    "**REQUIRED EVERY TIME YOU START THE MACHINE**"
   ]
  },
  {
   "cell_type": "code",
   "execution_count": null,
   "metadata": {
    "collapsed": false
   },
   "outputs": [],
   "source": [
    "# Civitai Token - Required to download models that require login\n",
    "civitai_token = ''\n",
    "\n",
    "\n",
    "################################################################################################################\n",
    "\n",
    "import os\n",
    "os.chdir('/')\n",
    "from internal.main import *\n",
    "\n",
    "apply_envs1()\n",
    "completed_message()"
   ]
  },
  {
   "cell_type": "markdown",
   "metadata": {},
   "source": [
    "## 2. ControlNet"
   ]
  },
  {
   "cell_type": "markdown",
   "metadata": {
    "jp-MarkdownHeadingCollapsed": true
   },
   "source": [
    "### • ControlNet Models"
   ]
  },
  {
   "cell_type": "code",
   "execution_count": null,
   "metadata": {},
   "outputs": [],
   "source": [
    "# ControlNet - https://github.com/Mikubill/sd-webui-controlnet/discussions/2039\n",
    "# Select models to download. Default models are : depth, ip-adapter, openpose\n",
    "\n",
    "controlnet = {  \n",
    "    'blur': boolean[0],\n",
    "    'blur_anime': boolean[0],\n",
    "    'canny': boolean[0],\n",
    "    'canny_anime': boolean[0],\n",
    "    'depth': boolean[1],\n",
    "    'depth_anime': boolean[0],\n",
    "    'ipadapter': boolean[1],\n",
    "    'ipadapter_vit_h': boolean[0],\n",
    "    'ipadapter_plus': boolean[0],\n",
    "    'ipadapter_plus_face': boolean[0],\n",
    "    'lineart': boolean[0],\n",
    "    'openpose': boolean[1],\n",
    "    'openpose_anime': boolean[0],\n",
    "    'recolor': boolean[0],\n",
    "    'scribble_anime': boolean[0],\n",
    "    'sketch': boolean[0],\n",
    "    'softedge': boolean[0],\n",
    "}\n",
    "\n",
    "\n",
    "################################################################################################################\n",
    "\n",
    "print(\"\\n⏳ Download selected controlNet models...\")\n",
    "download_controlnet(controlnet, sdxl_controlnet_url, sdxl)\n",
    "os.chdir(webui)\n",
    "completed_message()"
   ]
  },
  {
   "cell_type": "markdown",
   "metadata": {
    "jp-MarkdownHeadingCollapsed": true
   },
   "source": [
    "### • Install from URLs"
   ]
  },
  {
   "cell_type": "code",
   "execution_count": null,
   "metadata": {},
   "outputs": [],
   "source": [
    "# Install controlNet models from URL \n",
    "other_controlnet = []\n",
    "\n",
    "\n",
    "########################################################################################\n",
    "\n",
    "if other_controlnet:\n",
    "    print('⏳ Downloading controlNet models...')\n",
    "    other_resources(other_controlnet, f'{controlnet_models_path}/sdxl', civitai_token)\n",
    "\n",
    "os.chdir(webui)\n",
    "completed_message()"
   ]
  },
  {
   "cell_type": "markdown",
   "metadata": {
    "id": "sS2bjZrRfRu2",
    "tags": []
   },
   "source": [
    "## 3. SDXL Models\n",
    "**Choose models you want to download**  \n",
    "Some models hosted by Civitai require you to login to download.  \n",
    "Create an API key in [Civitai user settings](https://civitai.com/user/account) then paste it to `civiai_Token` inside Initialization cell."
   ]
  },
  {
   "cell_type": "markdown",
   "metadata": {
    "tags": []
   },
   "source": [
    "### • Anime / Cartoon / 3D"
   ]
  },
  {
   "cell_type": "code",
   "execution_count": null,
   "metadata": {},
   "outputs": [],
   "source": [
    "# Run this cell to display the model list\n",
    "\n",
    "models_selection(sdxl_anime_models_url, sdxl, civitai_token)\n",
    "os.chdir(webui)"
   ]
  },
  {
   "cell_type": "markdown",
   "metadata": {
    "id": "ySk6xCuCJJpl",
    "tags": []
   },
   "source": [
    "### • General Purpose"
   ]
  },
  {
   "cell_type": "code",
   "execution_count": null,
   "metadata": {
    "cellView": "form",
    "id": "LcRD2PyjJMuP"
   },
   "outputs": [],
   "source": [
    "# Run this cell to display the model list\n",
    "\n",
    "models_selection(sdxl_general_models_url, sdxl, civitai_token)\n",
    "os.chdir(webui)"
   ]
  },
  {
   "cell_type": "markdown",
   "metadata": {
    "id": "q7N-mw17j7G4",
    "tags": []
   },
   "source": [
    "### • Realistic"
   ]
  },
  {
   "cell_type": "code",
   "execution_count": null,
   "metadata": {
    "cellView": "form",
    "id": "5ktgkG1Qj9H6"
   },
   "outputs": [],
   "source": [
    "# Run this cell to display the model list\n",
    "\n",
    "models_selection(sdxl_realistic_models_url, sdxl, civitai_token)\n",
    "os.chdir(webui)"
   ]
  },
  {
   "cell_type": "markdown",
   "metadata": {
    "id": "YyShd1x_yPzI",
    "tags": []
   },
   "source": [
    "### • Woman"
   ]
  },
  {
   "cell_type": "code",
   "execution_count": null,
   "metadata": {
    "cellView": "form",
    "id": "i_IIx3pWyRgK",
    "tags": []
   },
   "outputs": [],
   "source": [
    "# Run this cell to display the model list\n",
    "\n",
    "models_selection(sdxl_woman_models_url, sdxl, civitai_token)\n",
    "os.chdir(webui)"
   ]
  },
  {
   "cell_type": "markdown",
   "metadata": {
    "id": "4DDVVCkQxp8U",
    "jp-MarkdownHeadingCollapsed": true,
    "tags": []
   },
   "source": [
    "### • Install from URLs"
   ]
  },
  {
   "cell_type": "code",
   "execution_count": null,
   "metadata": {
    "cellView": "form",
    "id": "4GhWKu_Jxrxl",
    "tags": []
   },
   "outputs": [],
   "source": [
    "# Install models from URL \n",
    "other_models = []\n",
    "\n",
    "\n",
    "########################################################################################\n",
    "\n",
    "if other_models:\n",
    "    print('⏳ Downloading models...')\n",
    "    other_resources(other_models, f'{models_path}/sdxl', civitai_token)\n",
    "\n",
    "os.chdir(webui)\n",
    "completed_message()"
   ]
  },
  {
   "cell_type": "markdown",
   "metadata": {
    "id": "qe4SFLnaff7T",
    "tags": []
   },
   "source": [
    "## 4. LoRA, Embedding, Upscaler and VAE"
   ]
  },
  {
   "cell_type": "markdown",
   "metadata": {
    "jp-MarkdownHeadingCollapsed": true
   },
   "source": [
    "### • Built-in Resources\n",
    "**To download these, run the `Resource Lists` cell below.**"
   ]
  },
  {
   "cell_type": "markdown",
   "metadata": {},
   "source": [
    "**Built-in LoRA :**\n",
    "* [Detail Tweaker XL](https://civitai.com/models/122359)\n",
    "\n",
    "**Built-in Embeddings :**\n",
    "* [Negative Prompts Pack XL](https://huggingface.co/ffxvs/negative-prompts-pack-xl)\n",
    "* [Embeddings Collection XL](https://huggingface.co/ffxvs/embeddings-collection-xl)\n",
    "\n",
    "**Built-in Upscaler :**  \n",
    "* [UltraSharp](https://openmodeldb.info/models/4x-UltraSharp)\n",
    "\n",
    "**Built-in VAE :**\n",
    "* [sdxl-vae-fp16-fix](https://huggingface.co/madebyollin/sdxl-vae-fp16-fix)"
   ]
  },
  {
   "cell_type": "markdown",
   "metadata": {
    "jp-MarkdownHeadingCollapsed": true,
    "tags": []
   },
   "source": [
    "### • Resource Lists"
   ]
  },
  {
   "cell_type": "code",
   "execution_count": null,
   "metadata": {
    "cellView": "form",
    "id": "TVaJGYKh80gz",
    "tags": []
   },
   "outputs": [],
   "source": [
    "# Run this cell to display the resource lists\n",
    "\n",
    "resources_selection(sdxl_builtin_resources_url, sdxl_resources_url, sdxl, civitai_token)\n",
    "os.chdir(webui)"
   ]
  },
  {
   "cell_type": "markdown",
   "metadata": {
    "jp-MarkdownHeadingCollapsed": true,
    "tags": []
   },
   "source": [
    "### • Install from URLs"
   ]
  },
  {
   "cell_type": "code",
   "execution_count": null,
   "metadata": {},
   "outputs": [],
   "source": [
    "# LoRA\n",
    "other_lora = []\n",
    "\n",
    "# Embeddings\n",
    "other_embeddings = []\n",
    "\n",
    "# Upscaler\n",
    "other_upscaler = []\n",
    "\n",
    "# VAE\n",
    "other_vae = []\n",
    "\n",
    "\n",
    "###################################################################################################\n",
    "\n",
    "download_other_resources(sdxl, other_lora, other_embeddings, other_upscaler, other_vae, civitai_token)\n",
    "os.chdir(webui)\n",
    "completed_message()"
   ]
  }
 ],
 "metadata": {
  "kernelspec": {
   "display_name": "Python 3 (ipykernel)",
   "language": "python",
   "name": "python3"
  },
  "language_info": {
   "codemirror_mode": {
    "name": "ipython",
    "version": 3
   },
   "file_extension": ".py",
   "mimetype": "text/x-python",
   "name": "python",
   "nbconvert_exporter": "python",
   "pygments_lexer": "ipython3",
   "version": "3.12.1"
  },
  "notebook_version": "2024.08.26",
  "toc-autonumbering": false,
  "toc-showcode": false,
  "toc-showmarkdowntxt": false,
  "toc-showtags": false,
  "widgets": {
   "application/vnd.jupyter.widget-state+json": {
    "state": {},
    "version_major": 2,
    "version_minor": 0
   }
  }
 },
 "nbformat": 4,
 "nbformat_minor": 4
}
