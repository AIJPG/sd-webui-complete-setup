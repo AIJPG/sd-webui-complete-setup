{
 "cells": [
  {
   "cell_type": "markdown",
   "id": "2b87ad4a-e928-4e64-926f-0e8ce23b1da4",
   "metadata": {},
   "source": [
    "## FLUX Resource Lists\n",
    "\n",
    "**Homepage :** [SD Webui Complete setup](https://github.com/ffxvs/sd-webui-complete-setup)  \n",
    "**Guide :** [Resource Lists Guide](https://github.com/ffxvs/sd-webui-complete-setup/wiki/Resource-Lists-Guide)  "
   ]
  },
  {
   "cell_type": "markdown",
   "id": "b3fa754b-fad3-432e-8991-6745c1eebfa3",
   "metadata": {},
   "source": [
    "## 1. Requirements"
   ]
  },
  {
   "cell_type": "markdown",
   "id": "1261c775-a343-4dff-a2c7-8ccb3b6d7e12",
   "metadata": {},
   "source": [
    "### • Initialization\n",
    "**REQUIRED EVERY TIME YOU START THE MACHINE**"
   ]
  },
  {
   "cell_type": "code",
   "execution_count": null,
   "id": "2abc491f-2c10-4901-9d7f-2ac8b955b90e",
   "metadata": {},
   "outputs": [],
   "source": [
    "import os\n",
    "os.chdir('/')\n",
    "from internal.main import *\n",
    "os.environ['BASE_MODEL'] = base.FLUX\n",
    "\n",
    "apply_envs1()\n",
    "completed_message()"
   ]
  },
  {
   "cell_type": "markdown",
   "id": "4e373bae-3666-4de0-9b1f-e82604de6da3",
   "metadata": {},
   "source": [
    "## 2. ControlNet\n",
    "**FLUX ControlNet is not supported on Forge yet**"
   ]
  },
  {
   "cell_type": "markdown",
   "id": "71bfa13b-9661-4dd4-8a47-1c1de96dcc34",
   "metadata": {
    "id": "sS2bjZrRfRu2",
    "tags": []
   },
   "source": [
    "## 3. FLUX Models\n",
    "**Run the cell and select the model version you want to download**  "
   ]
  },
  {
   "cell_type": "markdown",
   "id": "f3792ec0-c8be-41d6-81bd-53bc979054fd",
   "metadata": {
    "id": "ySk6xCuCJJpl",
    "tags": []
   },
   "source": [
    "### • General Purpose"
   ]
  },
  {
   "cell_type": "code",
   "execution_count": null,
   "id": "a2ca14b6-6801-431f-9bfd-e8aec784f7e8",
   "metadata": {
    "cellView": "form",
    "id": "LcRD2PyjJMuP"
   },
   "outputs": [],
   "source": [
    "models_selection(flux_general_models_url)\n",
    "os.chdir(webui_path)\n"
   ]
  },
  {
   "cell_type": "markdown",
   "id": "b135eca0-5900-4618-93cb-f6315095d1f6",
   "metadata": {
    "id": "4DDVVCkQxp8U",
    "jp-MarkdownHeadingCollapsed": true,
    "tags": []
   },
   "source": [
    "### • Install from URLs"
   ]
  },
  {
   "cell_type": "code",
   "execution_count": null,
   "id": "f67e3b86-6579-4674-8384-d1899b978821",
   "metadata": {
    "cellView": "form",
    "id": "4GhWKu_Jxrxl",
    "tags": []
   },
   "outputs": [],
   "source": [
    "# Install models from URL \n",
    "other_models = []\n",
    "\n",
    "\n",
    "#########################################################################################################\n",
    "\n",
    "if other_models:\n",
    "    print('⏳ Downloading models...')\n",
    "    download_other_res(other_models, f'{models_path}/flux')\n",
    "\n",
    "os.chdir(webui_path)\n",
    "completed_message()"
   ]
  },
  {
   "cell_type": "markdown",
   "id": "d96ecae8-f438-4743-a0b4-a01907f8c78a",
   "metadata": {
    "id": "qe4SFLnaff7T",
    "tags": []
   },
   "source": [
    "## 4. LoRA, Upscaler, VAE and Text Encoder"
   ]
  },
  {
   "cell_type": "markdown",
   "id": "278a381f-59d0-4506-953b-edb3a7a01243",
   "metadata": {
    "tags": []
   },
   "source": [
    "### • Resource Lists"
   ]
  },
  {
   "cell_type": "code",
   "execution_count": null,
   "id": "97f2ee15-eb2f-40f2-bb32-6fb2eed01642",
   "metadata": {
    "cellView": "form",
    "id": "TVaJGYKh80gz",
    "tags": []
   },
   "outputs": [],
   "source": [
    "# Run this cell to display the resource lists\n",
    "\n",
    "resources_selection(None, flux_resources_url)\n",
    "os.chdir(webui_path)"
   ]
  },
  {
   "cell_type": "markdown",
   "id": "c27123a7-3f1a-41aa-8d6b-7608b2526fe0",
   "metadata": {
    "jp-MarkdownHeadingCollapsed": true,
    "tags": []
   },
   "source": [
    "### • Install from URLs"
   ]
  },
  {
   "cell_type": "code",
   "execution_count": null,
   "id": "c8306859-5925-4a71-8e94-3563d5d283a4",
   "metadata": {},
   "outputs": [],
   "source": [
    "# LoRA\n",
    "other.lora = []\n",
    "\n",
    "# Upscaler\n",
    "other.upscaler = []\n",
    "\n",
    "# ESRGAN-based Upscaler\n",
    "other.esrgan = []\n",
    "\n",
    "# DAT-based Upscaler\n",
    "other.dat = []\n",
    "\n",
    "# VAE\n",
    "other.vae = []\n",
    "\n",
    "# Text Encoder\n",
    "other.text_encoder = []\n",
    "\n",
    "\n",
    "#########################################################################################################\n",
    "\n",
    "other_resources(other)\n",
    "os.chdir(webui_path)\n",
    "completed_message()"
   ]
  }
 ],
 "metadata": {
  "kernelspec": {
   "display_name": "Python 3 (ipykernel)",
   "language": "python",
   "name": "python3"
  },
  "language_info": {
   "codemirror_mode": {
    "name": "ipython",
    "version": 3
   },
   "file_extension": ".py",
   "mimetype": "text/x-python",
   "name": "python",
   "nbconvert_exporter": "python",
   "pygments_lexer": "ipython3",
   "version": "3.10.11"
  },
  "notebook_version": "2024.10.15"
 },
 "nbformat": 4,
 "nbformat_minor": 5
}
