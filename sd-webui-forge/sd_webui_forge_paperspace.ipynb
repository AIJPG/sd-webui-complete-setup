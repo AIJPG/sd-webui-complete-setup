{
  "metadata": {
    "kernelspec": {
      "name": "python",
      "display_name": "Python (Pyodide)",
      "language": "python"
    },
    "language_info": {
      "codemirror_mode": {
        "name": "python",
        "version": 3
      },
      "file_extension": ".py",
      "mimetype": "text/x-python",
      "name": "python",
      "nbconvert_exporter": "python",
      "pygments_lexer": "ipython3",
      "version": "3.8"
    },
    "accelerator": "GPU",
    "colab": {
      "collapsed_sections": [
        "aPLwNZbN-dIe",
        "AcADZumt8rYd",
        "hJK6ToaX8g5r",
        "GFukPFHAwN2c",
        "ukRiExJwhEtp",
        "ySk6xCuCJJpl",
        "q7N-mw17j7G4",
        "BKZT_667lw7B",
        "YyShd1x_yPzI",
        "4DDVVCkQxp8U",
        "LbQdQ5_bhUUB",
        "qe4SFLnaff7T",
        "GFFEm-UIfrFe"
      ],
      "private_outputs": true,
      "provenance": []
    },
    "gpuClass": "standard",
    "toc-autonumbering": false,
    "toc-showcode": false,
    "toc-showmarkdowntxt": false,
    "toc-showtags": false,
    "widgets": {
      "application/vnd.jupyter.widget-state+json": {
        "state": {},
        "version_major": 2,
        "version_minor": 0
      }
    }
  },
  "nbformat_minor": 4,
  "nbformat": 4,
  "cells": [
    {
      "cell_type": "markdown",
      "source": "# Check for Updates\n\n**Current version : 2024.02.08**",
      "metadata": {
        "jp-MarkdownHeadingCollapsed": true,
        "tags": []
      }
    },
    {
      "cell_type": "code",
      "source": "import ipywidgets as widgets\nfrom IPython.utils import capture \nimport requests\n\nbutton = widgets.Button(description=\"Download now\", button_style='success')\noutput = widgets.Output()\n\ndef on_button_clicked(b, url, version):\n  with output:\n    print('Downloading...')\n    !wget -nv -O /notebooks/sdxl_webui_paperspace_{version}.ipynb {url}\n    print(f'sdxl_webui_paperspace_{version}.ipynb downloaded in the root directory')\n\ncurrentVersion = '2024.02.08'\nupdateURL = 'https://raw.githubusercontent.com/ffxvs/sd-webui-complete-setup/main/update.json'\nresponse = requests.get(updateURL)\n\nif response.status_code == 200:\n    res = response.json()\n    for data in res['data']:\n        if data['id'] == 'paperspace':\n            for variant in data['variants']:\n                if variant['type'] == 'sdxl':\n                    print('Current version : ' + currentVersion)\n                    print('Latest version  : ' + variant['version'])\n                    if (variant['version'] > currentVersion):\n                        print('\\nThere is new version')\n                        button.on_click(lambda b: on_button_clicked(b, variant['url'], variant['version']))\n                        display(button, output)\n                        print('\\nChangelog :')\n                        print(variant['changelog'])\n                    else:\n                        print('\\nThis is the latest version')                \nelse:\n    print('Failed to check for updates') \n    print('Response code :', response.status_code)",
      "metadata": {
        "tags": []
      },
      "outputs": [],
      "execution_count": null
    },
    {
      "cell_type": "markdown",
      "source": "# 1. Requirements",
      "metadata": {
        "id": "AcADZumt8rYd",
        "tags": []
      }
    },
    {
      "cell_type": "markdown",
      "source": "### 1.1. Function and Data\n**REQUIRED EVERY TIME YOU WANT TO USE THIS NOTEBOOK**",
      "metadata": {
        "jp-MarkdownHeadingCollapsed": true,
        "tags": []
      }
    },
    {
      "cell_type": "code",
      "source": "##################################### IMPORT #######################################\n\nimport os, re\nimport ipywidgets as widgets\nfrom IPython.utils import capture\nfrom IPython.display import clear_output\n\n############################ ENVIRONMENT VARIABLES ################################\n\nos.environ['LD_PRELOAD'] = '/lib/x86_64-linux-gnu/libtcmalloc_minimal.so.4'\nos.environ['TF_CPP_MIN_LOG_LEVEL'] = '2'\nos.environ['PYTHONWARNINGS'] = 'ignore'\nos.environ['PIP_ROOT_USER_ACTION'] = 'ignore'\nos.environ['PIP_DISABLE_PIP_VERSION_CHECK'] = '1'\nos.environ['ACCELERATE'] = 'True'\nos.environ['FORCE_CUDA'] = '1'\nos.environ['ATTN_PRECISION'] = 'fp16'\nos.environ['PYTORCH_CUDA_ALLOC_CONF'] = 'garbage_collection_threshold:0.9,max_split_size_mb:512'\nos.environ['CUDA_LAUNCH_BLOCKING'] = '0'\nos.environ['CUDA_CACHE_DISABLE'] = '0'\nos.environ['CUDA_AUTO_BOOST'] = '1'\nos.environ['CUDA_MODULE_LOADING'] = 'LAZY'\nos.environ['CUDA_DEVICE_DEFAULT_PERSISTING_L2_CACHE_PERCENTAGE_LIMIT'] = '0'\nos.environ['GRADIO_ANALYTICS_ENABLED'] = 'False'\nos.environ['SAFETENSORS_FAST_GPU'] = '1'\nos.environ['NUMEXPR_MAX_THREADS'] = '16'\n\n########################### GLOBAL PATHS AND FUNCTION ###########################\n\nboolean = [False, True]\n\n# Paths\nroot = '/notebooks'\na1111 = '/stable-diffusion-webui'\nwebui = root + '/stable-diffusion-webui-forge'\nmodulesPath = webui + '/modules'\noutputsPath = webui + '/outputs'\nextensionsPath = webui + '/extensions'\ncontrolNetModelsPath = \"models/ControlNet\"\nembeddingsPath = webui + \"/embeddings\"\nmodelsPath = webui + \"/models/Stable-diffusion\"\nloraPath = webui + \"/models/Lora\"\nupscalerPath = webui + \"/models/ESRGAN\"\nvaePath = webui + \"/models/VAE\"\nsharedStorage = root + '/shared-storage'\nsharedModelsPath = sharedStorage + '/models'\nsharedEmbeddingsPath = sharedStorage + '/embeddings'\nsharedLoraPath = sharedStorage + '/lora'\nsharedUpscalerPath = sharedStorage + '/esrgan'\nsharedHypernetworksPath = sharedStorage + '/hypernetworks'\nsharedVaePath = sharedStorage + '/vae'\nsharedControlNetModelsPath = sharedStorage + '/controlNet'\nsharedOutputsPath = sharedStorage + '/outputs'\nsharedConfigPath = sharedStorage + '/config'\ndependenciesPath = root + '/dependencies'\npythonLibsPath = '/root/.local/lib/python3.10'\npackagesPath = pythonLibsPath + '/site-packages'\n\n\n# Create symlink\ndef symlink(source, destination):\n    if os.path.exists(source) and not os.path.islink(destination):\n        !rm -r -f {destination}\n        !ln -s {source} {destination}\n\n# Complete message\ndef inf(msg, style, width): inf = widgets.Button(description=msg, disabled=True, button_style=style, layout=widgets.Layout(min_width=width));display(inf)\n\n# Model Mapper\ndef modelMapper(name, version, url):\n    return {\n        'name': name,\n        'version': version,\n        'url': url\n    }\n\n# Selected Models\ndef selectedModels(models):\n    modelList = []\n    for model in models:\n        isSelected = eval(model['id'])\n        if isSelected != 'Select version...':\n            for variant in model['variants']:\n                if variant['version'] == isSelected:\n                    modelList.append(modelMapper(\n                        model['name'],\n                        variant['version'],\n                        variant['url']\n                    ))\n    return modelList\n\n# Aria2c\ndef downloader(url, path, overwrite=False):\n    args = '--download-result=hide --console-log-level=error -c -x 16 -s 16 -k 1M '\n    if overwrite: args += '--allow-overwrite'\n    if url.startswith('https://civitai.com/api/download/') and civitaiToken:\n        if '?' in url:\n            url = f'{url}&token={civitaiToken}'\n        else:\n            url = f'{url}?token={civitaiToken}'\n    formattedURL = '\"' + url + '\"'\n    if bool(re.search('\\/[\\w\\.-]+\\.\\w+$', url)):\n        filename = url.split('/')[-1]\n        !aria2c {args} {formattedURL} -d {path} -o {filename}\n    else:\n        !aria2c {args} {formattedURL} -d {path}\n\n# Git Clone\ndef silentClone(command, path, update=False, overwrite=False):\n    directory = command.split('/')[-1]\n    if os.path.exists(path + '/' + directory):\n        if update:\n            os.chdir(f'{path}/{directory}')\n            !git pull -q\n        elif overwrite:\n            !rm -r {path}/{directory}\n            !git clone -q --depth 10 {command} {path}/{directory}\n    else:\n        !git clone -q --depth 10 {command} {path}/{directory}\n\n# WGet\ndef silentGet(command):\n    !wget -nv {command}\n\n# Resources downloader\ndef defaultResources(resourceList, resourcePath):\n    for resource in resourceList:\n        print('\\n' + resource['name'] + '...')\n        downloader(resource['url'], resourcePath)\n\ndef selectedResources(resourceList, resourcePath):\n    for resource in resourceList:\n        if eval(resource['id']):\n            print('\\n' + resource['name'] + '...')\n            for url in resource['url']:\n                downloader(url, resourcePath)\n                print('')\n                \ndef otherResources(resourceList, resourcePath):\n    for resource in resourceList:\n        print('\\n' + resource)\n        downloader(resource, resourcePath)\n\n# Remove git from directory\ndef removeGit(directory):\n    for (folder, subfolders, files) in os.walk(directory):\n        if subfolders:\n            for subfolder in subfolders:\n                if subfolder == '.git':\n                    pathFolder = os.path.join(folder, subfolder)\n                    !rm -r {pathFolder}\n\n        for file in files:\n            if file == '.gitattributes' or file == 'readme.md' or file == 'README.md':\n                pathFile = os.path.join(folder, file)\n                !rm {pathFile}\n\n\n################################ DATA OBJECT ################################\n################################ CONTROLNET ################################\n\ncontrolNetURLs = {\n    'blur': ['https://huggingface.co/lllyasviel/sd_control_collection/resolve/main/kohya_controllllite_xl_blur.safetensors'],\n    'blur_anime': ['https://huggingface.co/lllyasviel/sd_control_collection/resolve/main/kohya_controllllite_xl_blur_anime.safetensors'],\n    'canny': ['https://huggingface.co/lllyasviel/sd_control_collection/resolve/main/diffusers_xl_canny_mid.safetensors'],\n    'canny_anime': ['https://huggingface.co/lllyasviel/sd_control_collection/resolve/main/kohya_controllllite_xl_canny_anime.safetensors'],\n    'depth': ['https://huggingface.co/lllyasviel/sd_control_collection/resolve/main/diffusers_xl_depth_mid.safetensors'],\n    'depth_anime': ['https://huggingface.co/lllyasviel/sd_control_collection/resolve/main/kohya_controllllite_xl_depth_anime.safetensors'],\n    'ipadapter': ['https://huggingface.co/lllyasviel/sd_control_collection/resolve/main/ip-adapter_xl.pth'],\n    'lineart': ['https://huggingface.co/lllyasviel/sd_control_collection/resolve/main/t2i-adapter_diffusers_xl_lineart.safetensors'],\n    'openpose': ['https://huggingface.co/lllyasviel/sd_control_collection/resolve/main/thibaud_xl_openpose_256lora.safetensors'],\n    'openpose_anime': ['https://huggingface.co/lllyasviel/sd_control_collection/resolve/main/kohya_controllllite_xl_openpose_anime_v2.safetensors'],\n    'recolor': ['https://huggingface.co/lllyasviel/sd_control_collection/resolve/main/sai_xl_recolor_128lora.safetensors'],\n    'scribble_anime': ['https://huggingface.co/lllyasviel/sd_control_collection/resolve/main/kohya_controllllite_xl_scribble_anime.safetensors'],\n    'sketch': ['https://huggingface.co/lllyasviel/sd_control_collection/resolve/main/sai_xl_sketch_256lora.safetensors'],\n    'softedge': ['https://huggingface.co/lllyasviel/sd_control_collection/resolve/main/sargezt_xl_softedge.safetensors']\n}\n\n################################ EXTENSIONS ################################\n\ndefaultExtensions = [\n    {\n        'name': 'Aspect Ratio Helper',\n        'url': 'https://github.com/thomasasfk/sd-webui-aspect-ratio-helper',\n    },\n    {\n        'name': 'Canvas Zoom',\n        'url': 'https://github.com/richrobber2/canvas-zoom',\n    },\n    {\n        'name': 'Cleaner',\n        'url': 'https://github.com/novitalabs/sd-webui-cleaner',\n    },\n    {\n        'name': 'SD Delete Button',\n        'url': 'https://github.com/reforget-id/sd_delete_button',\n    },\n    {\n        'name': 'SD Model Downloader',\n        'url': 'https://github.com/Iyashinouta/sd-model-downloader',\n    },\n    {\n        'name': 'State',\n        'url': 'https://github.com/ilian6806/stable-diffusion-webui-state',\n    },\n    {\n        'name': 'Ultimate SD Upscale',\n        'url': 'https://github.com/Coyote-A/ultimate-upscale-for-automatic1111',\n    }\n]\n\nextensionList = [\n    {\n        'id': 'adetailer',\n        'name': 'Adetailer (After Detailer)',\n        'url': 'https://github.com/Bing-su/adetailer',\n    },\n    {\n        'id': 'animateDiff',\n        'name': 'AnimateDiff',\n        'url': 'https://github.com/continue-revolution/sd-webui-animatediff',\n    },\n    {\n        'id': 'bmab',\n        'name': 'BMAB',\n        'url': 'https://github.com/portu-sim/sd-webui-bmab'\n    },\n    {\n        'id': 'depthLib',\n        'name': 'Depth Map Library',\n        'url': 'https://github.com/wywywywy/sd-webui-depth-lib',\n    },\n    {\n        'id': 'huggingFace',\n        'name': 'Hugging Face',\n        'url': 'https://github.com/camenduru/stable-diffusion-webui-huggingface',\n    },\n    {\n        'id': 'infiniteImg',\n        'name': 'Infinite Image Browsing',\n        'url': 'https://github.com/zanllp/sd-webui-infinite-image-browsing',\n    },\n    {\n        'id': 'inpaintAny',\n        'name': 'Inpaint Anything',\n        'url': 'https://github.com/Uminosachi/sd-webui-inpaint-anything',\n    },\n    {\n        'id': 'latentCouple',\n        'name': 'Latent Couple',\n        'url': 'https://github.com/aria1th/stable-diffusion-webui-two-shot',\n    },\n    {\n        'id': 'miniPaint',\n        'name': 'Mini Paint',\n        'url': 'https://github.com/0Tick/a1111-mini-paint',\n    },\n    {\n        'id': 'npw',\n        'name': 'Negative Prompt Weight',\n        'url': 'https://github.com/muerrilla/stable-diffusion-NPW',\n    },\n    {\n        'id': 'openOutpaint',\n        'name': 'openOutpaint',\n        'url': 'https://github.com/zero01101/openOutpaint-webUI-extension',\n    },\n    {\n        'id': 'photopea',\n        'name': 'Photopea',\n        'url': 'https://github.com/yankooliveira/sd-webui-photopea-embed',\n    },\n    {\n        'id': 'promptHistory',\n        'name': 'Prompt History',\n        'url': 'https://github.com/namkazt/sd-webui-prompt-history',\n    },\n    {\n        'id': 'rembg',\n        'name': 'Remove Background',\n        'url': 'https://github.com/AUTOMATIC1111/stable-diffusion-webui-rembg',\n    },\n    {\n        'id': 'regionalPrompter',\n        'name': 'Regional Prompter',\n        'url': 'https://github.com/hako-mikan/sd-webui-regional-prompter',\n    },\n    {\n        'id': 'sag',\n        'name': 'Self Attention Guidance',\n        'url': 'https://github.com/ashen-sensored/sd_webui_SAG',\n    },\n    {\n        'id': 'styleXL',\n        'name': 'Style Selector XL',\n        'url': 'https://github.com/ahgsql/StyleSelectorXL'\n    },\n    {\n        'id': 'tagComplete',\n        'name': 'Tag Autocomplete',\n        'url': 'https://github.com/DominikDoom/a1111-sd-webui-tagcomplete',\n    }\n]\n\n\n#################################### MODELS #####################################\n############################# ANIME / CARTOON /3D ###############################\n\nanimeModels = [\n    {\n        'id': 'animagine',\n        'name': 'Animagine XL',\n        'variants': [\n            {\n                'version': 'v3',\n                'url': 'https://huggingface.co/cagliostrolab/animagine-xl-3.0/resolve/main/animagine-xl-3.0.safetensors'\n            }\n        ]\n    },\n    {\n        'id': 'bluePencil',\n        'name': 'Blue Pencil XL',\n        'variants': [\n            {\n                'version': 'v4.0.1',\n                'url': 'https://huggingface.co/bluepen5805/blue_pencil-XL/resolve/main/blue_pencil-XL-v4.0.1.safetensors'\n            }\n        ]\n    },\n    {\n        'id': 'counterfeit',\n        'name': 'CounterfeitXL',\n        'variants': [\n            {\n                'version': 'v2.5',\n                'url': 'https://huggingface.co/gsdf/CounterfeitXL-V2.0/resolve/main/CounterfeitXL-V2.5.safetensors'\n            }\n        ]\n    },\n    {\n        'id': 'dynaVision',\n        'name': 'DynaVision XL',\n        'variants': [\n            {\n                'version': 'v0.6.1.0_vae',\n                'url': 'https://civitai.com/api/download/models/297740?type=Model&format=SafeTensor&size=pruned&fp=fp16'\n            }\n        ]\n    },\n    {\n        'id': 'sdxlNiji',\n        'name': 'SDXL Niji',\n        'variants': [\n            {\n                'version': 'SE',\n                'url': 'https://huggingface.co/rafationgson/niji-sdxl/resolve/main/sdxlNijiSpecial_sdxlNijiSE.safetensors'\n            }\n        ]\n    },\n    {\n        'id': 'unstableDiff',\n        'name': 'SDXL Unstable Diffusers',\n        'variants': [\n            {\n                'version': 'v11',\n                'url': 'https://huggingface.co/frankjoshua/sdxlUnstableDiffusers_v11/resolve/main/sdxlUnstableDiffusers_v11.safetensors'\n            },\n            {\n                'version': 'v11+RunDiffusion',\n                'url': 'https://huggingface.co/Yamer-AI/SDXL_Unstable_Diffusers/resolve/main/Unstable%20Diffusers%20V11%20%2B%20RunDiffusion.safetensors'\n            },\n            {\n                'version': 'Turbo v10',\n                'url': 'https://civitai.com/api/download/models/247214?type=Model&format=SafeTensor&size=full&fp=fp16'\n            }\n        ]\n    }\n]\n\n############################### GENERAL PURPOSE #################################\n\ngeneralModels = [\n    {\n        'id': 'copaxTimeless',\n        'name': 'Copax TimeLessXL',\n        'variants': [\n            {\n                'version': 'v9',\n                'url': 'https://civitai.com/api/download/models/293413?type=Model&format=SafeTensor&size=pruned&fp=fp16'\n            },\n            {\n                'version': 'Turbo v1',\n                'url': 'https://civitai.com/api/download/models/247259?type=Model&format=SafeTensor&size=pruned&fp=fp16'\n            }\n        ]\n    },\n    {\n        'id': 'dreamShaper',\n        'name': 'DreamShaper XL',\n        'variants': [\n            {\n                'version': 'aplha2',\n                'url': 'https://huggingface.co/Lykon/DreamShaper/resolve/main/DreamShaperXL1.0Alpha2_fixedVae_half_00001_.safetensors'\n            },\n            {\n                'version': 'Turbo DPM++ SDE v2',\n                'url': 'https://huggingface.co/Lykon/dreamshaper-xl-v2-turbo/resolve/main/DreamShaperXL_Turbo_v2.safetensors'\n            }\n        ]\n    },\n    {\n        'id': 'juggernaut',\n        'name': 'Juggernaut XL',\n        'variants': [\n            {\n                'version': 'v8',\n                'url': 'https://huggingface.co/Dremmar/juggernaut_v8/resolve/main/juggernautXL_v8Rundiffusion.safetensors'\n            }\n        ]\n    },\n    {\n        'id': 'protoVision',\n        'name': 'ProtoVision XL',\n        'variants': [\n            {\n                'version': 'v6.6.0_vae',\n                'url': 'https://civitai.com/api/download/models/265938?type=Model&format=SafeTensor&size=pruned&fp=fp16'\n            }\n        ]\n    },\n    {\n        'id': 'sdxl',\n        'name': 'SD XL',\n        'variants': [\n            {\n                'version': 'v1_vae',\n                'url': 'https://huggingface.co/stabilityai/stable-diffusion-xl-base-1.0/resolve/main/sd_xl_base_1.0_0.9vae.safetensors'\n            },\n            {\n                'version': 'v1_vae-refiner',\n                'url': 'https://huggingface.co/stabilityai/stable-diffusion-xl-refiner-1.0/resolve/main/sd_xl_refiner_1.0_0.9vae.safetensors'\n            },\n            {\n                'version': 'Turbo v1',\n                'url': 'https://huggingface.co/stabilityai/sdxl-turbo/resolve/main/sd_xl_turbo_1.0_fp16.safetensors'\n            }\n        ]\n    }\n]\n\n################################## REALISTIC ####################################\n\nrealisticModels = [\n    {\n        'id': 'newReality',\n        'name': 'NewRealityXL',\n        'variants': [\n            {\n                'version': 'v2.1',\n                'url': 'https://huggingface.co/nncyberpunk/NewRealityXL-2.1/resolve/main/newrealityxlAllInOne_21.safetensors'\n            }\n        ]\n    },\n    {\n        'id': 'nightVision',\n        'name': 'NightVision XL',\n        'variants': [\n            {\n                'version': 'v0.7.9.1_vae',\n                'url': 'https://civitai.com/api/download/models/247444?type=Model&format=SafeTensor&size=pruned&fp=fp16'\n            }\n        ]\n    },\n    {\n        'id': 'realismEngine',\n        'name': 'Realism Engine SDXL',\n        'variants': [\n            {\n                'version': 'v3_vae',\n                'url': 'https://huggingface.co/misri/realismEngineSDXL_v30VAE/resolve/main/realismEngineSDXL_v30VAE.safetensors'\n            }\n        ]\n    },\n    {\n        'id': 'realEdge',\n        'name': 'Realities Edge XL',\n        'variants': [\n            {\n                'version': 'v5',\n                'url': 'https://civitai.com/api/download/models/183894?type=Model&format=SafeTensor&size=pruned&fp=fp16'\n            },\n            {\n                'version': 'Turbo v2',\n                'url': 'https://civitai.com/api/download/models/294995?type=Model&format=SafeTensor&size=pruned&fp=fp16'\n            }\n        ]\n    },\n    {\n        'id': 'realVis',\n        'name': 'RealVisXL',\n        'variants': [\n            {\n                'version': 'v3_vae',\n                'url': 'https://huggingface.co/SG161222/RealVisXL_V3.0/resolve/main/RealVisXL_V3.0.safetensors'\n            },\n            {\n                'version': 'v3_vae-inpainting',\n                'url': 'https://civitai.com/api/download/models/297320?type=Model&format=SafeTensor&size=pruned&fp=fp16'\n            },\n            {\n                'version': 'Turbo v3_vae',\n                'url': 'https://huggingface.co/SG161222/RealVisXL_V3.0_Turbo/resolve/main/RealVisXL_V3.0_Turbo.safetensors'\n            }\n        ]\n    }\n]\n\n#################################### WOMAN #####################################\n\nwomanModels = [\n    {\n        'id': 'arienmix',\n        'name': 'ArienMixXL Asian portrait',\n        'variants': [\n          {\n            'version': 'v4',\n            'url': 'https://civitai.com/api/download/models/322265?type=Model&format=SafeTensor&size=pruned&fp=bf16'\n          }\n        ]\n    },\n    {\n        'id': 'helloWorld',\n        'name': 'LEOSAM\\'s HelloWorld SDXL',\n        'variants': [\n            {\n                'version': 'v5',\n                'url': 'https://civitai.com/api/download/models/338512?type=Model&format=SafeTensor&size=full&fp=fp16'\n            },\n            {\n                'version': 'Turbo+LCM v2',\n                'url': 'https://civitai.com/api/download/models/243290?type=Model&format=SafeTensor&size=full&fp=fp16'\n            }\n        ]\n    },\n    \n    {\n        'id': 'sdvnReal',\n        'name': 'SDVN6 RealXL',\n        'variants': [\n          {\n            'version': 'Detailface',\n            'url': 'https://civitai.com/api/download/models/134461?type=Model&format=SafeTensor&size=full&fp=fp16'\n          }\n        ]\n    },\n    {\n        'id': 'xxmix9real',\n        'name': 'XXMix 9realistic SDXL',\n        'variants': [\n          {\n            'version': 'v1',\n            'url': 'https://huggingface.co/Remilistrasza/XXMix_9realisticSDXL/resolve/main/xxmix9realisticsdxl_v10.safetensors'\n          }\n        ]\n    }\n]\n\n\n########################################################################################################\n############################################## LORA ####################################################\n\ndefaultLoraList = [\n    {\n        'name': 'Detail Tweaker XL',\n        'url': 'https://huggingface.co/ffxvs/lora-effects-xl/resolve/main/detail_tweaker_xl.safetensors',\n    }\n]\n\nloraList = [\n    {\n        'id': 'blurXL',\n        'name': 'Blur SDXL',\n        'url': ['https://huggingface.co/ffxvs/lora-effects-xl/resolve/main/blur_sdxl.safetensors'],\n    },\n    {\n        'id': 'detailEyes',\n        'name': 'DetailedEyes XL',\n        'url': ['https://huggingface.co/ffxvs/lora-effects-xl/resolve/main/detailedEyes_v3.safetensors'],\n    },\n    {\n        'id': 'lcmXL',\n        'name': 'LCM Lora SDXL',\n        'url': ['https://huggingface.co/ffxvs/lora-effects-xl/resolve/main/xl_more_art-full_v1.safetensors'],\n    },\n    {\n        'id': 'lcmTurbo',\n        'name': 'LCM&TurboMix',\n        'url': [\n            'https://huggingface.co/ffxvs/lora-effects-xl/resolve/main/LCMTurboMix_DPM_SDE_Karras.safetensors',\n            'https://huggingface.co/ffxvs/lora-effects-xl/resolve/main/LCMTurboMix_Euler_A_fix.safetensors',\n            'https://huggingface.co/ffxvs/lora-effects-xl/resolve/main/LCMTurboMix_LCM_Sampler.safetensors'\n        ]\n    },\n    {\n        'id': 'handsXL',\n        'name': 'Hands XL',\n        'url': ['https://huggingface.co/ffxvs/lora-effects-xl/resolve/main/hands_xl_v21.safetensors']\n    },\n    {\n        'id': 'moreArt',\n        'name': 'XL More Art Full',\n        'url': ['https://huggingface.co/ffxvs/lora-effects-xl/resolve/main/xl_more_art-full_v1.safetensors']\n    }\n    \n]\n\n\n################################### EMBEDDINGS (TEXTUAL INVERSION) ####################################\n\ndefaultEmbeddingList = [\n    {\n        'name': 'Negative prompts pack XL',\n        'url': 'https://huggingface.co/ffxvs/negative-prompts-pack-xl',\n    },\n    {\n        'name': 'Embeddings Collection XL',\n        'url': 'https://huggingface.co/ffxvs/embeddings-collection-xl',\n    }\n]\n\n############################################## UPSCALER ##############################################\n\ndefaultUpscalerList = [\n    {\n        'name': 'UltraSharp',\n        'url': 'https://huggingface.co/ffxvs/upscaler/resolve/main/UltraSharp_4x.pth',\n    },\n]\n\nupscalerList = [\n    {\n        'id': 'bsrgan',\n        'name': 'BSRGAN',\n        'url': ['https://huggingface.co/ffxvs/upscaler/resolve/main/BSRGAN_4x.pth'],\n    },\n    {\n        'id': 'lsdirPlus',\n        'name': 'LSDIRPlus',\n        'url': ['https://huggingface.co/ffxvs/upscaler/resolve/main/LSDIRplus_4x.pth'],\n    },\n    {\n        'id': 'nomos8ksc',\n        'name': 'Nomos8kSC',\n        'url': ['https://huggingface.co/ffxvs/upscaler/resolve/main/Nomos8kSC_4x.pth'],\n    },\n    {\n        'id': 'superscale',\n        'name': 'NMKD Superscale',\n        'url': ['https://huggingface.co/ffxvs/upscaler/resolve/main/NMKD_Superscale_4x.pth'],\n    },\n    {\n        'id': 'remacri',\n        'name': 'Remacri',\n        'url': ['https://huggingface.co/ffxvs/upscaler/resolve/main/Remacri_4x.pth'],\n    },\n    {\n        'id': 'ultraMix',\n        'name': 'UltraMix',\n        'url': [\n            'https://huggingface.co/ffxvs/upscaler/resolve/main/UltraMix_Balanced_4x.pth',\n            'https://huggingface.co/ffxvs/upscaler/resolve/main/UltraMix_Restore_4x.pth',\n            'https://huggingface.co/ffxvs/upscaler/resolve/main/UltraMix_Smooth_4x.pth'\n        ],\n    },\n    {\n        'id': 'valar',\n        'name': 'Valar',\n        'url': ['https://huggingface.co/ffxvs/upscaler/resolve/main/Valar_4x.pth'],\n    },\n]\n\n\n############################################## VAE ##############################################\n\ndefaultVaeList = [\n    {\n        'name': 'sdxl-vae-fp16-fix',\n        'url': 'https://huggingface.co/ffxvs/vae-collection-xl/resolve/main/sdxl-vae-fp16-fix.safetensors',\n    }\n]\n\ninf('\\u2714 Completed','success', '30px')",
      "metadata": {
        "tags": []
      },
      "outputs": [],
      "execution_count": null
    },
    {
      "cell_type": "markdown",
      "source": "### 1.2. Dependencies\n**REQUIRED EVERY TIME YOU START THE MACHINE**",
      "metadata": {
        "jp-MarkdownHeadingCollapsed": true,
        "tags": []
      }
    },
    {
      "cell_type": "code",
      "source": "print('⏳ Installing dependencies...')\nos.chdir(root)\n\nwith capture.capture_output() as cap:\n    !apt -y -q update\n    !apt -y -q install aria2 git-lfs gcc g++ google-perftools\n    !pip install -q torch==2.1.2 torchvision==0.16.2 torchaudio==2.1.2 --index-url https://download.pytorch.org/whl/cu121\n    !pip install -q xformers==0.0.23.post1 ngrok onnxruntime-gpu insightface\n\nprint('\\n')\ninf('\\u2714 Completed','success', '30px')",
      "metadata": {
        "cellView": "form",
        "id": "gJBtadxGOK7b",
        "tags": []
      },
      "outputs": [],
      "execution_count": null
    },
    {
      "cell_type": "markdown",
      "source": "### 1.3. Shared Storage\n**Only needs to be run once on the first installation**",
      "metadata": {
        "jp-MarkdownHeadingCollapsed": true,
        "tags": []
      }
    },
    {
      "cell_type": "code",
      "source": "print('⏳ Creating shared storage directory...')\n# Make shared storage symlink\nos.chdir('/')\nsymlink('/storage', sharedStorage)\n\n# Make necessary folders in shared storage if not exists\nos.chdir(sharedStorage)\n!mkdir -p {sharedModelsPath}/sdxl\n!mkdir -p {sharedEmbeddingsPath}/sdxl\n!mkdir -p {sharedLoraPath}/sdxl\n!mkdir -p {sharedUpscalerPath}\n!mkdir -p {sharedVaePath}/sdxl\n!mkdir -p {sharedControlNetModelsPath}/sdxl\n!mkdir -p {sharedOutputsPath}\n!mkdir -p {sharedConfigPath}\n\nos.chdir(root)\nprint('\\n')\ninf('\\u2714 Completed','success', '30px')",
      "metadata": {},
      "outputs": [],
      "execution_count": null
    },
    {
      "cell_type": "markdown",
      "source": "# 2. Setup Webui",
      "metadata": {
        "id": "BCo7mSOWe2ub",
        "tags": []
      }
    },
    {
      "cell_type": "markdown",
      "source": "### 2.1. Webui",
      "metadata": {
        "jp-MarkdownHeadingCollapsed": true,
        "tags": []
      }
    },
    {
      "cell_type": "code",
      "source": "# Update Webui\nupdateWebui = boolean[0]\n\n\n################################################################################################################\n\nos.chdir(root)\nprint('⏳ Installing Stable Diffusion Webui Forge...')\nsilentClone('https://github.com/lllyasviel/stable-diffusion-webui-forge', root, updateWebui)\nos.chdir(webui)\n\n# Download configs\nif not os.path.exists(f'{sharedConfigPath}/config.json'):\n    downloader('https://raw.githubusercontent.com/ffxvs/sd-webui-complete-setup/main/configs/config.json', sharedConfigPath)\nif not os.path.exists(f'{sharedConfigPath}/ui-config.json'):\n    downloader('https://raw.githubusercontent.com/ffxvs/sd-webui-complete-setup/main/configs/ui-config.json', sharedConfigPath)\n\n# Make symlinks from shared storage\nsymlink(sharedModelsPath, modelsPath)\nsymlink(sharedLoraPath, loraPath)\nsymlink(sharedEmbeddingsPath, embeddingsPath)\nsymlink(sharedUpscalerPath, upscalerPath)\nsymlink(sharedVaePath, vaePath)\nsymlink(sharedControlNetModelsPath, controlNetModelsPath)\nsymlink(sharedOutputsPath, outputsPath)\nsymlink(f'{sharedConfigPath}/config.json', f'{webui}/config.json')\nsymlink(f'{sharedConfigPath}/ui-config.json', f'{webui}/ui-config.json')\n\nprint('\\n')\ninf('\\u2714 Completed','success', '30px')",
      "metadata": {
        "tags": []
      },
      "outputs": [],
      "execution_count": null
    },
    {
      "cell_type": "markdown",
      "source": "### 2.2. Extensions",
      "metadata": {
        "id": "hJK6ToaX8g5r",
        "tags": []
      }
    },
    {
      "cell_type": "markdown",
      "source": "#### Extension List",
      "metadata": {
        "jp-MarkdownHeadingCollapsed": true,
        "tags": [],
        "toc-hr-collapsed": true
      }
    },
    {
      "cell_type": "markdown",
      "source": "**Pre-Installed Extensions :** \n\n* [Aspect Ratio Helper](https://github.com/thomasasfk/sd-webui-aspect-ratio-helper)\n* [Canvas Zoom](https://github.com/richrobber2/canvas-zoom)\n* [Cleaner](https://github.com/novitalabs/sd-webui-cleaner)\n* [Controlnet](https://github.com/Mikubill/sd-webui-controlnet)\n* [SD Delete Button](https://github.com/reforget-id/sd_delete_button)\n* [SD Model Downloader](https://github.com/Iyashinouta/sd-model-downloader)\n* [State](https://github.com/ilian6806/stable-diffusion-webui-state)\n* [Ultimate SD Upscale](https://github.com/Coyote-A/ultimate-upscale-for-automatic1111)",
      "metadata": {}
    },
    {
      "cell_type": "code",
      "source": "# UPDATE EXTENSIONS\nupdateExts = boolean[0]\n\n# ControlNet - https://github.com/Mikubill/sd-webui-controlnet\nallControlNet = boolean[0] # Download all controlNet models (The total size will be very large)\n\ncontrolNet = {  # Select models to download \n                # Default models are : depth, ip-adapter, openpose\n    'blur': boolean[0],\n    'blur_anime': boolean[0],\n    'canny': boolean[0],\n    'canny_anime': boolean[0],\n    'depth': boolean[0],\n    'depth_anime': boolean[0],\n    'ipadapter': boolean[1],\n    'lineart': boolean[0],\n    'openpose': boolean[0],\n    'openpose_anime': boolean[0],\n    'recolor': boolean[0],\n    'scribble_anime': boolean[0],\n    'sketch': boolean[0],\n    'softedge': boolean[0],\n}\n\n# Adetailer (After Detailer) - https://github.com/Bing-su/adetailer\nadetailer = boolean[1]\n\n# AnimateDiff - https://github.com/continue-revolution/sd-webui-animatediff\nanimateDiff = boolean[0]\n\n# BMAB - https://github.com/portu-sim/sd-webui-bmab\nbmab = boolean[1]\n\n# Depth Map Library - https://github.com/wywywywy/sd-webui-depth-lib\ndepthLib = boolean[0]\n\n# Hugging Face - https://github.com/camenduru/stable-diffusion-webui-huggingface\nhuggingFace = boolean[0]\n\n# Infinite Image Browsing - https://github.com/zanllp/sd-webui-infinite-image-browsing\ninfiniteImg = boolean[1]\n\n# Inpaint Anything - https://github.com/Uminosachi/sd-webui-inpaint-anything\ninpaintAny = boolean[0]\n\n# Latent Couple - https://github.com/aria1th/stable-diffusion-webui-two-shot\nlatentCouple = boolean[0]\n\n# Mini Paint - https://github.com/0Tick/a1111-mini-paint\nminiPaint = boolean[1]\n\n# Negative Prompt Weight - https://github.com/muerrilla/stable-diffusion-NPW\nnpw = boolean[0]\n\n# openOutpaint - https://github.com/zero01101/openOutpaint-webUI-extension\nopenOutpaint = boolean[0]\n\n# Photopea - https://github.com/yankooliveira/sd-webui-photopea-embed\nphotopea = boolean[1]\n\n# Prompt History - https://github.com/namkazt/sd-webui-prompt-history\npromptHistory = boolean[1]\n\n# Regional Prompter - https://github.com/hako-mikan/sd-webui-regional-prompter\nregionalPrompter = boolean[0]\n\n# Remove Background - https://github.com/AUTOMATIC1111/stable-diffusion-webui-rembg\nrembg = boolean[0]\n\n# Self Attention Guidance - https://github.com/ashen-sensored/sd_webui_SAG\nsag = boolean[0]\n\n# Style Selector XL - https://github.com/ahgsql/StyleSelectorXL\nstyleXL = boolean[0]\n\n# Tag Autocomplete - https://github.com/DominikDoom/a1111-sd-webui-tagcomplete\ntagComplete = boolean[1]\n\n\n################################################################################################################\n\n\nprint(\"⏳ Installing pre-installed extensions...\")\nfor extension in defaultExtensions:\n    print(extension['name'] + '...')\n    silentClone(extension['url'], extensionsPath, updateExts)\n\nprint(\"\\n⏳ Installing selected extensions...\")\nfor extension in extensionList:\n    if eval(extension['id']):\n        print(extension['name'] + '...')\n        silentClone(extension['url'], extensionsPath, updateExts)\n\nif allControlNet:\n    print(\"\\n⏳ Download all acontrolNet models...\")\n    for model in controlNetURLs:\n        print('\\n' + model + '...')\n        downloader(controlNetURLs[model][0], f'{controlNetModelsPath}/sdxl')\nelse:\n    print(\"\\n⏳ Download selected controlNet models...\")\n    for model in controlNet:\n        if controlNet[model]:\n            print('\\n' + model + '...')\n            downloader(controlNetURLs[model][0], f'{controlNetModelsPath}/sdxl')        \n\nprint('\\n')        \n%cd {webui}\nprint('\\n')\ninf('\\u2714 Completed','success', '30px')",
      "metadata": {
        "cellView": "form",
        "id": "xMBgRe6M6pr0",
        "tags": []
      },
      "outputs": [],
      "execution_count": null
    },
    {
      "cell_type": "markdown",
      "source": "#### Install from URL",
      "metadata": {
        "jp-MarkdownHeadingCollapsed": true,
        "tags": []
      }
    },
    {
      "cell_type": "code",
      "source": "# UPDATE EXTENSIONS\nupdateExts = boolean[0]\n\n# Install extensions from URL\notherExtensions = []\n\nif otherExtensions:\n    print(\"⏳ Installing extensions...\")  \n    for extension in otherExtensions:\n        name = extension.split('/')[-1]\n        print(name + '...')\n        silentClone(extension, extensionsPath, updateExts)\n\nprint('\\n')        \n%cd {webui}\nprint('\\n')\ninf('\\u2714 Completed','success', '30px')",
      "metadata": {
        "tags": []
      },
      "outputs": [],
      "execution_count": null
    },
    {
      "cell_type": "markdown",
      "source": "# 3. Launch Webui\n\nWait until `Model loaded in **.*s ...` appears.  \nThen, click Gradio link `https://xxxxx.gradio.live` or Ngrok link `https://xxxxx.ngrok-free.app` to open WebUI.  \nAlways watch the output log to track image generation progress or errors. ",
      "metadata": {
        "id": "AWfpRnLwfxVf",
        "tags": [],
        "jp-MarkdownHeadingCollapsed": true
      }
    },
    {
      "cell_type": "code",
      "source": "boolean = [False, True]\n\n# Dark theme\ndarkTheme = boolean[1]\n\n# Optimizations\n# For \"opt-sdp-attention\" and \"opt-sdp-no-mem-attention\" set directly from webui settings\nxformers = boolean[1]\n\n# Ngrok (Optional)\nngrokToken = ''\nngrokDomain = ''\n\n# CORS (Optional) \n# separate with commas\ncors = 'https://huchenlei.github.io'\n\n\n################################################################################################################\n\nimport json \n%cd {webui}\nprint('⏳ Preparing...')\nprint('It will take a little longer for the first time...')\nargs = '--disable-safe-unpickle --enable-insecure-extension-access --gradio-queue --api --listen'\n\nif darkTheme:\n    args += ' --theme dark'\nif xformers:\n    args += ' --xformers'\nif ngrokToken:\n    args += ' --ngrok ' + ngrokToken\n    if ngrokDomain:\n        ngrokOptions = '\\'{\"hostname\":\"' + ngrokDomain + '\", \"request_header.add\":\"ngrok-skip-browser-warning:skip\"}\\''\n        args += ' --ngrok-options ' + ngrokOptions\nelse:\n    args += ' --share'\nif cors:\n    args += ' --cors-allow-origins ' + cors\n\naccel = 'launch --num_cpu_threads_per_process=6'\nwith capture.capture_output() as cap:\n    !accelerate {accel} launch.py --exit \n    !pip install -q pillow==9.5.0\n\nprint('Launching Webui...')\n!accelerate {accel} webui.py {args}",
      "metadata": {
        "cellView": "form",
        "id": "V2Qh24u058h-",
        "tags": []
      },
      "outputs": [],
      "execution_count": null
    }
  ]
}