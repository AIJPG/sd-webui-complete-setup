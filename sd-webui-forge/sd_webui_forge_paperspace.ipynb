{
 "cells": [
  {
   "cell_type": "markdown",
   "metadata": {},
   "source": [
    "## Stable Diffusion Web UI Forge\n",
    "\n",
    "**Homepage :** [SD Web UI Complete setup](https://github.com/ffxvs/sd-webui-complete-setup)  \n",
    "**Guide :** [Paperspace Guide](https://github.com/ffxvs/sd-webui-complete-setup/wiki/Paperspace-Guide)"
   ]
  },
  {
   "cell_type": "markdown",
   "metadata": {
    "id": "AcADZumt8rYd",
    "tags": []
   },
   "source": [
    "## 1. Requirements"
   ]
  },
  {
   "cell_type": "markdown",
   "metadata": {
    "tags": []
   },
   "source": [
    "### 1.1. Initialization\n",
    "**REQUIRED EVERY TIME YOU START THE MACHINE**"
   ]
  },
  {
   "cell_type": "code",
   "execution_count": null,
   "metadata": {
    "tags": []
   },
   "outputs": [],
   "source": [
    "import os\n",
    "os.chdir('/')\n",
    "from internal.main import *\n",
    "\n",
    "initialization_forge()"
   ]
  },
  {
   "cell_type": "markdown",
   "metadata": {
    "collapsed": false,
    "jp-MarkdownHeadingCollapsed": true
   },
   "source": [
    "### 1.2. Temporary Storage (Optional)"
   ]
  },
  {
   "cell_type": "code",
   "execution_count": null,
   "metadata": {
    "collapsed": false
   },
   "outputs": [],
   "source": [
    "temp.sd15_models = False\n",
    "temp.sd15_lora = False\n",
    "temp.sd15_controlnet = False\n",
    "\n",
    "temp.sdxl_models = False\n",
    "temp.sdxl_lora  = False\n",
    "temp.sdxl_controlnet = False\n",
    "\n",
    "temp.flux_models = False\n",
    "temp.flux_lora = False\n",
    "temp.flux_controlnet = False\n",
    "temp.flux_text_encoder = False\n",
    "\n",
    "temp.cn_preprocessor = True\n",
    "\n",
    "\n",
    "#########################################################################################################\n",
    "\n",
    "temp_storage_symlinks(temp)\n",
    "shared_storage_symlinks()\n",
    "completed_message()"
   ]
  },
  {
   "cell_type": "markdown",
   "metadata": {
    "id": "BCo7mSOWe2ub",
    "tags": []
   },
   "source": [
    "## 2. Web UI Extensions\n",
    "Since the new version of Forge, almost extensions are broken.  \n",
    "If you find any broken extensions, please report them to me on GitHub."
   ]
  },
  {
   "cell_type": "markdown",
   "metadata": {
    "jp-MarkdownHeadingCollapsed": true
   },
   "source": [
    "#### • Built-in Extensions\n",
    "This is an information cell.  \n",
    "To install/update these extensions, run the `Extension List` cell below."
   ]
  },
  {
   "cell_type": "markdown",
   "metadata": {},
   "source": [
    "* [Aspect Ratio and Resolution Buttons](https://github.com/thomasasfk/sd-webui-aspect-ratio-helper)\n",
    "* [img2img Hires Fix](https://github.com/Amadeus-AI/img2img-hires-fix)\n",
    "* [Infinite Image Browsing](https://github.com/zanllp/sd-webui-infinite-image-browsing)\n",
    "* [SD Delete Button](https://github.com/reforget-id/sd_delete_button)\n",
    "* [State](https://github.com/ilian6806/stable-diffusion-webui-state)\n",
    "* [Ultimate SD Upscale](https://github.com/Coyote-A/ultimate-upscale-for-automatic1111)"
   ]
  },
  {
   "cell_type": "markdown",
   "metadata": {
    "tags": [],
    "toc-hr-collapsed": true
   },
   "source": [
    "#### • Extension List\n",
    "Run the cell below to display the extension list"
   ]
  },
  {
   "cell_type": "code",
   "execution_count": null,
   "metadata": {
    "cellView": "form",
    "id": "xMBgRe6M6pr0",
    "tags": []
   },
   "outputs": [],
   "source": [
    "extensions_selection(builtin_exts_forge_url, extensions_forge_url)\n",
    "os.chdir(webui_path)\n"
   ]
  },
  {
   "cell_type": "markdown",
   "metadata": {
    "jp-MarkdownHeadingCollapsed": true,
    "tags": []
   },
   "source": [
    "#### • Install from URLs"
   ]
  },
  {
   "cell_type": "code",
   "execution_count": null,
   "metadata": {
    "tags": []
   },
   "outputs": [],
   "source": [
    "# UPDATE EXTENSIONS\n",
    "update_exts = False\n",
    "\n",
    "# Install extensions from URL\n",
    "other_exts = []\n",
    "\n",
    "\n",
    "#########################################################################################################\n",
    "\n",
    "install_other_exts(other_exts, update_exts)\n",
    "os.chdir(webui_path)\n",
    "completed_message()"
   ]
  },
  {
   "cell_type": "markdown",
   "metadata": {
    "id": "AWfpRnLwfxVf",
    "tags": []
   },
   "source": [
    "## 3. Launch Web UI\n",
    "**Before running this cell**, download models using `sd15_resource_lists.ipynb` or `sdxl_resource_lists.ipynb` or `flux_resource_lists.ipynb`.  \n",
    "Run this cell and wait until `Startup time:  *.*s ...` appears.  \n",
    "Then, click link `https://tensorboard-xxxxx.paperspacegradient.com` or ngrok link `https://xxxxx.ngrok-free.app` to open Web UI.  \n",
    "Always watch the output log to track image generation progress or errors. "
   ]
  },
  {
   "cell_type": "code",
   "execution_count": null,
   "metadata": {
    "cellView": "form",
    "id": "V2Qh24u058h-",
    "tags": []
   },
   "outputs": [],
   "source": [
    "# Dark theme\n",
    "webUI.dark_theme = True\n",
    "\n",
    "# Authentication (Recommended for security purposes)\n",
    "webUI.username = ''\n",
    "webUI.password = ''\n",
    "\n",
    "# Ngrok (Optional) \n",
    "# Some users reported that using ngrok can get you banned. So, this option will be disabled temporarily. \n",
    "# If you want to take the risk or have never had problems with ngrok before, you can remove the hashtags.\n",
    "# webUI.ngrok_token = ''\n",
    "# webUI.ngrok_domain = ''\n",
    "\n",
    "# CORS (Optional) \n",
    "# separate with commas\n",
    "webUI.cors = 'https://huchenlei.github.io'\n",
    "\n",
    "\n",
    "#########################################################################################################\n",
    "webUI.platform = paperspace\n",
    "launch_webui(webUI)"
   ]
  }
 ],
 "metadata": {
  "kernelspec": {
   "display_name": "Python 3 (ipykernel)",
   "language": "python",
   "name": "python3"
  },
  "language_info": {
   "codemirror_mode": {
    "name": "ipython",
    "version": 3
   },
   "file_extension": ".py",
   "mimetype": "text/x-python",
   "name": "python",
   "nbconvert_exporter": "python",
   "pygments_lexer": "ipython3",
   "version": "3.12.1"
  },
  "notebook_version": "2024.09.09"
 },
 "nbformat": 4,
 "nbformat_minor": 4
}
