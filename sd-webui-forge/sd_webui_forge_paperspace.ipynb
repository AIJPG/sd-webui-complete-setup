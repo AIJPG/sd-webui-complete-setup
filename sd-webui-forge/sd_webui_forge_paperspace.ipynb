{
 "cells": [
  {
   "cell_type": "markdown",
   "metadata": {},
   "source": [
    "## Stable Diffusion WebUI Forge\n",
    "\n",
    "**Homepage :** [SD WebUI Complete Setup](https://github.com/ffxvs/sd-webui-complete-setup)  \n",
    "**Guide :** [WebUI Guide](https://github.com/ffxvs/sd-webui-complete-setup/wiki/WebUI-Guide)  \n",
    "\n",
    "**Buy me a coffee**\n",
    "<br>\n",
    "<a href=\"https://sociabuzz.com/ffxvs/tribe\" target=\"_blank\">\n",
    "    <img src=\"https://storage.sociabuzz.com/storage/landingpage/img/sociabuzz-logo.png\" height=\"30px\" style=\"border:0;height:30px;\">\n",
    "</a>\n",
    "\n",
    "## [Update 2024.10.15 Announcement](https://github.com/ffxvs/sd-webui-complete-setup/discussions/22)\n",
    "<br>"
   ]
  },
  {
   "cell_type": "markdown",
   "metadata": {
    "id": "AcADZumt8rYd",
    "tags": []
   },
   "source": [
    "## 1. Requirements"
   ]
  },
  {
   "cell_type": "markdown",
   "metadata": {
    "tags": []
   },
   "source": [
    "### 1.1. Initialization\n",
    "**REQUIRED EVERY TIME YOU START THE MACHINE**"
   ]
  },
  {
   "cell_type": "code",
   "execution_count": null,
   "metadata": {
    "tags": []
   },
   "outputs": [],
   "source": [
    "import os\n",
    "os.chdir('/')\n",
    "from internal.main import *\n",
    "\n",
    "initialization()"
   ]
  },
  {
   "cell_type": "markdown",
   "metadata": {},
   "source": [
    "### 1.2. WebUI Settings\n",
    "\n",
    "[See guide for more details](https://github.com/ffxvs/sd-webui-complete-setup/wiki/WebUI-Guide#11-initialization)"
   ]
  },
  {
   "cell_type": "code",
   "execution_count": null,
   "metadata": {},
   "outputs": [],
   "source": [
    "# Manage API Keys, ngrok, custom configs and auto update\n",
    "webui_settings()\n"
   ]
  },
  {
   "cell_type": "markdown",
   "metadata": {
    "collapsed": false,
    "jupyter": {
     "outputs_hidden": false
    }
   },
   "source": [
    "### 1.3. Temporary Storage Settings (Optional)\n",
    "\n",
    "Store files in the temporary storage. Settings will persist even if the machine is restarted."
   ]
  },
  {
   "cell_type": "code",
   "execution_count": null,
   "metadata": {
    "collapsed": false,
    "jupyter": {
     "outputs_hidden": false
    }
   },
   "outputs": [],
   "source": [
    "# When turning on/off the settings, all files in the associated directory will be deleted.\n",
    "# So you need to download them again.\n",
    "\n",
    "temp_storage_settings()"
   ]
  },
  {
   "cell_type": "markdown",
   "metadata": {
    "id": "BCo7mSOWe2ub",
    "tags": []
   },
   "source": [
    "## 2. WebUI Extensions\n",
    "Since the new version of Forge, almost extensions are broken.  \n",
    "If you find any broken extensions, please report them to me on GitHub."
   ]
  },
  {
   "cell_type": "markdown",
   "metadata": {
    "jp-MarkdownHeadingCollapsed": true
   },
   "source": [
    "#### • Built-in Extensions\n",
    "This is an information cell.  \n",
    "To install/update these extensions, run the `Extension List` cell below."
   ]
  },
  {
   "cell_type": "markdown",
   "metadata": {},
   "source": [
    "* [Aspect Ratio and Resolution Buttons](https://github.com/thomasasfk/sd-webui-aspect-ratio-helper)\n",
    "* [img2img Hires Fix](https://github.com/Amadeus-AI/img2img-hires-fix)\n",
    "* [Infinite Image Browsing](https://github.com/zanllp/sd-webui-infinite-image-browsing)\n",
    "* [SD Delete Button](https://github.com/reforget-id/sd_delete_button)\n",
    "* [State](https://github.com/ilian6806/stable-diffusion-webui-state)\n",
    "* [Ultimate SD Upscale](https://github.com/Coyote-A/ultimate-upscale-for-automatic1111)"
   ]
  },
  {
   "cell_type": "markdown",
   "metadata": {
    "tags": [],
    "toc-hr-collapsed": true
   },
   "source": [
    "#### • Extension List\n",
    "Run the cell below to display the extension list"
   ]
  },
  {
   "cell_type": "code",
   "execution_count": null,
   "metadata": {
    "cellView": "form",
    "id": "xMBgRe6M6pr0",
    "tags": []
   },
   "outputs": [],
   "source": [
    "extensions_selection(builtin_exts_forge_url, extensions_forge_url)\n",
    "os.chdir(webui_path)\n"
   ]
  },
  {
   "cell_type": "markdown",
   "metadata": {
    "jp-MarkdownHeadingCollapsed": true,
    "tags": []
   },
   "source": [
    "#### • Install from URLs"
   ]
  },
  {
   "cell_type": "code",
   "execution_count": null,
   "metadata": {
    "tags": []
   },
   "outputs": [],
   "source": [
    "# UPDATE EXTENSIONS\n",
    "update_exts = False\n",
    "\n",
    "# Install extensions from URL\n",
    "other_exts = []\n",
    "\n",
    "\n",
    "#########################################################################################################\n",
    "\n",
    "install_other_exts(other_exts, update_exts)\n",
    "os.chdir(webui_path)\n",
    "completed_message()"
   ]
  },
  {
   "cell_type": "markdown",
   "metadata": {
    "id": "AWfpRnLwfxVf",
    "tags": []
   },
   "source": [
    "## 3. Launch WebUI\n",
    "**Before running this cell**, download models using `sd15_resource_lists.ipynb` or `sdxl_resource_lists.ipynb` or `flux_resource_lists.ipynb`.  \n",
    "Run this cell and wait until `Startup time:  *.*s ...` appears.  \n",
    "Then, click link `https://tensorboard-xxxxx.paperspacegradient.com` or ngrok link `https://xxxxx.ngrok-free.app` to open WebUI.  \n",
    "Always watch the output log to track image generation progress or errors. "
   ]
  },
  {
   "cell_type": "code",
   "execution_count": null,
   "metadata": {
    "cellView": "form",
    "id": "V2Qh24u058h-",
    "tags": []
   },
   "outputs": [],
   "source": [
    "# Authentication (Recommended for security purposes)\n",
    "webUI.username = ''\n",
    "webUI.password = ''\n",
    "\n",
    "# CORS (Optional) \n",
    "# separate with commas\n",
    "webUI.cors = 'https://huchenlei.github.io'\n",
    "\n",
    "\n",
    "#########################################################################################################\n",
    "launch_webui(webUI)"
   ]
  }
 ],
 "metadata": {
  "kernelspec": {
   "display_name": "Python 3 (ipykernel)",
   "language": "python",
   "name": "python3"
  },
  "language_info": {
   "codemirror_mode": {
    "name": "ipython",
    "version": 3
   },
   "file_extension": ".py",
   "mimetype": "text/x-python",
   "name": "python",
   "nbconvert_exporter": "python",
   "pygments_lexer": "ipython3",
   "version": "3.10.11"
  },
  "notebook_version": "2024.10.15"
 },
 "nbformat": 4,
 "nbformat_minor": 4
}
