{
 "cells": [
  {
   "cell_type": "markdown",
   "metadata": {},
   "source": [
    "## Stable Diffusion Web UI Forge\n",
    "\n",
    "**Homepage :** [SD Web UI Complete setup](https://github.com/ffxvs/sd-webui-complete-setup)  \n",
    "**Guide :** [Runpod Guide](https://github.com/ffxvs/sd-webui-complete-setup/wiki/Runpod-Guide)"
   ]
  },
  {
   "cell_type": "markdown",
   "metadata": {
    "id": "AcADZumt8rYd",
    "tags": []
   },
   "source": [
    "## 1. Requirements"
   ]
  },
  {
   "cell_type": "markdown",
   "metadata": {
    "jp-MarkdownHeadingCollapsed": true,
    "tags": []
   },
   "source": [
    "### 1.1. Initialization\n",
    "**REQUIRED EVERY TIME YOU START THE POD**"
   ]
  },
  {
   "cell_type": "code",
   "execution_count": null,
   "metadata": {
    "ExecuteTime": {
     "end_time": "2024-08-26T17:58:17.547979200Z",
     "start_time": "2024-08-26T17:58:17.132008100Z"
    }
   },
   "outputs": [],
   "source": [
    "import sys, os\n",
    "sys.path.append(os.path.abspath('/internal'))\n",
    "from ..internal.main import *\n",
    "\n",
    "initialization_forge()"
   ]
  },
  {
   "cell_type": "markdown",
   "metadata": {
    "id": "BCo7mSOWe2ub",
    "tags": []
   },
   "source": [
    "## 2. Setup Web UI"
   ]
  },
  {
   "cell_type": "markdown",
   "metadata": {
    "id": "hJK6ToaX8g5r",
    "tags": []
   },
   "source": [
    "### 2.1. Extensions\n",
    "Since this is a fork of Stable Diffusion Web UI, some extensions might not work properly.  \n",
    "If you find any extension error, please report it to me on github."
   ]
  },
  {
   "cell_type": "markdown",
   "metadata": {
    "jp-MarkdownHeadingCollapsed": true
   },
   "source": [
    "#### • Built-in Extensions\n",
    "**This is just for information. No need to run this cell.**"
   ]
  },
  {
   "cell_type": "markdown",
   "metadata": {},
   "source": [
    "* [Aspect Ratio Helper](https://github.com/thomasasfk/sd-webui-aspect-ratio-helper)\n",
    "* [Canvas Zoom](https://github.com/richrobber2/canvas-zoom)\n",
    "* [Cleaner](https://github.com/novitalabs/sd-webui-cleaner)\n",
    "* [Infinite Image Browsing](https://github.com/zanllp/sd-webui-infinite-image-browsing)\n",
    "* [SD Delete Button](https://github.com/reforget-id/sd_delete_button)\n",
    "* [State](https://github.com/ilian6806/stable-diffusion-webui-state)\n",
    "* [Ultimate SD Upscale](https://github.com/Coyote-A/ultimate-upscale-for-automatic1111)"
   ]
  },
  {
   "cell_type": "markdown",
   "metadata": {
    "jp-MarkdownHeadingCollapsed": true,
    "tags": [],
    "toc-hr-collapsed": true
   },
   "source": [
    "#### • Extension List"
   ]
  },
  {
   "cell_type": "code",
   "execution_count": null,
   "metadata": {
    "cellView": "form",
    "id": "xMBgRe6M6pr0",
    "tags": []
   },
   "outputs": [],
   "source": [
    "# UPDATE EXTENSIONS\n",
    "update_exts = boolean[0]\n",
    "\n",
    "# Adetailer (After Detailer) - https://github.com/Bing-su/adetailer\n",
    "adetailer = boolean[1]\n",
    "\n",
    "# AnimateDiff - https://github.com/continue-revolution/sd-webui-animatediff\n",
    "animateDiff = boolean[0]\n",
    "\n",
    "# BMAB - https://github.com/portu-sim/sd-webui-bmab\n",
    "bmab = boolean[0]\n",
    "\n",
    "# Depth Map Library - https://github.com/wywywywy/sd-webui-depth-lib\n",
    "depthLib = boolean[0]\n",
    "\n",
    "# Hugging Face - https://github.com/camenduru/stable-diffusion-webui-huggingface\n",
    "huggingFace = boolean[0]\n",
    "\n",
    "# Inpaint Anything - https://github.com/Uminosachi/sd-webui-inpaint-anything\n",
    "inpaintAny = boolean[0]\n",
    "\n",
    "# Latent Couple - https://github.com/aria1th/stable-diffusion-webui-two-shot\n",
    "latentCouple = boolean[0]\n",
    "\n",
    "# Mini Paint - https://github.com/0Tick/a1111-mini-paint\n",
    "miniPaint = boolean[1]\n",
    "\n",
    "# SD Model Downloader - https://github.com/Iyashinouta/sd-model-downloader\n",
    "modelDownloader = boolean[0]\n",
    "\n",
    "# Negative Prompt Weight - https://github.com/muerrilla/stable-diffusion-NPW\n",
    "npw = boolean[0]\n",
    "\n",
    "# openOutpaint - https://github.com/zero01101/openOutpaint-webUI-extension\n",
    "openOutpaint = boolean[0]\n",
    "\n",
    "# Photopea - https://github.com/yankooliveira/sd-webui-photopea-embed\n",
    "photopea = boolean[1]\n",
    "\n",
    "# Prompt History - https://github.com/namkazt/sd-webui-prompt-history\n",
    "promptHistory = boolean[0]\n",
    "\n",
    "# Regional Prompter - https://github.com/hako-mikan/sd-webui-regional-prompter\n",
    "regionalPrompter = boolean[0]\n",
    "\n",
    "# Remove Background - https://github.com/AUTOMATIC1111/stable-diffusion-webui-rembg\n",
    "rembg = boolean[0]\n",
    "\n",
    "# Style Selector XL - https://github.com/ahgsql/StyleSelectorXL\n",
    "styleXL = boolean[0]\n",
    "\n",
    "# Tag Autocomplete - https://github.com/DominikDoom/a1111-sd-webui-tagcomplete\n",
    "tagComplete = boolean[1]\n",
    "\n",
    "\n",
    "################################################################################################################\n",
    "\n",
    "download_default_exts(update_exts)\n",
    "download_exts(update_exts)\n",
    "os.chdir(webui)\n",
    "completed_message()"
   ]
  },
  {
   "cell_type": "markdown",
   "metadata": {
    "jp-MarkdownHeadingCollapsed": true,
    "tags": []
   },
   "source": [
    "#### • Install from URLs"
   ]
  },
  {
   "cell_type": "code",
   "execution_count": null,
   "metadata": {
    "tags": []
   },
   "outputs": [],
   "source": [
    "# UPDATE EXTENSIONS\n",
    "update_exts = boolean[0]\n",
    "\n",
    "# Install extensions from URL\n",
    "other_exts = []\n",
    "\n",
    "\n",
    "################################################################################################################\n",
    "\n",
    "download_other_exts(other_exts, update_exts)\n",
    "os.chdir(webui)\n",
    "completed_message()"
   ]
  },
  {
   "cell_type": "markdown",
   "metadata": {
    "id": "AWfpRnLwfxVf",
    "jp-MarkdownHeadingCollapsed": true,
    "tags": []
   },
   "source": [
    "## 3. Launch Web UI\n",
    "Before running this cell, download models using `sd15_resource_lists.ipynb` or `sdxl_resource_lists.ipynb`.  \n",
    "Run this cell and wait until `Model loaded in **.*s ...` appears.  \n",
    "Then, click link `https://xxxxx-3001.proxy.runpod.net` or ngrok link `https://xxxxx.ngrok-free.app` to open Web UI.  \n",
    "Always watch the output log to track image generation progress or errors. "
   ]
  },
  {
   "cell_type": "code",
   "execution_count": null,
   "metadata": {
    "cellView": "form",
    "id": "V2Qh24u058h-",
    "tags": []
   },
   "outputs": [],
   "source": [
    "# Dark theme\n",
    "dark_theme = boolean[1]\n",
    "\n",
    "# Authentication (Recommended for security purposes)\n",
    "username = ''\n",
    "password = ''\n",
    "\n",
    "# Ngrok (Optional)\n",
    "ngrok_token = ''\n",
    "ngrok_domain = ''\n",
    "\n",
    "# CORS (Optional) \n",
    "# separate with commas\n",
    "cors = 'https://huchenlei.github.io'\n",
    "\n",
    "\n",
    "################################################################################################################\n",
    "\n",
    "launch_webui(dark_theme, username, password, ngrok_token, ngrok_domain, cors)"
   ]
  }
 ],
 "metadata": {
  "kernelspec": {
   "display_name": "Python 3 (ipykernel)",
   "language": "python",
   "name": "python3"
  },
  "language_info": {
   "codemirror_mode": {
    "name": "ipython",
    "version": 3
   },
   "file_extension": ".py",
   "mimetype": "text/x-python",
   "name": "python",
   "nbconvert_exporter": "python",
   "pygments_lexer": "ipython3",
   "version": "3.12.1"
  },
  "notebook_version": "2024.08.16",
  "toc-autonumbering": false,
  "toc-showcode": false,
  "toc-showmarkdowntxt": false,
  "toc-showtags": false,
  "widgets": {
   "application/vnd.jupyter.widget-state+json": {
    "state": {},
    "version_major": 2,
    "version_minor": 0
   }
  }
 },
 "nbformat": 4,
 "nbformat_minor": 4
}
